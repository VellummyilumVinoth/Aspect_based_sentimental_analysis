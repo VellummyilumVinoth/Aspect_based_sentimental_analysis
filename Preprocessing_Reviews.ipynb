{
  "nbformat": 4,
  "nbformat_minor": 0,
  "metadata": {
    "colab": {
      "provenance": [],
      "include_colab_link": true
    },
    "kernelspec": {
      "name": "python3",
      "display_name": "Python 3"
    },
    "language_info": {
      "name": "python"
    }
  },
  "cells": [
    {
      "cell_type": "markdown",
      "metadata": {
        "id": "view-in-github",
        "colab_type": "text"
      },
      "source": [
        "<a href=\"https://colab.research.google.com/github/VellummyilumVinoth/Aspect_based_sentimental_analysis/blob/main/Preprocessing_Reviews.ipynb\" target=\"_parent\"><img src=\"https://colab.research.google.com/assets/colab-badge.svg\" alt=\"Open In Colab\"/></a>"
      ]
    },
    {
      "cell_type": "code",
      "source": [
        "!pip install demoji"
      ],
      "metadata": {
        "colab": {
          "base_uri": "https://localhost:8080/"
        },
        "id": "BMB5fZjcomZh",
        "outputId": "c3c3ede8-f0db-47e7-c9df-97af10b82bf4"
      },
      "execution_count": 76,
      "outputs": [
        {
          "output_type": "stream",
          "name": "stdout",
          "text": [
            "Looking in indexes: https://pypi.org/simple, https://us-python.pkg.dev/colab-wheels/public/simple/\n",
            "Requirement already satisfied: demoji in /usr/local/lib/python3.10/dist-packages (1.1.0)\n"
          ]
        }
      ]
    },
    {
      "cell_type": "code",
      "source": [
        "import pandas as pd\n",
        "import demoji\n",
        "import nltk\n",
        "from nltk.corpus import stopwords\n",
        "from nltk.tokenize import word_tokenize\n",
        "from nltk.stem import PorterStemmer, WordNetLemmatizer"
      ],
      "metadata": {
        "id": "WGsHn9YCo7bI"
      },
      "execution_count": 77,
      "outputs": []
    },
    {
      "cell_type": "code",
      "source": [
        "from google.colab import drive\n",
        "drive.mount('/content/drive')"
      ],
      "metadata": {
        "colab": {
          "base_uri": "https://localhost:8080/"
        },
        "id": "tzW1BWVmoofa",
        "outputId": "77fb1d45-cc6d-4c95-9732-9785539cdf38"
      },
      "execution_count": 78,
      "outputs": [
        {
          "output_type": "stream",
          "name": "stdout",
          "text": [
            "Drive already mounted at /content/drive; to attempt to forcibly remount, call drive.mount(\"/content/drive\", force_remount=True).\n"
          ]
        }
      ]
    },
    {
      "cell_type": "code",
      "source": [
        "df = pd.read_csv('/content/drive/MyDrive/zidan/HealthAndHouseHold.csv')"
      ],
      "metadata": {
        "id": "znUiUS46EaYr"
      },
      "execution_count": 105,
      "outputs": []
    },
    {
      "cell_type": "code",
      "source": [
        "df.loc[27]"
      ],
      "metadata": {
        "colab": {
          "base_uri": "https://localhost:8080/"
        },
        "id": "7kUy5uvLpAI8",
        "outputId": "9e00113f-e1dc-49a0-e014-1af8d7eb26a9"
      },
      "execution_count": 106,
      "outputs": [
        {
          "output_type": "execute_result",
          "data": {
            "text/plain": [
              "web-scraper-order                                            1685180525-28\n",
              "web-scraper-start-url    https://www.amazon.com/s?i=specialty-aps&bbn=1...\n",
              "pagination               https://www.amazon.com/s?i=hpc-intl-ship&bbn=1...\n",
              "pagelink                 DUDE Wipes Flushable Wipes - 3 Pack, 144 Wipes...\n",
              "pagelink-href            https://www.amazon.com/Flushable-Dispenser-Uns...\n",
              "product_name             DUDE Wipes Flushable Wipes - 3 Pack, 144 Wipes...\n",
              "review                   ✨ Experience Freshness and Convenience with DU...\n",
              "Name: 27, dtype: object"
            ]
          },
          "metadata": {},
          "execution_count": 106
        }
      ]
    },
    {
      "cell_type": "code",
      "source": [
        "\n",
        "columns_to_keep = ['product_name', 'review']\n",
        "dataset = df[columns_to_keep]\n",
        "dataset.rename(columns={\"index\": \"id\"}, inplace=True)\n",
        "# reviews = dataset['review'].tolist()"
      ],
      "metadata": {
        "colab": {
          "base_uri": "https://localhost:8080/"
        },
        "id": "r5WFLqDIpT5o",
        "outputId": "1e96dcbd-6037-48e7-ebb1-c848d0c8a19c"
      },
      "execution_count": 107,
      "outputs": [
        {
          "output_type": "stream",
          "name": "stderr",
          "text": [
            "<ipython-input-107-64850eb2f6e0>:3: SettingWithCopyWarning: \n",
            "A value is trying to be set on a copy of a slice from a DataFrame\n",
            "\n",
            "See the caveats in the documentation: https://pandas.pydata.org/pandas-docs/stable/user_guide/indexing.html#returning-a-view-versus-a-copy\n",
            "  dataset.rename(columns={\"index\": \"id\"}, inplace=True)\n"
          ]
        }
      ]
    },
    {
      "cell_type": "code",
      "source": [
        "# Remove rows with any null values\n",
        "dataset = dataset.dropna().reset_index(drop=True)"
      ],
      "metadata": {
        "id": "kYvH9TdjqTvv"
      },
      "execution_count": 117,
      "outputs": []
    },
    {
      "cell_type": "code",
      "source": [
        "dataset.loc[25]"
      ],
      "metadata": {
        "colab": {
          "base_uri": "https://localhost:8080/"
        },
        "id": "Jy83YJKaEdmR",
        "outputId": "0a8472c3-6d61-4413-944d-07c57fc2c0cd"
      },
      "execution_count": 109,
      "outputs": [
        {
          "output_type": "execute_result",
          "data": {
            "text/plain": [
              "product_name    DUDE Wipes Flushable Wipes - 3 Pack, 144 Wipes...\n",
              "review          ✨ Experience Freshness and Convenience with DU...\n",
              "Name: 25, dtype: object"
            ]
          },
          "metadata": {},
          "execution_count": 109
        }
      ]
    },
    {
      "cell_type": "code",
      "source": [
        "# Download the demoji library's emoji descriptions (only required once)\n",
        "demoji.download_codes()\n",
        "\n",
        "# Define a function to replace emojis with their corresponding descriptions\n",
        "def replace_emojis(text):\n",
        "    emojis = demoji.findall(text)\n",
        "    \n",
        "    for emoji in emojis:\n",
        "        text = text.replace(emoji, \"\" + emojis[emoji].split(\":\")[0])\n",
        "\n",
        "    return text\n",
        "\n",
        "dataset['review'] = dataset['review'].astype(str)  # Convert to string type\n",
        "\n",
        "# Apply the function to the 'review' column\n",
        "dataset['review'] = dataset['review'].apply(replace_emojis)"
      ],
      "metadata": {
        "colab": {
          "base_uri": "https://localhost:8080/"
        },
        "id": "90xCU0TtrJll",
        "outputId": "e8c30a1c-78d2-4068-e15a-a7111ab71acf"
      },
      "execution_count": 110,
      "outputs": [
        {
          "output_type": "stream",
          "name": "stderr",
          "text": [
            "<ipython-input-110-ba78b55cf680>:2: FutureWarning: The demoji.download_codes attribute is deprecated and will be removed from demoji in a future version. It is an unused attribute as emoji codes are now distributed directly with the demoji package.\n",
            "  demoji.download_codes()\n"
          ]
        }
      ]
    },
    {
      "cell_type": "code",
      "source": [
        "dataset.loc[25]"
      ],
      "metadata": {
        "colab": {
          "base_uri": "https://localhost:8080/"
        },
        "id": "fBUXkCAhru_R",
        "outputId": "5f1ce38a-942c-4290-aadb-ccb735e7bd96"
      },
      "execution_count": 111,
      "outputs": [
        {
          "output_type": "execute_result",
          "data": {
            "text/plain": [
              "product_name    DUDE Wipes Flushable Wipes - 3 Pack, 144 Wipes...\n",
              "review          sparkles Experience Freshness and Convenience ...\n",
              "Name: 25, dtype: object"
            ]
          },
          "metadata": {},
          "execution_count": 111
        }
      ]
    },
    {
      "cell_type": "code",
      "source": [
        "\n",
        "# Download NLTK resources (only required once)\n",
        "nltk.download('punkt')\n",
        "nltk.download('stopwords')\n",
        "nltk.download('wordnet')\n",
        "\n",
        "# Initialize stemmer and lemmatizer\n",
        "stemmer = PorterStemmer()\n",
        "lemmatizer = WordNetLemmatizer()\n",
        "\n",
        "# Define a function to preprocess the text\n",
        "def preprocess_text(text):\n",
        "    # Lowercase the text\n",
        "    text = text.lower()\n",
        "    \n",
        "    # Tokenize the text into individual words\n",
        "    tokens = word_tokenize(text)\n",
        "    \n",
        "    # Remove stop words\n",
        "    stop_words = set(stopwords.words('english'))\n",
        "    tokens = [token for token in tokens if token not in stop_words]\n",
        "    \n",
        "    # Perform stemming and lemmatization\n",
        "    stemmed_tokens = [stemmer.stem(token) for token in tokens]\n",
        "    lemmatized_tokens = [lemmatizer.lemmatize(token) for token in stemmed_tokens]\n",
        "    \n",
        "    # Join the tokens back into a single string\n",
        "    preprocessed_text = ' '.join(lemmatized_tokens)\n",
        "    \n",
        "    return preprocessed_text\n",
        "\n",
        "# Apply the preprocessing function to the 'review' column\n",
        "dataset['review'] = dataset['review'].apply(preprocess_text)\n"
      ],
      "metadata": {
        "colab": {
          "base_uri": "https://localhost:8080/"
        },
        "id": "Aid5sS87vhNK",
        "outputId": "8c85811f-2801-45d0-98dc-c44dc5780fad"
      },
      "execution_count": 112,
      "outputs": [
        {
          "output_type": "stream",
          "name": "stderr",
          "text": [
            "[nltk_data] Downloading package punkt to /root/nltk_data...\n",
            "[nltk_data]   Package punkt is already up-to-date!\n",
            "[nltk_data] Downloading package stopwords to /root/nltk_data...\n",
            "[nltk_data]   Package stopwords is already up-to-date!\n",
            "[nltk_data] Downloading package wordnet to /root/nltk_data...\n",
            "[nltk_data]   Package wordnet is already up-to-date!\n"
          ]
        }
      ]
    },
    {
      "cell_type": "code",
      "source": [
        "dataset.head(10)"
      ],
      "metadata": {
        "colab": {
          "base_uri": "https://localhost:8080/",
          "height": 363
        },
        "id": "e7QCqQi6xFyG",
        "outputId": "3c8463ac-cb0b-481d-9611-fd15956e7506"
      },
      "execution_count": 113,
      "outputs": [
        {
          "output_type": "execute_result",
          "data": {
            "text/plain": [
              "                                        product_name  \\\n",
              "0  Salate Cordless Electric Spin Scrubber, Electr...   \n",
              "1  Salate Cordless Electric Spin Scrubber, Electr...   \n",
              "2  Salate Cordless Electric Spin Scrubber, Electr...   \n",
              "3  Salate Cordless Electric Spin Scrubber, Electr...   \n",
              "4  Salate Cordless Electric Spin Scrubber, Electr...   \n",
              "5  Salate Cordless Electric Spin Scrubber, Electr...   \n",
              "6  Salate Cordless Electric Spin Scrubber, Electr...   \n",
              "7  Salate Cordless Electric Spin Scrubber, Electr...   \n",
              "8  Charmin Ultra Strong Clean Touch Toilet Paper,...   \n",
              "9  Charmin Ultra Strong Clean Touch Toilet Paper,...   \n",
              "\n",
              "                                              review  \n",
              "0  absolut love wireless electr spin scrubber ! m...  \n",
              "1  use clean bathroom work wonder … stress much h...  \n",
              "2  electr brush make clean much easier . scrub on...  \n",
              "3  electr spin scrubber perfect ! use clean batht...  \n",
              "4  ’ like clean machin help lot.it ’ easi use cle...  \n",
              "5  realli made life much easi ! easi use pretti e...  \n",
              "6  far 've use power scrubber coupl time given sa...  \n",
              "7  like clean kitchen . machin help lot . easi ho...  \n",
              "8  ladi gentleman , get readi review leav edg sea...  \n",
              "9  oh , ultra strong toilet paper , protect hand ...  "
            ],
            "text/html": [
              "\n",
              "  <div id=\"df-3aac0883-8293-43eb-bea1-39ae2784ef57\">\n",
              "    <div class=\"colab-df-container\">\n",
              "      <div>\n",
              "<style scoped>\n",
              "    .dataframe tbody tr th:only-of-type {\n",
              "        vertical-align: middle;\n",
              "    }\n",
              "\n",
              "    .dataframe tbody tr th {\n",
              "        vertical-align: top;\n",
              "    }\n",
              "\n",
              "    .dataframe thead th {\n",
              "        text-align: right;\n",
              "    }\n",
              "</style>\n",
              "<table border=\"1\" class=\"dataframe\">\n",
              "  <thead>\n",
              "    <tr style=\"text-align: right;\">\n",
              "      <th></th>\n",
              "      <th>product_name</th>\n",
              "      <th>review</th>\n",
              "    </tr>\n",
              "  </thead>\n",
              "  <tbody>\n",
              "    <tr>\n",
              "      <th>0</th>\n",
              "      <td>Salate Cordless Electric Spin Scrubber, Electr...</td>\n",
              "      <td>absolut love wireless electr spin scrubber ! m...</td>\n",
              "    </tr>\n",
              "    <tr>\n",
              "      <th>1</th>\n",
              "      <td>Salate Cordless Electric Spin Scrubber, Electr...</td>\n",
              "      <td>use clean bathroom work wonder … stress much h...</td>\n",
              "    </tr>\n",
              "    <tr>\n",
              "      <th>2</th>\n",
              "      <td>Salate Cordless Electric Spin Scrubber, Electr...</td>\n",
              "      <td>electr brush make clean much easier . scrub on...</td>\n",
              "    </tr>\n",
              "    <tr>\n",
              "      <th>3</th>\n",
              "      <td>Salate Cordless Electric Spin Scrubber, Electr...</td>\n",
              "      <td>electr spin scrubber perfect ! use clean batht...</td>\n",
              "    </tr>\n",
              "    <tr>\n",
              "      <th>4</th>\n",
              "      <td>Salate Cordless Electric Spin Scrubber, Electr...</td>\n",
              "      <td>’ like clean machin help lot.it ’ easi use cle...</td>\n",
              "    </tr>\n",
              "    <tr>\n",
              "      <th>5</th>\n",
              "      <td>Salate Cordless Electric Spin Scrubber, Electr...</td>\n",
              "      <td>realli made life much easi ! easi use pretti e...</td>\n",
              "    </tr>\n",
              "    <tr>\n",
              "      <th>6</th>\n",
              "      <td>Salate Cordless Electric Spin Scrubber, Electr...</td>\n",
              "      <td>far 've use power scrubber coupl time given sa...</td>\n",
              "    </tr>\n",
              "    <tr>\n",
              "      <th>7</th>\n",
              "      <td>Salate Cordless Electric Spin Scrubber, Electr...</td>\n",
              "      <td>like clean kitchen . machin help lot . easi ho...</td>\n",
              "    </tr>\n",
              "    <tr>\n",
              "      <th>8</th>\n",
              "      <td>Charmin Ultra Strong Clean Touch Toilet Paper,...</td>\n",
              "      <td>ladi gentleman , get readi review leav edg sea...</td>\n",
              "    </tr>\n",
              "    <tr>\n",
              "      <th>9</th>\n",
              "      <td>Charmin Ultra Strong Clean Touch Toilet Paper,...</td>\n",
              "      <td>oh , ultra strong toilet paper , protect hand ...</td>\n",
              "    </tr>\n",
              "  </tbody>\n",
              "</table>\n",
              "</div>\n",
              "      <button class=\"colab-df-convert\" onclick=\"convertToInteractive('df-3aac0883-8293-43eb-bea1-39ae2784ef57')\"\n",
              "              title=\"Convert this dataframe to an interactive table.\"\n",
              "              style=\"display:none;\">\n",
              "        \n",
              "  <svg xmlns=\"http://www.w3.org/2000/svg\" height=\"24px\"viewBox=\"0 0 24 24\"\n",
              "       width=\"24px\">\n",
              "    <path d=\"M0 0h24v24H0V0z\" fill=\"none\"/>\n",
              "    <path d=\"M18.56 5.44l.94 2.06.94-2.06 2.06-.94-2.06-.94-.94-2.06-.94 2.06-2.06.94zm-11 1L8.5 8.5l.94-2.06 2.06-.94-2.06-.94L8.5 2.5l-.94 2.06-2.06.94zm10 10l.94 2.06.94-2.06 2.06-.94-2.06-.94-.94-2.06-.94 2.06-2.06.94z\"/><path d=\"M17.41 7.96l-1.37-1.37c-.4-.4-.92-.59-1.43-.59-.52 0-1.04.2-1.43.59L10.3 9.45l-7.72 7.72c-.78.78-.78 2.05 0 2.83L4 21.41c.39.39.9.59 1.41.59.51 0 1.02-.2 1.41-.59l7.78-7.78 2.81-2.81c.8-.78.8-2.07 0-2.86zM5.41 20L4 18.59l7.72-7.72 1.47 1.35L5.41 20z\"/>\n",
              "  </svg>\n",
              "      </button>\n",
              "      \n",
              "  <style>\n",
              "    .colab-df-container {\n",
              "      display:flex;\n",
              "      flex-wrap:wrap;\n",
              "      gap: 12px;\n",
              "    }\n",
              "\n",
              "    .colab-df-convert {\n",
              "      background-color: #E8F0FE;\n",
              "      border: none;\n",
              "      border-radius: 50%;\n",
              "      cursor: pointer;\n",
              "      display: none;\n",
              "      fill: #1967D2;\n",
              "      height: 32px;\n",
              "      padding: 0 0 0 0;\n",
              "      width: 32px;\n",
              "    }\n",
              "\n",
              "    .colab-df-convert:hover {\n",
              "      background-color: #E2EBFA;\n",
              "      box-shadow: 0px 1px 2px rgba(60, 64, 67, 0.3), 0px 1px 3px 1px rgba(60, 64, 67, 0.15);\n",
              "      fill: #174EA6;\n",
              "    }\n",
              "\n",
              "    [theme=dark] .colab-df-convert {\n",
              "      background-color: #3B4455;\n",
              "      fill: #D2E3FC;\n",
              "    }\n",
              "\n",
              "    [theme=dark] .colab-df-convert:hover {\n",
              "      background-color: #434B5C;\n",
              "      box-shadow: 0px 1px 3px 1px rgba(0, 0, 0, 0.15);\n",
              "      filter: drop-shadow(0px 1px 2px rgba(0, 0, 0, 0.3));\n",
              "      fill: #FFFFFF;\n",
              "    }\n",
              "  </style>\n",
              "\n",
              "      <script>\n",
              "        const buttonEl =\n",
              "          document.querySelector('#df-3aac0883-8293-43eb-bea1-39ae2784ef57 button.colab-df-convert');\n",
              "        buttonEl.style.display =\n",
              "          google.colab.kernel.accessAllowed ? 'block' : 'none';\n",
              "\n",
              "        async function convertToInteractive(key) {\n",
              "          const element = document.querySelector('#df-3aac0883-8293-43eb-bea1-39ae2784ef57');\n",
              "          const dataTable =\n",
              "            await google.colab.kernel.invokeFunction('convertToInteractive',\n",
              "                                                     [key], {});\n",
              "          if (!dataTable) return;\n",
              "\n",
              "          const docLinkHtml = 'Like what you see? Visit the ' +\n",
              "            '<a target=\"_blank\" href=https://colab.research.google.com/notebooks/data_table.ipynb>data table notebook</a>'\n",
              "            + ' to learn more about interactive tables.';\n",
              "          element.innerHTML = '';\n",
              "          dataTable['output_type'] = 'display_data';\n",
              "          await google.colab.output.renderOutput(dataTable, element);\n",
              "          const docLink = document.createElement('div');\n",
              "          docLink.innerHTML = docLinkHtml;\n",
              "          element.appendChild(docLink);\n",
              "        }\n",
              "      </script>\n",
              "    </div>\n",
              "  </div>\n",
              "  "
            ]
          },
          "metadata": {},
          "execution_count": 113
        }
      ]
    },
    {
      "cell_type": "code",
      "source": [
        "import re\n",
        "# Define a function to remove symbols\n",
        "def remove_symbols(text):\n",
        "    # Define the pattern to match the symbols you want to remove\n",
        "    pattern = r'[,\"\\'’\\.!:;…_+=@#$%^&*{\\[()\\]}]'\n",
        "    \n",
        "    # Remove the symbols using regular expressions\n",
        "    text = re.sub(pattern, '', text)\n",
        "    \n",
        "    return text\n",
        "\n",
        "# Apply the function to the 'review' column\n",
        "dataset['review'] = dataset['review'].apply(remove_symbols)"
      ],
      "metadata": {
        "id": "64CLXXJfxxxJ"
      },
      "execution_count": 114,
      "outputs": []
    },
    {
      "cell_type": "code",
      "source": [
        "dataset.head(100)"
      ],
      "metadata": {
        "colab": {
          "base_uri": "https://localhost:8080/",
          "height": 2009
        },
        "id": "u7QCGSrux3Ws",
        "outputId": "76425238-d7f8-498b-b052-e24d680c657f"
      },
      "execution_count": 118,
      "outputs": [
        {
          "output_type": "execute_result",
          "data": {
            "text/plain": [
              "                                         product_name  \\\n",
              "0   Salate Cordless Electric Spin Scrubber, Electr...   \n",
              "1   Salate Cordless Electric Spin Scrubber, Electr...   \n",
              "2   Salate Cordless Electric Spin Scrubber, Electr...   \n",
              "3   Salate Cordless Electric Spin Scrubber, Electr...   \n",
              "4   Salate Cordless Electric Spin Scrubber, Electr...   \n",
              "..                                                ...   \n",
              "95  Cottonelle Ultra Comfort Toilet Paper with Cus...   \n",
              "96  Dixie 10 Inch Paper Plates, Dinner Size Printe...   \n",
              "97  Dixie 10 Inch Paper Plates, Dinner Size Printe...   \n",
              "98  Dixie 10 Inch Paper Plates, Dinner Size Printe...   \n",
              "99  Dixie 10 Inch Paper Plates, Dinner Size Printe...   \n",
              "\n",
              "                                               review  \n",
              "0   absolut love wireless electr spin scrubber  ma...  \n",
              "1   use clean bathroom work wonder  stress much ha...  \n",
              "2   electr brush make clean much easier  scrub one...  \n",
              "3   electr spin scrubber perfect  use clean bathtu...  \n",
              "4    like clean machin help lotit  easi use clean ...  \n",
              "..                                                ...  \n",
              "95                          price okay  prefer brand   \n",
              "96  purchas plate  great  use warm food microwav s...  \n",
              "97                           dixi fine brand  depend   \n",
              "98  realli function  work much better flat paper p...  \n",
              "99                                 heavi duti  sturdi  \n",
              "\n",
              "[100 rows x 2 columns]"
            ],
            "text/html": [
              "\n",
              "  <div id=\"df-8f0ae123-94ac-4a70-af7e-c0d49b52f21d\">\n",
              "    <div class=\"colab-df-container\">\n",
              "      <div>\n",
              "<style scoped>\n",
              "    .dataframe tbody tr th:only-of-type {\n",
              "        vertical-align: middle;\n",
              "    }\n",
              "\n",
              "    .dataframe tbody tr th {\n",
              "        vertical-align: top;\n",
              "    }\n",
              "\n",
              "    .dataframe thead th {\n",
              "        text-align: right;\n",
              "    }\n",
              "</style>\n",
              "<table border=\"1\" class=\"dataframe\">\n",
              "  <thead>\n",
              "    <tr style=\"text-align: right;\">\n",
              "      <th></th>\n",
              "      <th>product_name</th>\n",
              "      <th>review</th>\n",
              "    </tr>\n",
              "  </thead>\n",
              "  <tbody>\n",
              "    <tr>\n",
              "      <th>0</th>\n",
              "      <td>Salate Cordless Electric Spin Scrubber, Electr...</td>\n",
              "      <td>absolut love wireless electr spin scrubber  ma...</td>\n",
              "    </tr>\n",
              "    <tr>\n",
              "      <th>1</th>\n",
              "      <td>Salate Cordless Electric Spin Scrubber, Electr...</td>\n",
              "      <td>use clean bathroom work wonder  stress much ha...</td>\n",
              "    </tr>\n",
              "    <tr>\n",
              "      <th>2</th>\n",
              "      <td>Salate Cordless Electric Spin Scrubber, Electr...</td>\n",
              "      <td>electr brush make clean much easier  scrub one...</td>\n",
              "    </tr>\n",
              "    <tr>\n",
              "      <th>3</th>\n",
              "      <td>Salate Cordless Electric Spin Scrubber, Electr...</td>\n",
              "      <td>electr spin scrubber perfect  use clean bathtu...</td>\n",
              "    </tr>\n",
              "    <tr>\n",
              "      <th>4</th>\n",
              "      <td>Salate Cordless Electric Spin Scrubber, Electr...</td>\n",
              "      <td>like clean machin help lotit  easi use clean ...</td>\n",
              "    </tr>\n",
              "    <tr>\n",
              "      <th>...</th>\n",
              "      <td>...</td>\n",
              "      <td>...</td>\n",
              "    </tr>\n",
              "    <tr>\n",
              "      <th>95</th>\n",
              "      <td>Cottonelle Ultra Comfort Toilet Paper with Cus...</td>\n",
              "      <td>price okay  prefer brand</td>\n",
              "    </tr>\n",
              "    <tr>\n",
              "      <th>96</th>\n",
              "      <td>Dixie 10 Inch Paper Plates, Dinner Size Printe...</td>\n",
              "      <td>purchas plate  great  use warm food microwav s...</td>\n",
              "    </tr>\n",
              "    <tr>\n",
              "      <th>97</th>\n",
              "      <td>Dixie 10 Inch Paper Plates, Dinner Size Printe...</td>\n",
              "      <td>dixi fine brand  depend</td>\n",
              "    </tr>\n",
              "    <tr>\n",
              "      <th>98</th>\n",
              "      <td>Dixie 10 Inch Paper Plates, Dinner Size Printe...</td>\n",
              "      <td>realli function  work much better flat paper p...</td>\n",
              "    </tr>\n",
              "    <tr>\n",
              "      <th>99</th>\n",
              "      <td>Dixie 10 Inch Paper Plates, Dinner Size Printe...</td>\n",
              "      <td>heavi duti  sturdi</td>\n",
              "    </tr>\n",
              "  </tbody>\n",
              "</table>\n",
              "<p>100 rows × 2 columns</p>\n",
              "</div>\n",
              "      <button class=\"colab-df-convert\" onclick=\"convertToInteractive('df-8f0ae123-94ac-4a70-af7e-c0d49b52f21d')\"\n",
              "              title=\"Convert this dataframe to an interactive table.\"\n",
              "              style=\"display:none;\">\n",
              "        \n",
              "  <svg xmlns=\"http://www.w3.org/2000/svg\" height=\"24px\"viewBox=\"0 0 24 24\"\n",
              "       width=\"24px\">\n",
              "    <path d=\"M0 0h24v24H0V0z\" fill=\"none\"/>\n",
              "    <path d=\"M18.56 5.44l.94 2.06.94-2.06 2.06-.94-2.06-.94-.94-2.06-.94 2.06-2.06.94zm-11 1L8.5 8.5l.94-2.06 2.06-.94-2.06-.94L8.5 2.5l-.94 2.06-2.06.94zm10 10l.94 2.06.94-2.06 2.06-.94-2.06-.94-.94-2.06-.94 2.06-2.06.94z\"/><path d=\"M17.41 7.96l-1.37-1.37c-.4-.4-.92-.59-1.43-.59-.52 0-1.04.2-1.43.59L10.3 9.45l-7.72 7.72c-.78.78-.78 2.05 0 2.83L4 21.41c.39.39.9.59 1.41.59.51 0 1.02-.2 1.41-.59l7.78-7.78 2.81-2.81c.8-.78.8-2.07 0-2.86zM5.41 20L4 18.59l7.72-7.72 1.47 1.35L5.41 20z\"/>\n",
              "  </svg>\n",
              "      </button>\n",
              "      \n",
              "  <style>\n",
              "    .colab-df-container {\n",
              "      display:flex;\n",
              "      flex-wrap:wrap;\n",
              "      gap: 12px;\n",
              "    }\n",
              "\n",
              "    .colab-df-convert {\n",
              "      background-color: #E8F0FE;\n",
              "      border: none;\n",
              "      border-radius: 50%;\n",
              "      cursor: pointer;\n",
              "      display: none;\n",
              "      fill: #1967D2;\n",
              "      height: 32px;\n",
              "      padding: 0 0 0 0;\n",
              "      width: 32px;\n",
              "    }\n",
              "\n",
              "    .colab-df-convert:hover {\n",
              "      background-color: #E2EBFA;\n",
              "      box-shadow: 0px 1px 2px rgba(60, 64, 67, 0.3), 0px 1px 3px 1px rgba(60, 64, 67, 0.15);\n",
              "      fill: #174EA6;\n",
              "    }\n",
              "\n",
              "    [theme=dark] .colab-df-convert {\n",
              "      background-color: #3B4455;\n",
              "      fill: #D2E3FC;\n",
              "    }\n",
              "\n",
              "    [theme=dark] .colab-df-convert:hover {\n",
              "      background-color: #434B5C;\n",
              "      box-shadow: 0px 1px 3px 1px rgba(0, 0, 0, 0.15);\n",
              "      filter: drop-shadow(0px 1px 2px rgba(0, 0, 0, 0.3));\n",
              "      fill: #FFFFFF;\n",
              "    }\n",
              "  </style>\n",
              "\n",
              "      <script>\n",
              "        const buttonEl =\n",
              "          document.querySelector('#df-8f0ae123-94ac-4a70-af7e-c0d49b52f21d button.colab-df-convert');\n",
              "        buttonEl.style.display =\n",
              "          google.colab.kernel.accessAllowed ? 'block' : 'none';\n",
              "\n",
              "        async function convertToInteractive(key) {\n",
              "          const element = document.querySelector('#df-8f0ae123-94ac-4a70-af7e-c0d49b52f21d');\n",
              "          const dataTable =\n",
              "            await google.colab.kernel.invokeFunction('convertToInteractive',\n",
              "                                                     [key], {});\n",
              "          if (!dataTable) return;\n",
              "\n",
              "          const docLinkHtml = 'Like what you see? Visit the ' +\n",
              "            '<a target=\"_blank\" href=https://colab.research.google.com/notebooks/data_table.ipynb>data table notebook</a>'\n",
              "            + ' to learn more about interactive tables.';\n",
              "          element.innerHTML = '';\n",
              "          dataTable['output_type'] = 'display_data';\n",
              "          await google.colab.output.renderOutput(dataTable, element);\n",
              "          const docLink = document.createElement('div');\n",
              "          docLink.innerHTML = docLinkHtml;\n",
              "          element.appendChild(docLink);\n",
              "        }\n",
              "      </script>\n",
              "    </div>\n",
              "  </div>\n",
              "  "
            ]
          },
          "metadata": {},
          "execution_count": 118
        }
      ]
    },
    {
      "cell_type": "code",
      "source": [
        "# Specify the path and filename for saving the CSV file\n",
        "save_path = '/content/drive/MyDrive/zidan/preprocessed_data.csv'\n",
        "\n",
        "# Save the preprocessed data to CSV\n",
        "dataset.to_csv(save_path, index=False)"
      ],
      "metadata": {
        "id": "7dHHZrC9zF-g"
      },
      "execution_count": 119,
      "outputs": []
    }
  ]
}