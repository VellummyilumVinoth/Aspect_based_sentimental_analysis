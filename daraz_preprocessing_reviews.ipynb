{
  "nbformat": 4,
  "nbformat_minor": 0,
  "metadata": {
    "colab": {
      "provenance": [],
      "gpuType": "T4",
      "include_colab_link": true
    },
    "kernelspec": {
      "name": "python3",
      "display_name": "Python 3"
    },
    "language_info": {
      "name": "python"
    },
    "accelerator": "GPU"
  },
  "cells": [
    {
      "cell_type": "markdown",
      "metadata": {
        "id": "view-in-github",
        "colab_type": "text"
      },
      "source": [
        "<a href=\"https://colab.research.google.com/github/VellummyilumVinoth/Aspect_based_sentimental_analysis/blob/main/daraz_preprocessing_reviews.ipynb\" target=\"_parent\"><img src=\"https://colab.research.google.com/assets/colab-badge.svg\" alt=\"Open In Colab\"/></a>"
      ]
    },
    {
      "cell_type": "code",
      "source": [
        "!pip install demoji"
      ],
      "metadata": {
        "colab": {
          "base_uri": "https://localhost:8080/"
        },
        "id": "BMB5fZjcomZh",
        "outputId": "589ec88a-7248-4727-f182-398a33b69e43"
      },
      "execution_count": 1,
      "outputs": [
        {
          "output_type": "stream",
          "name": "stdout",
          "text": [
            "Looking in indexes: https://pypi.org/simple, https://us-python.pkg.dev/colab-wheels/public/simple/\n",
            "Collecting demoji\n",
            "  Downloading demoji-1.1.0-py3-none-any.whl (42 kB)\n",
            "\u001b[2K     \u001b[90m━━━━━━━━━━━━━━━━━━━━━━━━━━━━━━━━━━━━━━━━\u001b[0m \u001b[32m42.9/42.9 kB\u001b[0m \u001b[31m3.0 MB/s\u001b[0m eta \u001b[36m0:00:00\u001b[0m\n",
            "\u001b[?25hInstalling collected packages: demoji\n",
            "Successfully installed demoji-1.1.0\n"
          ]
        }
      ]
    },
    {
      "cell_type": "code",
      "source": [
        "import pandas as pd\n",
        "import demoji\n",
        "import nltk\n",
        "from nltk.corpus import stopwords\n",
        "from nltk.tokenize import word_tokenize\n",
        "from nltk.stem import PorterStemmer, WordNetLemmatizer"
      ],
      "metadata": {
        "id": "WGsHn9YCo7bI"
      },
      "execution_count": 2,
      "outputs": []
    },
    {
      "cell_type": "code",
      "source": [
        "from google.colab import drive\n",
        "drive.mount('/content/drive')"
      ],
      "metadata": {
        "colab": {
          "base_uri": "https://localhost:8080/"
        },
        "id": "tzW1BWVmoofa",
        "outputId": "71cdd701-a920-4bfe-81ec-02089bdfaba0"
      },
      "execution_count": 3,
      "outputs": [
        {
          "output_type": "stream",
          "name": "stdout",
          "text": [
            "Mounted at /content/drive\n"
          ]
        }
      ]
    },
    {
      "cell_type": "code",
      "source": [
        "data = pd.read_excel('/content/drive/MyDrive/zidan/DarazGroceryProductDataSet.xlsx')\n"
      ],
      "metadata": {
        "id": "ytJvBFBecQMl"
      },
      "execution_count": 4,
      "outputs": []
    },
    {
      "cell_type": "code",
      "source": [
        "dataset = data.to_csv('/content/drive/MyDrive/zidan/DarazGroceryProductDataSet.csv', index = False)"
      ],
      "metadata": {
        "id": "znUiUS46EaYr"
      },
      "execution_count": 9,
      "outputs": []
    },
    {
      "cell_type": "code",
      "source": [
        "dataset = pd.read_csv('/content/drive/MyDrive/zidan/DarazGroceryProductDataSet.csv')"
      ],
      "metadata": {
        "id": "1KGk3Bqgc99W"
      },
      "execution_count": 10,
      "outputs": []
    },
    {
      "cell_type": "code",
      "source": [
        "dataset"
      ],
      "metadata": {
        "colab": {
          "base_uri": "https://localhost:8080/",
          "height": 424
        },
        "id": "7kUy5uvLpAI8",
        "outputId": "2095bbbd-4351-4a1f-cde5-d4b85493ad78"
      },
      "execution_count": 11,
      "outputs": [
        {
          "output_type": "execute_result",
          "data": {
            "text/plain": [
              "                                           Product Name    Category  Rating  \\\n",
              "0                    Sunlight Care Detergent Liquid, 1L     Laundry     1.0   \n",
              "1                    Sunlight Care Detergent Liquid, 1L     Laundry     5.0   \n",
              "2                    Sunlight Care Detergent Liquid, 1L     Laundry     5.0   \n",
              "3                    Sunlight Care Detergent Liquid, 1L     Laundry     1.0   \n",
              "4                    Sunlight Care Detergent Liquid, 1L     Laundry     5.0   \n",
              "...                                                 ...         ...     ...   \n",
              "1838  Sustagen Nutritional Supplement Chocolate Flav...  MilkPowder     4.0   \n",
              "1839  Sustagen Nutritional Supplement Chocolate Flav...  MilkPowder     4.0   \n",
              "1840  Sustagen Nutritional Supplement Chocolate Flav...  MilkPowder     3.0   \n",
              "1841  Sustagen Nutritional Supplement Chocolate Flav...  MilkPowder     4.0   \n",
              "1842  Sustagen Nutritional Supplement Chocolate Flav...  MilkPowder     2.0   \n",
              "\n",
              "       Reviewer Name                                             Review  \n",
              "0           Eranga D  I purchased 2 bottles. Both seem partially use...  \n",
              "1          Suranga Y  Very fast & safe delivery . Neet packing. I wi...  \n",
              "2           Ishini F  Fast delivery during this pandemic. Got the pr...  \n",
              "3              Dr. K  Alot of liquid has leaked.im very much disappo...  \n",
              "4         Rajitha S.  Thank you very much !! I received my package t...  \n",
              "...              ...                                                ...  \n",
              "1838    by ******576              very good product value for the price  \n",
              "1839   by ruchira K.  Delivery within 1day to Tangalle... well packe...  \n",
              "1840  by Sivathas J.                      high quality reasonable price  \n",
              "1841   by Poornamith  Excellent packaging. And it was delivered quic...  \n",
              "1842      by Disnaka  It's not regarding product. all the canisters ...  \n",
              "\n",
              "[1843 rows x 5 columns]"
            ],
            "text/html": [
              "\n",
              "  <div id=\"df-8a335fc2-ba1c-46e5-8dc4-d71651acd924\">\n",
              "    <div class=\"colab-df-container\">\n",
              "      <div>\n",
              "<style scoped>\n",
              "    .dataframe tbody tr th:only-of-type {\n",
              "        vertical-align: middle;\n",
              "    }\n",
              "\n",
              "    .dataframe tbody tr th {\n",
              "        vertical-align: top;\n",
              "    }\n",
              "\n",
              "    .dataframe thead th {\n",
              "        text-align: right;\n",
              "    }\n",
              "</style>\n",
              "<table border=\"1\" class=\"dataframe\">\n",
              "  <thead>\n",
              "    <tr style=\"text-align: right;\">\n",
              "      <th></th>\n",
              "      <th>Product Name</th>\n",
              "      <th>Category</th>\n",
              "      <th>Rating</th>\n",
              "      <th>Reviewer Name</th>\n",
              "      <th>Review</th>\n",
              "    </tr>\n",
              "  </thead>\n",
              "  <tbody>\n",
              "    <tr>\n",
              "      <th>0</th>\n",
              "      <td>Sunlight Care Detergent Liquid, 1L</td>\n",
              "      <td>Laundry</td>\n",
              "      <td>1.0</td>\n",
              "      <td>Eranga D</td>\n",
              "      <td>I purchased 2 bottles. Both seem partially use...</td>\n",
              "    </tr>\n",
              "    <tr>\n",
              "      <th>1</th>\n",
              "      <td>Sunlight Care Detergent Liquid, 1L</td>\n",
              "      <td>Laundry</td>\n",
              "      <td>5.0</td>\n",
              "      <td>Suranga Y</td>\n",
              "      <td>Very fast &amp; safe delivery . Neet packing. I wi...</td>\n",
              "    </tr>\n",
              "    <tr>\n",
              "      <th>2</th>\n",
              "      <td>Sunlight Care Detergent Liquid, 1L</td>\n",
              "      <td>Laundry</td>\n",
              "      <td>5.0</td>\n",
              "      <td>Ishini F</td>\n",
              "      <td>Fast delivery during this pandemic. Got the pr...</td>\n",
              "    </tr>\n",
              "    <tr>\n",
              "      <th>3</th>\n",
              "      <td>Sunlight Care Detergent Liquid, 1L</td>\n",
              "      <td>Laundry</td>\n",
              "      <td>1.0</td>\n",
              "      <td>Dr. K</td>\n",
              "      <td>Alot of liquid has leaked.im very much disappo...</td>\n",
              "    </tr>\n",
              "    <tr>\n",
              "      <th>4</th>\n",
              "      <td>Sunlight Care Detergent Liquid, 1L</td>\n",
              "      <td>Laundry</td>\n",
              "      <td>5.0</td>\n",
              "      <td>Rajitha S.</td>\n",
              "      <td>Thank you very much !! I received my package t...</td>\n",
              "    </tr>\n",
              "    <tr>\n",
              "      <th>...</th>\n",
              "      <td>...</td>\n",
              "      <td>...</td>\n",
              "      <td>...</td>\n",
              "      <td>...</td>\n",
              "      <td>...</td>\n",
              "    </tr>\n",
              "    <tr>\n",
              "      <th>1838</th>\n",
              "      <td>Sustagen Nutritional Supplement Chocolate Flav...</td>\n",
              "      <td>MilkPowder</td>\n",
              "      <td>4.0</td>\n",
              "      <td>by ******576</td>\n",
              "      <td>very good product value for the price</td>\n",
              "    </tr>\n",
              "    <tr>\n",
              "      <th>1839</th>\n",
              "      <td>Sustagen Nutritional Supplement Chocolate Flav...</td>\n",
              "      <td>MilkPowder</td>\n",
              "      <td>4.0</td>\n",
              "      <td>by ruchira K.</td>\n",
              "      <td>Delivery within 1day to Tangalle... well packe...</td>\n",
              "    </tr>\n",
              "    <tr>\n",
              "      <th>1840</th>\n",
              "      <td>Sustagen Nutritional Supplement Chocolate Flav...</td>\n",
              "      <td>MilkPowder</td>\n",
              "      <td>3.0</td>\n",
              "      <td>by Sivathas J.</td>\n",
              "      <td>high quality reasonable price</td>\n",
              "    </tr>\n",
              "    <tr>\n",
              "      <th>1841</th>\n",
              "      <td>Sustagen Nutritional Supplement Chocolate Flav...</td>\n",
              "      <td>MilkPowder</td>\n",
              "      <td>4.0</td>\n",
              "      <td>by Poornamith</td>\n",
              "      <td>Excellent packaging. And it was delivered quic...</td>\n",
              "    </tr>\n",
              "    <tr>\n",
              "      <th>1842</th>\n",
              "      <td>Sustagen Nutritional Supplement Chocolate Flav...</td>\n",
              "      <td>MilkPowder</td>\n",
              "      <td>2.0</td>\n",
              "      <td>by Disnaka</td>\n",
              "      <td>It's not regarding product. all the canisters ...</td>\n",
              "    </tr>\n",
              "  </tbody>\n",
              "</table>\n",
              "<p>1843 rows × 5 columns</p>\n",
              "</div>\n",
              "      <button class=\"colab-df-convert\" onclick=\"convertToInteractive('df-8a335fc2-ba1c-46e5-8dc4-d71651acd924')\"\n",
              "              title=\"Convert this dataframe to an interactive table.\"\n",
              "              style=\"display:none;\">\n",
              "        \n",
              "  <svg xmlns=\"http://www.w3.org/2000/svg\" height=\"24px\"viewBox=\"0 0 24 24\"\n",
              "       width=\"24px\">\n",
              "    <path d=\"M0 0h24v24H0V0z\" fill=\"none\"/>\n",
              "    <path d=\"M18.56 5.44l.94 2.06.94-2.06 2.06-.94-2.06-.94-.94-2.06-.94 2.06-2.06.94zm-11 1L8.5 8.5l.94-2.06 2.06-.94-2.06-.94L8.5 2.5l-.94 2.06-2.06.94zm10 10l.94 2.06.94-2.06 2.06-.94-2.06-.94-.94-2.06-.94 2.06-2.06.94z\"/><path d=\"M17.41 7.96l-1.37-1.37c-.4-.4-.92-.59-1.43-.59-.52 0-1.04.2-1.43.59L10.3 9.45l-7.72 7.72c-.78.78-.78 2.05 0 2.83L4 21.41c.39.39.9.59 1.41.59.51 0 1.02-.2 1.41-.59l7.78-7.78 2.81-2.81c.8-.78.8-2.07 0-2.86zM5.41 20L4 18.59l7.72-7.72 1.47 1.35L5.41 20z\"/>\n",
              "  </svg>\n",
              "      </button>\n",
              "      \n",
              "  <style>\n",
              "    .colab-df-container {\n",
              "      display:flex;\n",
              "      flex-wrap:wrap;\n",
              "      gap: 12px;\n",
              "    }\n",
              "\n",
              "    .colab-df-convert {\n",
              "      background-color: #E8F0FE;\n",
              "      border: none;\n",
              "      border-radius: 50%;\n",
              "      cursor: pointer;\n",
              "      display: none;\n",
              "      fill: #1967D2;\n",
              "      height: 32px;\n",
              "      padding: 0 0 0 0;\n",
              "      width: 32px;\n",
              "    }\n",
              "\n",
              "    .colab-df-convert:hover {\n",
              "      background-color: #E2EBFA;\n",
              "      box-shadow: 0px 1px 2px rgba(60, 64, 67, 0.3), 0px 1px 3px 1px rgba(60, 64, 67, 0.15);\n",
              "      fill: #174EA6;\n",
              "    }\n",
              "\n",
              "    [theme=dark] .colab-df-convert {\n",
              "      background-color: #3B4455;\n",
              "      fill: #D2E3FC;\n",
              "    }\n",
              "\n",
              "    [theme=dark] .colab-df-convert:hover {\n",
              "      background-color: #434B5C;\n",
              "      box-shadow: 0px 1px 3px 1px rgba(0, 0, 0, 0.15);\n",
              "      filter: drop-shadow(0px 1px 2px rgba(0, 0, 0, 0.3));\n",
              "      fill: #FFFFFF;\n",
              "    }\n",
              "  </style>\n",
              "\n",
              "      <script>\n",
              "        const buttonEl =\n",
              "          document.querySelector('#df-8a335fc2-ba1c-46e5-8dc4-d71651acd924 button.colab-df-convert');\n",
              "        buttonEl.style.display =\n",
              "          google.colab.kernel.accessAllowed ? 'block' : 'none';\n",
              "\n",
              "        async function convertToInteractive(key) {\n",
              "          const element = document.querySelector('#df-8a335fc2-ba1c-46e5-8dc4-d71651acd924');\n",
              "          const dataTable =\n",
              "            await google.colab.kernel.invokeFunction('convertToInteractive',\n",
              "                                                     [key], {});\n",
              "          if (!dataTable) return;\n",
              "\n",
              "          const docLinkHtml = 'Like what you see? Visit the ' +\n",
              "            '<a target=\"_blank\" href=https://colab.research.google.com/notebooks/data_table.ipynb>data table notebook</a>'\n",
              "            + ' to learn more about interactive tables.';\n",
              "          element.innerHTML = '';\n",
              "          dataTable['output_type'] = 'display_data';\n",
              "          await google.colab.output.renderOutput(dataTable, element);\n",
              "          const docLink = document.createElement('div');\n",
              "          docLink.innerHTML = docLinkHtml;\n",
              "          element.appendChild(docLink);\n",
              "        }\n",
              "      </script>\n",
              "    </div>\n",
              "  </div>\n",
              "  "
            ]
          },
          "metadata": {},
          "execution_count": 11
        }
      ]
    },
    {
      "cell_type": "code",
      "source": [
        "# Remove rows with any null values\n",
        "dataset = dataset.dropna().reset_index(drop=True)"
      ],
      "metadata": {
        "id": "kYvH9TdjqTvv"
      },
      "execution_count": 12,
      "outputs": []
    },
    {
      "cell_type": "code",
      "source": [
        "dataset.loc[61]"
      ],
      "metadata": {
        "colab": {
          "base_uri": "https://localhost:8080/"
        },
        "id": "Jy83YJKaEdmR",
        "outputId": "0aa1cf54-cffb-46e7-ce2b-607d055ec132"
      },
      "execution_count": 13,
      "outputs": [
        {
          "output_type": "execute_result",
          "data": {
            "text/plain": [
              "Product Name     4L Leo Life Perfume Rose After Wash Fabric Con...\n",
              "Category                                                   Laundry\n",
              "Rating                                                         2.0\n",
              "Reviewer Name                                              Iynaz N\n",
              "Review                                     very low quality.... 😕 \n",
              "Name: 61, dtype: object"
            ]
          },
          "metadata": {},
          "execution_count": 13
        }
      ]
    },
    {
      "cell_type": "code",
      "source": [
        "# Download the demoji library's emoji descriptions (only required once)\n",
        "demoji.download_codes()\n",
        "\n",
        "# Define a function to replace emojis with their corresponding descriptions\n",
        "def replace_emojis(text):\n",
        "    emojis = demoji.findall(text)\n",
        "    \n",
        "    for emoji in emojis:\n",
        "        text = text.replace(emoji, \"\" + emojis[emoji].split(\":\")[0])\n",
        "\n",
        "    return text\n",
        "\n",
        "dataset['Review_without_emoji'] = dataset['Review'].astype(str)  # Convert to string type\n",
        "\n",
        "# Apply the function to the 'review' column\n",
        "dataset['Review_without_emoji'] = dataset['Review_without_emoji'].apply(replace_emojis)"
      ],
      "metadata": {
        "colab": {
          "base_uri": "https://localhost:8080/"
        },
        "id": "90xCU0TtrJll",
        "outputId": "55f2d317-7d79-4182-8fe9-5aa8213753c3"
      },
      "execution_count": 14,
      "outputs": [
        {
          "output_type": "stream",
          "name": "stderr",
          "text": [
            "<ipython-input-14-937644da3c7e>:2: FutureWarning: The demoji.download_codes attribute is deprecated and will be removed from demoji in a future version. It is an unused attribute as emoji codes are now distributed directly with the demoji package.\n",
            "  demoji.download_codes()\n"
          ]
        }
      ]
    },
    {
      "cell_type": "code",
      "source": [
        "dataset.loc[61]"
      ],
      "metadata": {
        "colab": {
          "base_uri": "https://localhost:8080/"
        },
        "id": "h4gchj887IEQ",
        "outputId": "70bcad7e-2e6c-42a1-ec40-eafe0d4d3f3f"
      },
      "execution_count": 15,
      "outputs": [
        {
          "output_type": "execute_result",
          "data": {
            "text/plain": [
              "Product Name            4L Leo Life Perfume Rose After Wash Fabric Con...\n",
              "Category                                                          Laundry\n",
              "Rating                                                                2.0\n",
              "Reviewer Name                                                     Iynaz N\n",
              "Review                                            very low quality.... 😕 \n",
              "Review_without_emoji                  very low quality.... confused face \n",
              "Name: 61, dtype: object"
            ]
          },
          "metadata": {},
          "execution_count": 15
        }
      ]
    },
    {
      "cell_type": "code",
      "source": [
        "import re\n",
        "nltk.download('stopwords')\n",
        "\n",
        "# Define a function to remove symbols\n",
        "def remove_symbols(text):\n",
        "\n",
        "    # Lowercase the text\n",
        "    text = text.lower()\n",
        "\n",
        "    # Define the pattern to match the symbols you want to remove\n",
        "    pattern = r'[-,\"\\'’\\.!:;…_+=@#$%^&*{\\[()\\]}]'\n",
        "    \n",
        "    # Remove the symbols using regular expressions\n",
        "    text = re.sub(pattern, '', text)\n",
        "    \n",
        "    return text\n",
        "\n",
        "# Create a new column 'preprocess_text' and apply the preprocessing function to 'review' column\n",
        "dataset['preprocess_text'] = dataset['Review_without_emoji'].apply(remove_symbols)"
      ],
      "metadata": {
        "id": "27a_6tKh6G8d",
        "outputId": "f11ac2a8-8b7b-45e8-ce13-865219d4195a",
        "colab": {
          "base_uri": "https://localhost:8080/"
        }
      },
      "execution_count": 16,
      "outputs": [
        {
          "output_type": "stream",
          "name": "stderr",
          "text": [
            "[nltk_data] Downloading package stopwords to /root/nltk_data...\n",
            "[nltk_data]   Unzipping corpora/stopwords.zip.\n"
          ]
        }
      ]
    },
    {
      "cell_type": "code",
      "source": [
        "\n",
        "# Download NLTK resources (only required once)\n",
        "nltk.download('punkt')\n",
        "nltk.download('stopwords')\n",
        "nltk.download('wordnet')\n",
        "\n",
        "# Initialize stemmer and lemmatizer\n",
        "stemmer = PorterStemmer()\n",
        "lemmatizer = WordNetLemmatizer()\n",
        "\n",
        "# Define a function to preprocess the text\n",
        "def preprocess_text(text):\n",
        "    \n",
        "    # Tokenize the text into individual words\n",
        "    tokens = word_tokenize(text)\n",
        "    \n",
        "    # Remove stop words\n",
        "    stop_words = set(stopwords.words('english'))\n",
        "    tokens = [token for token in tokens if token not in stop_words]\n",
        "    \n",
        "    # Perform stemming and lemmatization\n",
        "    stemmed_tokens = [stemmer.stem(token) for token in tokens]\n",
        "    lemmatized_tokens = [lemmatizer.lemmatize(token) for token in stemmed_tokens]\n",
        "    \n",
        "    # Join the tokens back into a single string\n",
        "    preprocessed_text = ' '.join(lemmatized_tokens)\n",
        "    \n",
        "    return tokens\n",
        "\n",
        "# Apply the preprocessing function to the 'review' column\n",
        "dataset['preprocess_text1'] = dataset['preprocess_text'].apply(preprocess_text)\n"
      ],
      "metadata": {
        "colab": {
          "base_uri": "https://localhost:8080/"
        },
        "id": "Aid5sS87vhNK",
        "outputId": "f9d393cd-dd06-4aa6-ed62-8ba7c235d799"
      },
      "execution_count": 17,
      "outputs": [
        {
          "output_type": "stream",
          "name": "stderr",
          "text": [
            "[nltk_data] Downloading package punkt to /root/nltk_data...\n",
            "[nltk_data]   Unzipping tokenizers/punkt.zip.\n",
            "[nltk_data] Downloading package stopwords to /root/nltk_data...\n",
            "[nltk_data]   Package stopwords is already up-to-date!\n",
            "[nltk_data] Downloading package wordnet to /root/nltk_data...\n"
          ]
        }
      ]
    },
    {
      "cell_type": "code",
      "source": [
        "dataset.head(100)"
      ],
      "metadata": {
        "colab": {
          "base_uri": "https://localhost:8080/",
          "height": 659
        },
        "id": "u7QCGSrux3Ws",
        "outputId": "77e3bcc5-3605-4c59-9f53-fa2138d51df5"
      },
      "execution_count": 18,
      "outputs": [
        {
          "output_type": "execute_result",
          "data": {
            "text/plain": [
              "                                     Product Name Category  Rating  \\\n",
              "0              Sunlight Care Detergent Liquid, 1L  Laundry     1.0   \n",
              "1              Sunlight Care Detergent Liquid, 1L  Laundry     5.0   \n",
              "2              Sunlight Care Detergent Liquid, 1L  Laundry     5.0   \n",
              "3              Sunlight Care Detergent Liquid, 1L  Laundry     1.0   \n",
              "4              Sunlight Care Detergent Liquid, 1L  Laundry     5.0   \n",
              "..                                            ...      ...     ...   \n",
              "95  Sunlight Yellow Detegent Soap Multipack, 330g  Laundry     5.0   \n",
              "96  Sunlight Yellow Detegent Soap Multipack, 330g  Laundry     4.0   \n",
              "97  Sunlight Yellow Detegent Soap Multipack, 330g  Laundry     3.0   \n",
              "98  Sunlight Yellow Detegent Soap Multipack, 330g  Laundry     5.0   \n",
              "99  Sunlight Yellow Detegent Soap Multipack, 330g  Laundry     3.0   \n",
              "\n",
              "   Reviewer Name                                             Review  \\\n",
              "0       Eranga D  I purchased 2 bottles. Both seem partially use...   \n",
              "1      Suranga Y  Very fast & safe delivery . Neet packing. I wi...   \n",
              "2       Ishini F  Fast delivery during this pandemic. Got the pr...   \n",
              "3          Dr. K  Alot of liquid has leaked.im very much disappo...   \n",
              "4     Rajitha S.  Thank you very much !! I received my package t...   \n",
              "..           ...                                                ...   \n",
              "95      Pramod F  Good product, recommended. Package was well pa...   \n",
              "96       Ephiram         Fast n efficient as always. Thanks Daraz.    \n",
              "97       Miran K  It was for the same price but, after receiving...   \n",
              "98    Shashini N  Got the package today... The seller gave a goo...   \n",
              "99       Arivu I  I ordered 3 pieces sunlight pack.but there are...   \n",
              "\n",
              "                                 Review_without_emoji  \\\n",
              "0   I purchased 2 bottles. Both seem partially use...   \n",
              "1   Very fast & safe delivery . Neet packing. I wi...   \n",
              "2   Fast delivery during this pandemic. Got the pr...   \n",
              "3   Alot of liquid has leaked.im very much disappo...   \n",
              "4   Thank you very much !! I received my package t...   \n",
              "..                                                ...   \n",
              "95  Good product, recommended. Package was well pa...   \n",
              "96         Fast n efficient as always. Thanks Daraz.    \n",
              "97  It was for the same price but, after receiving...   \n",
              "98  Got the package today... The seller gave a goo...   \n",
              "99  I ordered 3 pieces sunlight pack.but there are...   \n",
              "\n",
              "                                      preprocess_text  \\\n",
              "0   i purchased 2 bottles both seem partially used...   \n",
              "1   very fast  safe delivery  neet packing i wish ...   \n",
              "2   fast delivery during this pandemic got the pro...   \n",
              "3   alot of liquid has leakedim very much disappoi...   \n",
              "4   thank you very much  i received my package tod...   \n",
              "..                                                ...   \n",
              "95  good product recommended package was well pack...   \n",
              "96           fast n efficient as always thanks daraz    \n",
              "97  it was for the same price but after receiving ...   \n",
              "98  got the package today the seller gave a good s...   \n",
              "99  i ordered 3 pieces sunlight packbut there are ...   \n",
              "\n",
              "                                     preprocess_text1  \n",
              "0   [purchased, 2, bottles, seem, partially, used,...  \n",
              "1   [fast, safe, delivery, neet, packing, wish, bu...  \n",
              "2   [fast, delivery, pandemic, got, product, next,...  \n",
              "3        [alot, liquid, leakedim, much, disappointed]  \n",
              "4   [thank, much, received, package, today, good, ...  \n",
              "..                                                ...  \n",
              "95  [good, product, recommended, package, well, pa...  \n",
              "96        [fast, n, efficient, always, thanks, daraz]  \n",
              "97  [price, receiving, discounts, price, comparati...  \n",
              "98  [got, package, today, seller, gave, good, serv...  \n",
              "99  [ordered, 3, pieces, sunlight, packbut, two, a...  \n",
              "\n",
              "[100 rows x 8 columns]"
            ],
            "text/html": [
              "\n",
              "  <div id=\"df-f11a3ed0-b70a-4f33-bd56-81ba206d9877\">\n",
              "    <div class=\"colab-df-container\">\n",
              "      <div>\n",
              "<style scoped>\n",
              "    .dataframe tbody tr th:only-of-type {\n",
              "        vertical-align: middle;\n",
              "    }\n",
              "\n",
              "    .dataframe tbody tr th {\n",
              "        vertical-align: top;\n",
              "    }\n",
              "\n",
              "    .dataframe thead th {\n",
              "        text-align: right;\n",
              "    }\n",
              "</style>\n",
              "<table border=\"1\" class=\"dataframe\">\n",
              "  <thead>\n",
              "    <tr style=\"text-align: right;\">\n",
              "      <th></th>\n",
              "      <th>Product Name</th>\n",
              "      <th>Category</th>\n",
              "      <th>Rating</th>\n",
              "      <th>Reviewer Name</th>\n",
              "      <th>Review</th>\n",
              "      <th>Review_without_emoji</th>\n",
              "      <th>preprocess_text</th>\n",
              "      <th>preprocess_text1</th>\n",
              "    </tr>\n",
              "  </thead>\n",
              "  <tbody>\n",
              "    <tr>\n",
              "      <th>0</th>\n",
              "      <td>Sunlight Care Detergent Liquid, 1L</td>\n",
              "      <td>Laundry</td>\n",
              "      <td>1.0</td>\n",
              "      <td>Eranga D</td>\n",
              "      <td>I purchased 2 bottles. Both seem partially use...</td>\n",
              "      <td>I purchased 2 bottles. Both seem partially use...</td>\n",
              "      <td>i purchased 2 bottles both seem partially used...</td>\n",
              "      <td>[purchased, 2, bottles, seem, partially, used,...</td>\n",
              "    </tr>\n",
              "    <tr>\n",
              "      <th>1</th>\n",
              "      <td>Sunlight Care Detergent Liquid, 1L</td>\n",
              "      <td>Laundry</td>\n",
              "      <td>5.0</td>\n",
              "      <td>Suranga Y</td>\n",
              "      <td>Very fast &amp; safe delivery . Neet packing. I wi...</td>\n",
              "      <td>Very fast &amp; safe delivery . Neet packing. I wi...</td>\n",
              "      <td>very fast  safe delivery  neet packing i wish ...</td>\n",
              "      <td>[fast, safe, delivery, neet, packing, wish, bu...</td>\n",
              "    </tr>\n",
              "    <tr>\n",
              "      <th>2</th>\n",
              "      <td>Sunlight Care Detergent Liquid, 1L</td>\n",
              "      <td>Laundry</td>\n",
              "      <td>5.0</td>\n",
              "      <td>Ishini F</td>\n",
              "      <td>Fast delivery during this pandemic. Got the pr...</td>\n",
              "      <td>Fast delivery during this pandemic. Got the pr...</td>\n",
              "      <td>fast delivery during this pandemic got the pro...</td>\n",
              "      <td>[fast, delivery, pandemic, got, product, next,...</td>\n",
              "    </tr>\n",
              "    <tr>\n",
              "      <th>3</th>\n",
              "      <td>Sunlight Care Detergent Liquid, 1L</td>\n",
              "      <td>Laundry</td>\n",
              "      <td>1.0</td>\n",
              "      <td>Dr. K</td>\n",
              "      <td>Alot of liquid has leaked.im very much disappo...</td>\n",
              "      <td>Alot of liquid has leaked.im very much disappo...</td>\n",
              "      <td>alot of liquid has leakedim very much disappoi...</td>\n",
              "      <td>[alot, liquid, leakedim, much, disappointed]</td>\n",
              "    </tr>\n",
              "    <tr>\n",
              "      <th>4</th>\n",
              "      <td>Sunlight Care Detergent Liquid, 1L</td>\n",
              "      <td>Laundry</td>\n",
              "      <td>5.0</td>\n",
              "      <td>Rajitha S.</td>\n",
              "      <td>Thank you very much !! I received my package t...</td>\n",
              "      <td>Thank you very much !! I received my package t...</td>\n",
              "      <td>thank you very much  i received my package tod...</td>\n",
              "      <td>[thank, much, received, package, today, good, ...</td>\n",
              "    </tr>\n",
              "    <tr>\n",
              "      <th>...</th>\n",
              "      <td>...</td>\n",
              "      <td>...</td>\n",
              "      <td>...</td>\n",
              "      <td>...</td>\n",
              "      <td>...</td>\n",
              "      <td>...</td>\n",
              "      <td>...</td>\n",
              "      <td>...</td>\n",
              "    </tr>\n",
              "    <tr>\n",
              "      <th>95</th>\n",
              "      <td>Sunlight Yellow Detegent Soap Multipack, 330g</td>\n",
              "      <td>Laundry</td>\n",
              "      <td>5.0</td>\n",
              "      <td>Pramod F</td>\n",
              "      <td>Good product, recommended. Package was well pa...</td>\n",
              "      <td>Good product, recommended. Package was well pa...</td>\n",
              "      <td>good product recommended package was well pack...</td>\n",
              "      <td>[good, product, recommended, package, well, pa...</td>\n",
              "    </tr>\n",
              "    <tr>\n",
              "      <th>96</th>\n",
              "      <td>Sunlight Yellow Detegent Soap Multipack, 330g</td>\n",
              "      <td>Laundry</td>\n",
              "      <td>4.0</td>\n",
              "      <td>Ephiram</td>\n",
              "      <td>Fast n efficient as always. Thanks Daraz.</td>\n",
              "      <td>Fast n efficient as always. Thanks Daraz.</td>\n",
              "      <td>fast n efficient as always thanks daraz</td>\n",
              "      <td>[fast, n, efficient, always, thanks, daraz]</td>\n",
              "    </tr>\n",
              "    <tr>\n",
              "      <th>97</th>\n",
              "      <td>Sunlight Yellow Detegent Soap Multipack, 330g</td>\n",
              "      <td>Laundry</td>\n",
              "      <td>3.0</td>\n",
              "      <td>Miran K</td>\n",
              "      <td>It was for the same price but, after receiving...</td>\n",
              "      <td>It was for the same price but, after receiving...</td>\n",
              "      <td>it was for the same price but after receiving ...</td>\n",
              "      <td>[price, receiving, discounts, price, comparati...</td>\n",
              "    </tr>\n",
              "    <tr>\n",
              "      <th>98</th>\n",
              "      <td>Sunlight Yellow Detegent Soap Multipack, 330g</td>\n",
              "      <td>Laundry</td>\n",
              "      <td>5.0</td>\n",
              "      <td>Shashini N</td>\n",
              "      <td>Got the package today... The seller gave a goo...</td>\n",
              "      <td>Got the package today... The seller gave a goo...</td>\n",
              "      <td>got the package today the seller gave a good s...</td>\n",
              "      <td>[got, package, today, seller, gave, good, serv...</td>\n",
              "    </tr>\n",
              "    <tr>\n",
              "      <th>99</th>\n",
              "      <td>Sunlight Yellow Detegent Soap Multipack, 330g</td>\n",
              "      <td>Laundry</td>\n",
              "      <td>3.0</td>\n",
              "      <td>Arivu I</td>\n",
              "      <td>I ordered 3 pieces sunlight pack.but there are...</td>\n",
              "      <td>I ordered 3 pieces sunlight pack.but there are...</td>\n",
              "      <td>i ordered 3 pieces sunlight packbut there are ...</td>\n",
              "      <td>[ordered, 3, pieces, sunlight, packbut, two, a...</td>\n",
              "    </tr>\n",
              "  </tbody>\n",
              "</table>\n",
              "<p>100 rows × 8 columns</p>\n",
              "</div>\n",
              "      <button class=\"colab-df-convert\" onclick=\"convertToInteractive('df-f11a3ed0-b70a-4f33-bd56-81ba206d9877')\"\n",
              "              title=\"Convert this dataframe to an interactive table.\"\n",
              "              style=\"display:none;\">\n",
              "        \n",
              "  <svg xmlns=\"http://www.w3.org/2000/svg\" height=\"24px\"viewBox=\"0 0 24 24\"\n",
              "       width=\"24px\">\n",
              "    <path d=\"M0 0h24v24H0V0z\" fill=\"none\"/>\n",
              "    <path d=\"M18.56 5.44l.94 2.06.94-2.06 2.06-.94-2.06-.94-.94-2.06-.94 2.06-2.06.94zm-11 1L8.5 8.5l.94-2.06 2.06-.94-2.06-.94L8.5 2.5l-.94 2.06-2.06.94zm10 10l.94 2.06.94-2.06 2.06-.94-2.06-.94-.94-2.06-.94 2.06-2.06.94z\"/><path d=\"M17.41 7.96l-1.37-1.37c-.4-.4-.92-.59-1.43-.59-.52 0-1.04.2-1.43.59L10.3 9.45l-7.72 7.72c-.78.78-.78 2.05 0 2.83L4 21.41c.39.39.9.59 1.41.59.51 0 1.02-.2 1.41-.59l7.78-7.78 2.81-2.81c.8-.78.8-2.07 0-2.86zM5.41 20L4 18.59l7.72-7.72 1.47 1.35L5.41 20z\"/>\n",
              "  </svg>\n",
              "      </button>\n",
              "      \n",
              "  <style>\n",
              "    .colab-df-container {\n",
              "      display:flex;\n",
              "      flex-wrap:wrap;\n",
              "      gap: 12px;\n",
              "    }\n",
              "\n",
              "    .colab-df-convert {\n",
              "      background-color: #E8F0FE;\n",
              "      border: none;\n",
              "      border-radius: 50%;\n",
              "      cursor: pointer;\n",
              "      display: none;\n",
              "      fill: #1967D2;\n",
              "      height: 32px;\n",
              "      padding: 0 0 0 0;\n",
              "      width: 32px;\n",
              "    }\n",
              "\n",
              "    .colab-df-convert:hover {\n",
              "      background-color: #E2EBFA;\n",
              "      box-shadow: 0px 1px 2px rgba(60, 64, 67, 0.3), 0px 1px 3px 1px rgba(60, 64, 67, 0.15);\n",
              "      fill: #174EA6;\n",
              "    }\n",
              "\n",
              "    [theme=dark] .colab-df-convert {\n",
              "      background-color: #3B4455;\n",
              "      fill: #D2E3FC;\n",
              "    }\n",
              "\n",
              "    [theme=dark] .colab-df-convert:hover {\n",
              "      background-color: #434B5C;\n",
              "      box-shadow: 0px 1px 3px 1px rgba(0, 0, 0, 0.15);\n",
              "      filter: drop-shadow(0px 1px 2px rgba(0, 0, 0, 0.3));\n",
              "      fill: #FFFFFF;\n",
              "    }\n",
              "  </style>\n",
              "\n",
              "      <script>\n",
              "        const buttonEl =\n",
              "          document.querySelector('#df-f11a3ed0-b70a-4f33-bd56-81ba206d9877 button.colab-df-convert');\n",
              "        buttonEl.style.display =\n",
              "          google.colab.kernel.accessAllowed ? 'block' : 'none';\n",
              "\n",
              "        async function convertToInteractive(key) {\n",
              "          const element = document.querySelector('#df-f11a3ed0-b70a-4f33-bd56-81ba206d9877');\n",
              "          const dataTable =\n",
              "            await google.colab.kernel.invokeFunction('convertToInteractive',\n",
              "                                                     [key], {});\n",
              "          if (!dataTable) return;\n",
              "\n",
              "          const docLinkHtml = 'Like what you see? Visit the ' +\n",
              "            '<a target=\"_blank\" href=https://colab.research.google.com/notebooks/data_table.ipynb>data table notebook</a>'\n",
              "            + ' to learn more about interactive tables.';\n",
              "          element.innerHTML = '';\n",
              "          dataTable['output_type'] = 'display_data';\n",
              "          await google.colab.output.renderOutput(dataTable, element);\n",
              "          const docLink = document.createElement('div');\n",
              "          docLink.innerHTML = docLinkHtml;\n",
              "          element.appendChild(docLink);\n",
              "        }\n",
              "      </script>\n",
              "    </div>\n",
              "  </div>\n",
              "  "
            ]
          },
          "metadata": {},
          "execution_count": 18
        }
      ]
    },
    {
      "cell_type": "code",
      "source": [
        "# Specify the path and filename for saving the CSV file\n",
        "save_path = '/content/drive/MyDrive/zidan/daraz_preprocessed_data.csv'\n",
        "\n",
        "# Save the preprocessed data to CSV\n",
        "dataset.to_csv(save_path, index=False)"
      ],
      "metadata": {
        "id": "7dHHZrC9zF-g"
      },
      "execution_count": 19,
      "outputs": []
    }
  ]
}