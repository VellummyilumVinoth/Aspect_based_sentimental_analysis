{
  "cells": [
    {
      "cell_type": "markdown",
      "metadata": {
        "id": "view-in-github",
        "colab_type": "text"
      },
      "source": [
        "<a href=\"https://colab.research.google.com/github/VellummyilumVinoth/Aspect_based_sentimental_analysis/blob/main/daraz_prediction.ipynb\" target=\"_parent\"><img src=\"https://colab.research.google.com/assets/colab-badge.svg\" alt=\"Open In Colab\"/></a>"
      ]
    },
    {
      "cell_type": "code",
      "execution_count": 1,
      "metadata": {
        "colab": {
          "base_uri": "https://localhost:8080/"
        },
        "id": "ZFcbyC3UZl2U",
        "outputId": "c98cc786-2eff-40cf-ca04-3b56b0904841"
      },
      "outputs": [
        {
          "output_type": "stream",
          "name": "stdout",
          "text": [
            "There are 1 GPU(s) available.\n",
            "Device name: Tesla T4\n"
          ]
        }
      ],
      "source": [
        "import torch\n",
        "\n",
        "if torch.cuda.is_available():       \n",
        "    device = torch.device(\"cuda\")\n",
        "    print(f'There are {torch.cuda.device_count()} GPU(s) available.')\n",
        "    print('Device name:', torch.cuda.get_device_name(0))\n",
        "\n",
        "else:\n",
        "    print('No GPU available, using the CPU instead.')\n",
        "    device = torch.device(\"cpu\")"
      ]
    },
    {
      "cell_type": "code",
      "execution_count": 2,
      "metadata": {
        "colab": {
          "base_uri": "https://localhost:8080/"
        },
        "id": "khSXqCJaZooZ",
        "outputId": "a37d9c4f-36c3-4128-c73f-dca95805e96a"
      },
      "outputs": [
        {
          "output_type": "stream",
          "name": "stdout",
          "text": [
            "Drive already mounted at /content/drive; to attempt to forcibly remount, call drive.mount(\"/content/drive\", force_remount=True).\n"
          ]
        }
      ],
      "source": [
        "from google.colab import drive\n",
        "drive.mount('/content/drive')"
      ]
    },
    {
      "cell_type": "code",
      "execution_count": 3,
      "metadata": {
        "colab": {
          "base_uri": "https://localhost:8080/"
        },
        "id": "TwjV-I1laO38",
        "outputId": "ec69920a-828f-4cf9-b977-800b93e68d70"
      },
      "outputs": [
        {
          "output_type": "stream",
          "name": "stdout",
          "text": [
            "Looking in indexes: https://pypi.org/simple, https://us-python.pkg.dev/colab-wheels/public/simple/\n",
            "Requirement already satisfied: transformers in /usr/local/lib/python3.10/dist-packages (4.30.1)\n",
            "Requirement already satisfied: filelock in /usr/local/lib/python3.10/dist-packages (from transformers) (3.12.0)\n",
            "Requirement already satisfied: huggingface-hub<1.0,>=0.14.1 in /usr/local/lib/python3.10/dist-packages (from transformers) (0.15.1)\n",
            "Requirement already satisfied: numpy>=1.17 in /usr/local/lib/python3.10/dist-packages (from transformers) (1.22.4)\n",
            "Requirement already satisfied: packaging>=20.0 in /usr/local/lib/python3.10/dist-packages (from transformers) (23.1)\n",
            "Requirement already satisfied: pyyaml>=5.1 in /usr/local/lib/python3.10/dist-packages (from transformers) (6.0)\n",
            "Requirement already satisfied: regex!=2019.12.17 in /usr/local/lib/python3.10/dist-packages (from transformers) (2022.10.31)\n",
            "Requirement already satisfied: requests in /usr/local/lib/python3.10/dist-packages (from transformers) (2.27.1)\n",
            "Requirement already satisfied: tokenizers!=0.11.3,<0.14,>=0.11.1 in /usr/local/lib/python3.10/dist-packages (from transformers) (0.13.3)\n",
            "Requirement already satisfied: safetensors>=0.3.1 in /usr/local/lib/python3.10/dist-packages (from transformers) (0.3.1)\n",
            "Requirement already satisfied: tqdm>=4.27 in /usr/local/lib/python3.10/dist-packages (from transformers) (4.65.0)\n",
            "Requirement already satisfied: fsspec in /usr/local/lib/python3.10/dist-packages (from huggingface-hub<1.0,>=0.14.1->transformers) (2023.4.0)\n",
            "Requirement already satisfied: typing-extensions>=3.7.4.3 in /usr/local/lib/python3.10/dist-packages (from huggingface-hub<1.0,>=0.14.1->transformers) (4.5.0)\n",
            "Requirement already satisfied: urllib3<1.27,>=1.21.1 in /usr/local/lib/python3.10/dist-packages (from requests->transformers) (1.26.15)\n",
            "Requirement already satisfied: certifi>=2017.4.17 in /usr/local/lib/python3.10/dist-packages (from requests->transformers) (2022.12.7)\n",
            "Requirement already satisfied: charset-normalizer~=2.0.0 in /usr/local/lib/python3.10/dist-packages (from requests->transformers) (2.0.12)\n",
            "Requirement already satisfied: idna<4,>=2.5 in /usr/local/lib/python3.10/dist-packages (from requests->transformers) (3.4)\n"
          ]
        },
        {
          "output_type": "stream",
          "name": "stderr",
          "text": [
            "/usr/local/lib/python3.10/dist-packages/transformers/generation_utils.py:24: FutureWarning: Importing `GenerationMixin` from `src/transformers/generation_utils.py` is deprecated and will be removed in Transformers v5. Import as `from transformers import GenerationMixin` instead.\n",
            "  warnings.warn(\n",
            "/usr/local/lib/python3.10/dist-packages/transformers/generation_tf_utils.py:24: FutureWarning: Importing `TFGenerationMixin` from `src/transformers/generation_tf_utils.py` is deprecated and will be removed in Transformers v5. Import as `from transformers import TFGenerationMixin` instead.\n",
            "  warnings.warn(\n",
            "/usr/local/lib/python3.10/dist-packages/transformers/generation_flax_utils.py:24: FutureWarning: Importing `FlaxGenerationMixin` from `src/transformers/generation_flax_utils.py` is deprecated and will be removed in Transformers v5. Import as `from transformers import FlaxGenerationMixin` instead.\n",
            "  warnings.warn(\n",
            "Xformers is not installed correctly. If you want to use memory_efficient_attention to accelerate training use the following command to install Xformers\n",
            "pip install xformers.\n"
          ]
        }
      ],
      "source": [
        "# Step 1: Install the required libraries\n",
        "! pip install transformers \n",
        "\n",
        "from transformers import *\n"
      ]
    },
    {
      "cell_type": "code",
      "execution_count": 4,
      "metadata": {
        "colab": {
          "base_uri": "https://localhost:8080/"
        },
        "id": "gCrhMcg2Z_gi",
        "outputId": "42790c4a-fbd7-48d0-cb24-421e3bcc9825"
      },
      "outputs": [
        {
          "output_type": "stream",
          "name": "stdout",
          "text": [
            "Current device: cuda\n"
          ]
        }
      ],
      "source": [
        "from torch import cuda\n",
        "device = torch.device('cuda' if cuda.is_available() else 'cpu')\n",
        "\n",
        "print(f\"Current device: {device}\")"
      ]
    },
    {
      "cell_type": "code",
      "execution_count": 5,
      "metadata": {
        "id": "fzRU26wta2sP",
        "colab": {
          "base_uri": "https://localhost:8080/"
        },
        "outputId": "0ae7d1b8-03b0-48fb-aed7-c79786962421"
      },
      "outputs": [
        {
          "output_type": "stream",
          "name": "stderr",
          "text": [
            "loading configuration file /content/drive/MyDrive/zidan/finetuned_bert/config.json\n",
            "Model config BertConfig {\n",
            "  \"_name_or_path\": \"bert-base-uncased\",\n",
            "  \"architectures\": [\n",
            "    \"BertForSequenceClassification\"\n",
            "  ],\n",
            "  \"attention_probs_dropout_prob\": 0.1,\n",
            "  \"classifier_dropout\": null,\n",
            "  \"gradient_checkpointing\": false,\n",
            "  \"hidden_act\": \"gelu\",\n",
            "  \"hidden_dropout_prob\": 0.1,\n",
            "  \"hidden_size\": 768,\n",
            "  \"id2label\": {\n",
            "    \"0\": \"LABEL_0\",\n",
            "    \"1\": \"LABEL_1\",\n",
            "    \"2\": \"LABEL_2\",\n",
            "    \"3\": \"LABEL_3\",\n",
            "    \"4\": \"LABEL_4\",\n",
            "    \"5\": \"LABEL_5\",\n",
            "    \"6\": \"LABEL_6\"\n",
            "  },\n",
            "  \"initializer_range\": 0.02,\n",
            "  \"intermediate_size\": 3072,\n",
            "  \"label2id\": {\n",
            "    \"LABEL_0\": 0,\n",
            "    \"LABEL_1\": 1,\n",
            "    \"LABEL_2\": 2,\n",
            "    \"LABEL_3\": 3,\n",
            "    \"LABEL_4\": 4,\n",
            "    \"LABEL_5\": 5,\n",
            "    \"LABEL_6\": 6\n",
            "  },\n",
            "  \"layer_norm_eps\": 1e-12,\n",
            "  \"max_position_embeddings\": 512,\n",
            "  \"model_type\": \"bert\",\n",
            "  \"num_attention_heads\": 12,\n",
            "  \"num_hidden_layers\": 12,\n",
            "  \"pad_token_id\": 0,\n",
            "  \"position_embedding_type\": \"absolute\",\n",
            "  \"torch_dtype\": \"float32\",\n",
            "  \"transformers_version\": \"4.30.1\",\n",
            "  \"type_vocab_size\": 2,\n",
            "  \"use_cache\": true,\n",
            "  \"vocab_size\": 30522\n",
            "}\n",
            "\n",
            "loading weights file /content/drive/MyDrive/zidan/finetuned_bert/pytorch_model.bin\n",
            "All model checkpoint weights were used when initializing BertForSequenceClassification.\n",
            "\n",
            "All the weights of BertForSequenceClassification were initialized from the model checkpoint at /content/drive/MyDrive/zidan/finetuned_bert.\n",
            "If your task is similar to the task the model of the checkpoint was trained on, you can already use BertForSequenceClassification for predictions without further training.\n",
            "loading file vocab.txt\n",
            "loading file added_tokens.json\n",
            "loading file special_tokens_map.json\n",
            "loading file tokenizer_config.json\n"
          ]
        }
      ],
      "source": [
        "# Step 2: Load the fine-tuned BERT model and its tokenizer\n",
        "model = BertForSequenceClassification.from_pretrained(\"/content/drive/MyDrive/zidan/finetuned_bert\",num_labels=7)\n",
        "tokenizer = BertTokenizer.from_pretrained('/content/drive/MyDrive/zidan/finetuned_bert', do_lower_case=True)"
      ]
    },
    {
      "cell_type": "code",
      "execution_count": 6,
      "metadata": {
        "id": "vZBCW5wkao9_"
      },
      "outputs": [],
      "source": [
        "# Step 3: Load and preprocess your CSV dataset\n",
        "\n",
        "import pandas as pd\n",
        "predict_data = pd.read_csv(\"/content/drive/MyDrive/zidan/daraz_preprocessed_data.csv\")\n"
      ]
    },
    {
      "cell_type": "code",
      "source": [
        "predict_data"
      ],
      "metadata": {
        "colab": {
          "base_uri": "https://localhost:8080/",
          "height": 659
        },
        "id": "i49wPbnXppPk",
        "outputId": "24595a64-ae21-4c7d-bce4-1456f4efc94e"
      },
      "execution_count": 7,
      "outputs": [
        {
          "output_type": "execute_result",
          "data": {
            "text/plain": [
              "                                           Product Name    Category  Rating  \\\n",
              "0                    Sunlight Care Detergent Liquid, 1L     Laundry     1.0   \n",
              "1                    Sunlight Care Detergent Liquid, 1L     Laundry     5.0   \n",
              "2                    Sunlight Care Detergent Liquid, 1L     Laundry     5.0   \n",
              "3                    Sunlight Care Detergent Liquid, 1L     Laundry     1.0   \n",
              "4                    Sunlight Care Detergent Liquid, 1L     Laundry     5.0   \n",
              "...                                                 ...         ...     ...   \n",
              "1837  Sustagen Nutritional Supplement Chocolate Flav...  MilkPowder     4.0   \n",
              "1838  Sustagen Nutritional Supplement Chocolate Flav...  MilkPowder     4.0   \n",
              "1839  Sustagen Nutritional Supplement Chocolate Flav...  MilkPowder     3.0   \n",
              "1840  Sustagen Nutritional Supplement Chocolate Flav...  MilkPowder     4.0   \n",
              "1841  Sustagen Nutritional Supplement Chocolate Flav...  MilkPowder     2.0   \n",
              "\n",
              "       Reviewer Name                                             Review  \\\n",
              "0           Eranga D  I purchased 2 bottles. Both seem partially use...   \n",
              "1          Suranga Y  Very fast & safe delivery . Neet packing. I wi...   \n",
              "2           Ishini F  Fast delivery during this pandemic. Got the pr...   \n",
              "3              Dr. K  Alot of liquid has leaked.im very much disappo...   \n",
              "4         Rajitha S.  Thank you very much !! I received my package t...   \n",
              "...              ...                                                ...   \n",
              "1837    by ******576              very good product value for the price   \n",
              "1838   by ruchira K.  Delivery within 1day to Tangalle... well packe...   \n",
              "1839  by Sivathas J.                      high quality reasonable price   \n",
              "1840   by Poornamith  Excellent packaging. And it was delivered quic...   \n",
              "1841      by Disnaka  It's not regarding product. all the canisters ...   \n",
              "\n",
              "                                   Review_without_emoji  \\\n",
              "0     I purchased 2 bottles. Both seem partially use...   \n",
              "1     Very fast & safe delivery . Neet packing. I wi...   \n",
              "2     Fast delivery during this pandemic. Got the pr...   \n",
              "3     Alot of liquid has leaked.im very much disappo...   \n",
              "4     Thank you very much !! I received my package t...   \n",
              "...                                                 ...   \n",
              "1837              very good product value for the price   \n",
              "1838  Delivery within 1day to Tangalle... well packe...   \n",
              "1839                      high quality reasonable price   \n",
              "1840  Excellent packaging. And it was delivered quic...   \n",
              "1841  It's not regarding product. all the canisters ...   \n",
              "\n",
              "                                        preprocess_text  \\\n",
              "0     i purchased 2 bottles both seem partially used...   \n",
              "1     very fast  safe delivery  neet packing i wish ...   \n",
              "2     fast delivery during this pandemic got the pro...   \n",
              "3     alot of liquid has leakedim very much disappoi...   \n",
              "4     thank you very much  i received my package tod...   \n",
              "...                                                 ...   \n",
              "1837              very good product value for the price   \n",
              "1838  delivery within 1day to tangalle well packedco...   \n",
              "1839                      high quality reasonable price   \n",
              "1840  excellent packaging and it was delivered quick...   \n",
              "1841  its not regarding product all the canisters da...   \n",
              "\n",
              "                                       preprocess_text1  \n",
              "0     ['purchased', '2', 'bottles', 'seem', 'partial...  \n",
              "1     ['fast', 'safe', 'delivery', 'neet', 'packing'...  \n",
              "2     ['fast', 'delivery', 'pandemic', 'got', 'produ...  \n",
              "3     ['alot', 'liquid', 'leakedim', 'much', 'disapp...  \n",
              "4     ['thank', 'much', 'received', 'package', 'toda...  \n",
              "...                                                 ...  \n",
              "1837              ['good', 'product', 'value', 'price']  \n",
              "1838  ['delivery', 'within', '1day', 'tangalle', 'we...  \n",
              "1839         ['high', 'quality', 'reasonable', 'price']  \n",
              "1840  ['excellent', 'packaging', 'delivered', 'quick...  \n",
              "1841  ['regarding', 'product', 'canisters', 'damaged...  \n",
              "\n",
              "[1842 rows x 8 columns]"
            ],
            "text/html": [
              "\n",
              "  <div id=\"df-15ae298f-8946-4aec-9d66-ceb898460d97\">\n",
              "    <div class=\"colab-df-container\">\n",
              "      <div>\n",
              "<style scoped>\n",
              "    .dataframe tbody tr th:only-of-type {\n",
              "        vertical-align: middle;\n",
              "    }\n",
              "\n",
              "    .dataframe tbody tr th {\n",
              "        vertical-align: top;\n",
              "    }\n",
              "\n",
              "    .dataframe thead th {\n",
              "        text-align: right;\n",
              "    }\n",
              "</style>\n",
              "<table border=\"1\" class=\"dataframe\">\n",
              "  <thead>\n",
              "    <tr style=\"text-align: right;\">\n",
              "      <th></th>\n",
              "      <th>Product Name</th>\n",
              "      <th>Category</th>\n",
              "      <th>Rating</th>\n",
              "      <th>Reviewer Name</th>\n",
              "      <th>Review</th>\n",
              "      <th>Review_without_emoji</th>\n",
              "      <th>preprocess_text</th>\n",
              "      <th>preprocess_text1</th>\n",
              "    </tr>\n",
              "  </thead>\n",
              "  <tbody>\n",
              "    <tr>\n",
              "      <th>0</th>\n",
              "      <td>Sunlight Care Detergent Liquid, 1L</td>\n",
              "      <td>Laundry</td>\n",
              "      <td>1.0</td>\n",
              "      <td>Eranga D</td>\n",
              "      <td>I purchased 2 bottles. Both seem partially use...</td>\n",
              "      <td>I purchased 2 bottles. Both seem partially use...</td>\n",
              "      <td>i purchased 2 bottles both seem partially used...</td>\n",
              "      <td>['purchased', '2', 'bottles', 'seem', 'partial...</td>\n",
              "    </tr>\n",
              "    <tr>\n",
              "      <th>1</th>\n",
              "      <td>Sunlight Care Detergent Liquid, 1L</td>\n",
              "      <td>Laundry</td>\n",
              "      <td>5.0</td>\n",
              "      <td>Suranga Y</td>\n",
              "      <td>Very fast &amp; safe delivery . Neet packing. I wi...</td>\n",
              "      <td>Very fast &amp; safe delivery . Neet packing. I wi...</td>\n",
              "      <td>very fast  safe delivery  neet packing i wish ...</td>\n",
              "      <td>['fast', 'safe', 'delivery', 'neet', 'packing'...</td>\n",
              "    </tr>\n",
              "    <tr>\n",
              "      <th>2</th>\n",
              "      <td>Sunlight Care Detergent Liquid, 1L</td>\n",
              "      <td>Laundry</td>\n",
              "      <td>5.0</td>\n",
              "      <td>Ishini F</td>\n",
              "      <td>Fast delivery during this pandemic. Got the pr...</td>\n",
              "      <td>Fast delivery during this pandemic. Got the pr...</td>\n",
              "      <td>fast delivery during this pandemic got the pro...</td>\n",
              "      <td>['fast', 'delivery', 'pandemic', 'got', 'produ...</td>\n",
              "    </tr>\n",
              "    <tr>\n",
              "      <th>3</th>\n",
              "      <td>Sunlight Care Detergent Liquid, 1L</td>\n",
              "      <td>Laundry</td>\n",
              "      <td>1.0</td>\n",
              "      <td>Dr. K</td>\n",
              "      <td>Alot of liquid has leaked.im very much disappo...</td>\n",
              "      <td>Alot of liquid has leaked.im very much disappo...</td>\n",
              "      <td>alot of liquid has leakedim very much disappoi...</td>\n",
              "      <td>['alot', 'liquid', 'leakedim', 'much', 'disapp...</td>\n",
              "    </tr>\n",
              "    <tr>\n",
              "      <th>4</th>\n",
              "      <td>Sunlight Care Detergent Liquid, 1L</td>\n",
              "      <td>Laundry</td>\n",
              "      <td>5.0</td>\n",
              "      <td>Rajitha S.</td>\n",
              "      <td>Thank you very much !! I received my package t...</td>\n",
              "      <td>Thank you very much !! I received my package t...</td>\n",
              "      <td>thank you very much  i received my package tod...</td>\n",
              "      <td>['thank', 'much', 'received', 'package', 'toda...</td>\n",
              "    </tr>\n",
              "    <tr>\n",
              "      <th>...</th>\n",
              "      <td>...</td>\n",
              "      <td>...</td>\n",
              "      <td>...</td>\n",
              "      <td>...</td>\n",
              "      <td>...</td>\n",
              "      <td>...</td>\n",
              "      <td>...</td>\n",
              "      <td>...</td>\n",
              "    </tr>\n",
              "    <tr>\n",
              "      <th>1837</th>\n",
              "      <td>Sustagen Nutritional Supplement Chocolate Flav...</td>\n",
              "      <td>MilkPowder</td>\n",
              "      <td>4.0</td>\n",
              "      <td>by ******576</td>\n",
              "      <td>very good product value for the price</td>\n",
              "      <td>very good product value for the price</td>\n",
              "      <td>very good product value for the price</td>\n",
              "      <td>['good', 'product', 'value', 'price']</td>\n",
              "    </tr>\n",
              "    <tr>\n",
              "      <th>1838</th>\n",
              "      <td>Sustagen Nutritional Supplement Chocolate Flav...</td>\n",
              "      <td>MilkPowder</td>\n",
              "      <td>4.0</td>\n",
              "      <td>by ruchira K.</td>\n",
              "      <td>Delivery within 1day to Tangalle... well packe...</td>\n",
              "      <td>Delivery within 1day to Tangalle... well packe...</td>\n",
              "      <td>delivery within 1day to tangalle well packedco...</td>\n",
              "      <td>['delivery', 'within', '1day', 'tangalle', 'we...</td>\n",
              "    </tr>\n",
              "    <tr>\n",
              "      <th>1839</th>\n",
              "      <td>Sustagen Nutritional Supplement Chocolate Flav...</td>\n",
              "      <td>MilkPowder</td>\n",
              "      <td>3.0</td>\n",
              "      <td>by Sivathas J.</td>\n",
              "      <td>high quality reasonable price</td>\n",
              "      <td>high quality reasonable price</td>\n",
              "      <td>high quality reasonable price</td>\n",
              "      <td>['high', 'quality', 'reasonable', 'price']</td>\n",
              "    </tr>\n",
              "    <tr>\n",
              "      <th>1840</th>\n",
              "      <td>Sustagen Nutritional Supplement Chocolate Flav...</td>\n",
              "      <td>MilkPowder</td>\n",
              "      <td>4.0</td>\n",
              "      <td>by Poornamith</td>\n",
              "      <td>Excellent packaging. And it was delivered quic...</td>\n",
              "      <td>Excellent packaging. And it was delivered quic...</td>\n",
              "      <td>excellent packaging and it was delivered quick...</td>\n",
              "      <td>['excellent', 'packaging', 'delivered', 'quick...</td>\n",
              "    </tr>\n",
              "    <tr>\n",
              "      <th>1841</th>\n",
              "      <td>Sustagen Nutritional Supplement Chocolate Flav...</td>\n",
              "      <td>MilkPowder</td>\n",
              "      <td>2.0</td>\n",
              "      <td>by Disnaka</td>\n",
              "      <td>It's not regarding product. all the canisters ...</td>\n",
              "      <td>It's not regarding product. all the canisters ...</td>\n",
              "      <td>its not regarding product all the canisters da...</td>\n",
              "      <td>['regarding', 'product', 'canisters', 'damaged...</td>\n",
              "    </tr>\n",
              "  </tbody>\n",
              "</table>\n",
              "<p>1842 rows × 8 columns</p>\n",
              "</div>\n",
              "      <button class=\"colab-df-convert\" onclick=\"convertToInteractive('df-15ae298f-8946-4aec-9d66-ceb898460d97')\"\n",
              "              title=\"Convert this dataframe to an interactive table.\"\n",
              "              style=\"display:none;\">\n",
              "        \n",
              "  <svg xmlns=\"http://www.w3.org/2000/svg\" height=\"24px\"viewBox=\"0 0 24 24\"\n",
              "       width=\"24px\">\n",
              "    <path d=\"M0 0h24v24H0V0z\" fill=\"none\"/>\n",
              "    <path d=\"M18.56 5.44l.94 2.06.94-2.06 2.06-.94-2.06-.94-.94-2.06-.94 2.06-2.06.94zm-11 1L8.5 8.5l.94-2.06 2.06-.94-2.06-.94L8.5 2.5l-.94 2.06-2.06.94zm10 10l.94 2.06.94-2.06 2.06-.94-2.06-.94-.94-2.06-.94 2.06-2.06.94z\"/><path d=\"M17.41 7.96l-1.37-1.37c-.4-.4-.92-.59-1.43-.59-.52 0-1.04.2-1.43.59L10.3 9.45l-7.72 7.72c-.78.78-.78 2.05 0 2.83L4 21.41c.39.39.9.59 1.41.59.51 0 1.02-.2 1.41-.59l7.78-7.78 2.81-2.81c.8-.78.8-2.07 0-2.86zM5.41 20L4 18.59l7.72-7.72 1.47 1.35L5.41 20z\"/>\n",
              "  </svg>\n",
              "      </button>\n",
              "      \n",
              "  <style>\n",
              "    .colab-df-container {\n",
              "      display:flex;\n",
              "      flex-wrap:wrap;\n",
              "      gap: 12px;\n",
              "    }\n",
              "\n",
              "    .colab-df-convert {\n",
              "      background-color: #E8F0FE;\n",
              "      border: none;\n",
              "      border-radius: 50%;\n",
              "      cursor: pointer;\n",
              "      display: none;\n",
              "      fill: #1967D2;\n",
              "      height: 32px;\n",
              "      padding: 0 0 0 0;\n",
              "      width: 32px;\n",
              "    }\n",
              "\n",
              "    .colab-df-convert:hover {\n",
              "      background-color: #E2EBFA;\n",
              "      box-shadow: 0px 1px 2px rgba(60, 64, 67, 0.3), 0px 1px 3px 1px rgba(60, 64, 67, 0.15);\n",
              "      fill: #174EA6;\n",
              "    }\n",
              "\n",
              "    [theme=dark] .colab-df-convert {\n",
              "      background-color: #3B4455;\n",
              "      fill: #D2E3FC;\n",
              "    }\n",
              "\n",
              "    [theme=dark] .colab-df-convert:hover {\n",
              "      background-color: #434B5C;\n",
              "      box-shadow: 0px 1px 3px 1px rgba(0, 0, 0, 0.15);\n",
              "      filter: drop-shadow(0px 1px 2px rgba(0, 0, 0, 0.3));\n",
              "      fill: #FFFFFF;\n",
              "    }\n",
              "  </style>\n",
              "\n",
              "      <script>\n",
              "        const buttonEl =\n",
              "          document.querySelector('#df-15ae298f-8946-4aec-9d66-ceb898460d97 button.colab-df-convert');\n",
              "        buttonEl.style.display =\n",
              "          google.colab.kernel.accessAllowed ? 'block' : 'none';\n",
              "\n",
              "        async function convertToInteractive(key) {\n",
              "          const element = document.querySelector('#df-15ae298f-8946-4aec-9d66-ceb898460d97');\n",
              "          const dataTable =\n",
              "            await google.colab.kernel.invokeFunction('convertToInteractive',\n",
              "                                                     [key], {});\n",
              "          if (!dataTable) return;\n",
              "\n",
              "          const docLinkHtml = 'Like what you see? Visit the ' +\n",
              "            '<a target=\"_blank\" href=https://colab.research.google.com/notebooks/data_table.ipynb>data table notebook</a>'\n",
              "            + ' to learn more about interactive tables.';\n",
              "          element.innerHTML = '';\n",
              "          dataTable['output_type'] = 'display_data';\n",
              "          await google.colab.output.renderOutput(dataTable, element);\n",
              "          const docLink = document.createElement('div');\n",
              "          docLink.innerHTML = docLinkHtml;\n",
              "          element.appendChild(docLink);\n",
              "        }\n",
              "      </script>\n",
              "    </div>\n",
              "  </div>\n",
              "  "
            ]
          },
          "metadata": {},
          "execution_count": 7
        }
      ]
    },
    {
      "cell_type": "code",
      "source": [
        "review = list(predict_data.preprocess_text.values)\n",
        "# review = list(map(str, review))"
      ],
      "metadata": {
        "id": "c34WhTtPoC82"
      },
      "execution_count": 8,
      "outputs": []
    },
    {
      "cell_type": "code",
      "source": [
        "# Step 5: Tokenize the review\n",
        "encoded_inputs = tokenizer(review, padding=True, truncation=True, return_tensors='pt')\n",
        "\n",
        "# Step 6: Pass the tokenized inputs through the model to get the predictions\n",
        "with torch.no_grad():\n",
        "    model.eval()\n",
        "    outputs = model(**encoded_inputs)\n",
        "    predicted_labels = outputs.logits"
      ],
      "metadata": {
        "id": "c8Prk8ANf42r"
      },
      "execution_count": null,
      "outputs": []
    },
    {
      "cell_type": "code",
      "source": [
        "\n",
        "# Step 7: Map the predicted labels back to their respective class names\n",
        "class_names = [\"price\", \"packaging\", \"quality\", \"delivery cost\", \"design\", \"usability\", \"customer service\"]\n",
        "\n",
        "# Step 7: Apply a threshold and convert to binary values\n",
        "threshold = 0.5  # Adjust the threshold as needed\n",
        "\n",
        "predicted_labels = (torch.sigmoid(predicted_labels) > threshold).to(torch.int).tolist()\n",
        "\n",
        "# Create a new DataFrame with the predicted labels\n",
        "label_df = pd.DataFrame(predicted_labels, columns=class_names)\n",
        "\n",
        "# Concatenate the original DataFrame with the label DataFrame\n",
        "result_df = pd.concat([predict_data, label_df], axis=1)\n",
        "\n",
        "# Save the result DataFrame as a new CSV file\n",
        "result_df.to_csv('/content/drive/MyDrive/zidan/daraz_predictions.csv', index= False)"
      ],
      "metadata": {
        "id": "vHG1Nya0iQpN"
      },
      "execution_count": null,
      "outputs": []
    },
    {
      "cell_type": "code",
      "source": [
        "result_df"
      ],
      "metadata": {
        "id": "W56IulfrjmGQ"
      },
      "execution_count": null,
      "outputs": []
    }
  ],
  "metadata": {
    "accelerator": "GPU",
    "colab": {
      "provenance": [],
      "gpuType": "T4",
      "include_colab_link": true
    },
    "kernelspec": {
      "display_name": "Python 3",
      "name": "python3"
    },
    "language_info": {
      "name": "python"
    }
  },
  "nbformat": 4,
  "nbformat_minor": 0
}