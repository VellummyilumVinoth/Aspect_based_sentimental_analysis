{
  "nbformat": 4,
  "nbformat_minor": 0,
  "metadata": {
    "colab": {
      "provenance": [],
      "gpuType": "T4",
      "include_colab_link": true
    },
    "kernelspec": {
      "name": "python3",
      "display_name": "Python 3"
    },
    "language_info": {
      "name": "python"
    },
    "accelerator": "GPU"
  },
  "cells": [
    {
      "cell_type": "markdown",
      "metadata": {
        "id": "view-in-github",
        "colab_type": "text"
      },
      "source": [
        "<a href=\"https://colab.research.google.com/github/VellummyilumVinoth/Aspect_based_sentimental_analysis/blob/main/preprocessing_reviews.ipynb\" target=\"_parent\"><img src=\"https://colab.research.google.com/assets/colab-badge.svg\" alt=\"Open In Colab\"/></a>"
      ]
    },
    {
      "cell_type": "code",
      "source": [
        "!pip install demoji"
      ],
      "metadata": {
        "colab": {
          "base_uri": "https://localhost:8080/"
        },
        "id": "BMB5fZjcomZh",
        "outputId": "de38d6f5-e212-466a-d048-f90b53c016f9"
      },
      "execution_count": 1,
      "outputs": [
        {
          "output_type": "stream",
          "name": "stdout",
          "text": [
            "Looking in indexes: https://pypi.org/simple, https://us-python.pkg.dev/colab-wheels/public/simple/\n",
            "Collecting demoji\n",
            "  Downloading demoji-1.1.0-py3-none-any.whl (42 kB)\n",
            "\u001b[2K     \u001b[90m━━━━━━━━━━━━━━━━━━━━━━━━━━━━━━━━━━━━━━━━\u001b[0m \u001b[32m42.9/42.9 kB\u001b[0m \u001b[31m5.8 MB/s\u001b[0m eta \u001b[36m0:00:00\u001b[0m\n",
            "\u001b[?25hInstalling collected packages: demoji\n",
            "Successfully installed demoji-1.1.0\n"
          ]
        }
      ]
    },
    {
      "cell_type": "code",
      "source": [
        "import pandas as pd\n",
        "import demoji\n",
        "import nltk\n",
        "from nltk.corpus import stopwords\n",
        "from nltk.tokenize import word_tokenize\n",
        "from nltk.stem import PorterStemmer, WordNetLemmatizer"
      ],
      "metadata": {
        "id": "WGsHn9YCo7bI"
      },
      "execution_count": 2,
      "outputs": []
    },
    {
      "cell_type": "code",
      "source": [
        "from google.colab import drive\n",
        "drive.mount('/content/drive')"
      ],
      "metadata": {
        "colab": {
          "base_uri": "https://localhost:8080/"
        },
        "id": "tzW1BWVmoofa",
        "outputId": "7d79c9b4-a873-4bdc-cb8d-3c76cbb771fa"
      },
      "execution_count": 3,
      "outputs": [
        {
          "output_type": "stream",
          "name": "stdout",
          "text": [
            "Mounted at /content/drive\n"
          ]
        }
      ]
    },
    {
      "cell_type": "code",
      "source": [
        "dataset = pd.read_csv('/content/drive/MyDrive/zidan/HealthAndHouseHold.csv')"
      ],
      "metadata": {
        "id": "1KGk3Bqgc99W"
      },
      "execution_count": 29,
      "outputs": []
    },
    {
      "cell_type": "code",
      "source": [
        "# Specify the column names you want to keep\n",
        "desired_columns = ['product_name', 'review']\n",
        "\n",
        "# Create a new DataFrame with only the desired columns\n",
        "dataset = dataset[desired_columns]"
      ],
      "metadata": {
        "id": "7kUy5uvLpAI8"
      },
      "execution_count": 30,
      "outputs": []
    },
    {
      "cell_type": "code",
      "source": [
        "# Remove rows with any null values\n",
        "dataset = dataset.dropna().reset_index(drop=True)"
      ],
      "metadata": {
        "id": "O2azrFOTT2OL"
      },
      "execution_count": 31,
      "outputs": []
    },
    {
      "cell_type": "code",
      "source": [
        "dataset"
      ],
      "metadata": {
        "id": "kYvH9TdjqTvv",
        "colab": {
          "base_uri": "https://localhost:8080/",
          "height": 424
        },
        "outputId": "95843f3c-a466-4a2a-826a-e0652ffeb1e7"
      },
      "execution_count": 32,
      "outputs": [
        {
          "output_type": "execute_result",
          "data": {
            "text/plain": [
              "                                            product_name  \\\n",
              "0      Salate Cordless Electric Spin Scrubber, Electr...   \n",
              "1      Salate Cordless Electric Spin Scrubber, Electr...   \n",
              "2      Salate Cordless Electric Spin Scrubber, Electr...   \n",
              "3      Salate Cordless Electric Spin Scrubber, Electr...   \n",
              "4      Salate Cordless Electric Spin Scrubber, Electr...   \n",
              "...                                                  ...   \n",
              "11052  2 Pack Pumice Stone for Toilet Cleaning with E...   \n",
              "11053  2 Pack Pumice Stone for Toilet Cleaning with E...   \n",
              "11054  2 Pack Pumice Stone for Toilet Cleaning with E...   \n",
              "11055  2 Pack Pumice Stone for Toilet Cleaning with E...   \n",
              "11056  2 Pack Pumice Stone for Toilet Cleaning with E...   \n",
              "\n",
              "                                                  review  \n",
              "0      I absolutely love this wireless electric spin ...  \n",
              "1      i used this to clean my bathroom and this work...  \n",
              "2      This electric brush makes cleaning so much eas...  \n",
              "3      This Electric spin scrubber is perfect! Use it...  \n",
              "4      I don’t like cleaning but this machine help me...  \n",
              "...                                                  ...  \n",
              "11052                                         Work great  \n",
              "11053  The tool works fairly well for removing hard s...  \n",
              "11054  Long handle so you don’t have to put your hand...  \n",
              "11055  It works very nicely on these Arizona hard wat...  \n",
              "11056  I used this product in my new condo which had ...  \n",
              "\n",
              "[11057 rows x 2 columns]"
            ],
            "text/html": [
              "\n",
              "  <div id=\"df-d34b8991-2843-43ad-a004-dddb52c5ca46\">\n",
              "    <div class=\"colab-df-container\">\n",
              "      <div>\n",
              "<style scoped>\n",
              "    .dataframe tbody tr th:only-of-type {\n",
              "        vertical-align: middle;\n",
              "    }\n",
              "\n",
              "    .dataframe tbody tr th {\n",
              "        vertical-align: top;\n",
              "    }\n",
              "\n",
              "    .dataframe thead th {\n",
              "        text-align: right;\n",
              "    }\n",
              "</style>\n",
              "<table border=\"1\" class=\"dataframe\">\n",
              "  <thead>\n",
              "    <tr style=\"text-align: right;\">\n",
              "      <th></th>\n",
              "      <th>product_name</th>\n",
              "      <th>review</th>\n",
              "    </tr>\n",
              "  </thead>\n",
              "  <tbody>\n",
              "    <tr>\n",
              "      <th>0</th>\n",
              "      <td>Salate Cordless Electric Spin Scrubber, Electr...</td>\n",
              "      <td>I absolutely love this wireless electric spin ...</td>\n",
              "    </tr>\n",
              "    <tr>\n",
              "      <th>1</th>\n",
              "      <td>Salate Cordless Electric Spin Scrubber, Electr...</td>\n",
              "      <td>i used this to clean my bathroom and this work...</td>\n",
              "    </tr>\n",
              "    <tr>\n",
              "      <th>2</th>\n",
              "      <td>Salate Cordless Electric Spin Scrubber, Electr...</td>\n",
              "      <td>This electric brush makes cleaning so much eas...</td>\n",
              "    </tr>\n",
              "    <tr>\n",
              "      <th>3</th>\n",
              "      <td>Salate Cordless Electric Spin Scrubber, Electr...</td>\n",
              "      <td>This Electric spin scrubber is perfect! Use it...</td>\n",
              "    </tr>\n",
              "    <tr>\n",
              "      <th>4</th>\n",
              "      <td>Salate Cordless Electric Spin Scrubber, Electr...</td>\n",
              "      <td>I don’t like cleaning but this machine help me...</td>\n",
              "    </tr>\n",
              "    <tr>\n",
              "      <th>...</th>\n",
              "      <td>...</td>\n",
              "      <td>...</td>\n",
              "    </tr>\n",
              "    <tr>\n",
              "      <th>11052</th>\n",
              "      <td>2 Pack Pumice Stone for Toilet Cleaning with E...</td>\n",
              "      <td>Work great</td>\n",
              "    </tr>\n",
              "    <tr>\n",
              "      <th>11053</th>\n",
              "      <td>2 Pack Pumice Stone for Toilet Cleaning with E...</td>\n",
              "      <td>The tool works fairly well for removing hard s...</td>\n",
              "    </tr>\n",
              "    <tr>\n",
              "      <th>11054</th>\n",
              "      <td>2 Pack Pumice Stone for Toilet Cleaning with E...</td>\n",
              "      <td>Long handle so you don’t have to put your hand...</td>\n",
              "    </tr>\n",
              "    <tr>\n",
              "      <th>11055</th>\n",
              "      <td>2 Pack Pumice Stone for Toilet Cleaning with E...</td>\n",
              "      <td>It works very nicely on these Arizona hard wat...</td>\n",
              "    </tr>\n",
              "    <tr>\n",
              "      <th>11056</th>\n",
              "      <td>2 Pack Pumice Stone for Toilet Cleaning with E...</td>\n",
              "      <td>I used this product in my new condo which had ...</td>\n",
              "    </tr>\n",
              "  </tbody>\n",
              "</table>\n",
              "<p>11057 rows × 2 columns</p>\n",
              "</div>\n",
              "      <button class=\"colab-df-convert\" onclick=\"convertToInteractive('df-d34b8991-2843-43ad-a004-dddb52c5ca46')\"\n",
              "              title=\"Convert this dataframe to an interactive table.\"\n",
              "              style=\"display:none;\">\n",
              "        \n",
              "  <svg xmlns=\"http://www.w3.org/2000/svg\" height=\"24px\"viewBox=\"0 0 24 24\"\n",
              "       width=\"24px\">\n",
              "    <path d=\"M0 0h24v24H0V0z\" fill=\"none\"/>\n",
              "    <path d=\"M18.56 5.44l.94 2.06.94-2.06 2.06-.94-2.06-.94-.94-2.06-.94 2.06-2.06.94zm-11 1L8.5 8.5l.94-2.06 2.06-.94-2.06-.94L8.5 2.5l-.94 2.06-2.06.94zm10 10l.94 2.06.94-2.06 2.06-.94-2.06-.94-.94-2.06-.94 2.06-2.06.94z\"/><path d=\"M17.41 7.96l-1.37-1.37c-.4-.4-.92-.59-1.43-.59-.52 0-1.04.2-1.43.59L10.3 9.45l-7.72 7.72c-.78.78-.78 2.05 0 2.83L4 21.41c.39.39.9.59 1.41.59.51 0 1.02-.2 1.41-.59l7.78-7.78 2.81-2.81c.8-.78.8-2.07 0-2.86zM5.41 20L4 18.59l7.72-7.72 1.47 1.35L5.41 20z\"/>\n",
              "  </svg>\n",
              "      </button>\n",
              "      \n",
              "  <style>\n",
              "    .colab-df-container {\n",
              "      display:flex;\n",
              "      flex-wrap:wrap;\n",
              "      gap: 12px;\n",
              "    }\n",
              "\n",
              "    .colab-df-convert {\n",
              "      background-color: #E8F0FE;\n",
              "      border: none;\n",
              "      border-radius: 50%;\n",
              "      cursor: pointer;\n",
              "      display: none;\n",
              "      fill: #1967D2;\n",
              "      height: 32px;\n",
              "      padding: 0 0 0 0;\n",
              "      width: 32px;\n",
              "    }\n",
              "\n",
              "    .colab-df-convert:hover {\n",
              "      background-color: #E2EBFA;\n",
              "      box-shadow: 0px 1px 2px rgba(60, 64, 67, 0.3), 0px 1px 3px 1px rgba(60, 64, 67, 0.15);\n",
              "      fill: #174EA6;\n",
              "    }\n",
              "\n",
              "    [theme=dark] .colab-df-convert {\n",
              "      background-color: #3B4455;\n",
              "      fill: #D2E3FC;\n",
              "    }\n",
              "\n",
              "    [theme=dark] .colab-df-convert:hover {\n",
              "      background-color: #434B5C;\n",
              "      box-shadow: 0px 1px 3px 1px rgba(0, 0, 0, 0.15);\n",
              "      filter: drop-shadow(0px 1px 2px rgba(0, 0, 0, 0.3));\n",
              "      fill: #FFFFFF;\n",
              "    }\n",
              "  </style>\n",
              "\n",
              "      <script>\n",
              "        const buttonEl =\n",
              "          document.querySelector('#df-d34b8991-2843-43ad-a004-dddb52c5ca46 button.colab-df-convert');\n",
              "        buttonEl.style.display =\n",
              "          google.colab.kernel.accessAllowed ? 'block' : 'none';\n",
              "\n",
              "        async function convertToInteractive(key) {\n",
              "          const element = document.querySelector('#df-d34b8991-2843-43ad-a004-dddb52c5ca46');\n",
              "          const dataTable =\n",
              "            await google.colab.kernel.invokeFunction('convertToInteractive',\n",
              "                                                     [key], {});\n",
              "          if (!dataTable) return;\n",
              "\n",
              "          const docLinkHtml = 'Like what you see? Visit the ' +\n",
              "            '<a target=\"_blank\" href=https://colab.research.google.com/notebooks/data_table.ipynb>data table notebook</a>'\n",
              "            + ' to learn more about interactive tables.';\n",
              "          element.innerHTML = '';\n",
              "          dataTable['output_type'] = 'display_data';\n",
              "          await google.colab.output.renderOutput(dataTable, element);\n",
              "          const docLink = document.createElement('div');\n",
              "          docLink.innerHTML = docLinkHtml;\n",
              "          element.appendChild(docLink);\n",
              "        }\n",
              "      </script>\n",
              "    </div>\n",
              "  </div>\n",
              "  "
            ]
          },
          "metadata": {},
          "execution_count": 32
        }
      ]
    },
    {
      "cell_type": "code",
      "source": [
        "dataset.loc[62]['review']"
      ],
      "metadata": {
        "colab": {
          "base_uri": "https://localhost:8080/",
          "height": 35
        },
        "id": "Jy83YJKaEdmR",
        "outputId": "cc7fb732-22dc-4082-fd3b-cb00b138e04d"
      },
      "execution_count": 22,
      "outputs": [
        {
          "output_type": "execute_result",
          "data": {
            "text/plain": [
              "\"Don't know who makes these but they last longer than any brand I have tried. Used for medical device, I keep track of the hours of service. My go to brand for batteries now. 👍👍\""
            ],
            "application/vnd.google.colaboratory.intrinsic+json": {
              "type": "string"
            }
          },
          "metadata": {},
          "execution_count": 22
        }
      ]
    },
    {
      "cell_type": "code",
      "source": [
        "# Download the demoji library's emoji descriptions (only required once)\n",
        "demoji.download_codes()\n",
        "\n",
        "# Define a function to replace emojis with their corresponding descriptions\n",
        "def replace_emojis(text):\n",
        "    emojis = demoji.findall(text)\n",
        "    \n",
        "    for emoji in emojis:\n",
        "        text = text.replace(emoji, \"\" + emojis[emoji].split(\":\")[0])\n",
        "\n",
        "    return text\n",
        "\n",
        "dataset['review_without_emoji'] = dataset['review'].astype(str)  # Convert to string type\n",
        "\n",
        "# Apply the function to the 'review' column\n",
        "dataset['review_without_emoji'] = dataset['review_without_emoji'].apply(replace_emojis)"
      ],
      "metadata": {
        "colab": {
          "base_uri": "https://localhost:8080/"
        },
        "id": "90xCU0TtrJll",
        "outputId": "8bd2f966-3439-42ae-e93d-b6acea48024f"
      },
      "execution_count": 19,
      "outputs": [
        {
          "output_type": "stream",
          "name": "stderr",
          "text": [
            "<ipython-input-19-53f70f07a9d2>:2: FutureWarning: The demoji.download_codes attribute is deprecated and will be removed from demoji in a future version. It is an unused attribute as emoji codes are now distributed directly with the demoji package.\n",
            "  demoji.download_codes()\n"
          ]
        }
      ]
    },
    {
      "cell_type": "code",
      "source": [
        "dataset.loc[62]['review_without_emoji']"
      ],
      "metadata": {
        "colab": {
          "base_uri": "https://localhost:8080/",
          "height": 35
        },
        "id": "h4gchj887IEQ",
        "outputId": "d1c7e3e2-e9a4-459c-82b1-6c7055298ef9"
      },
      "execution_count": 23,
      "outputs": [
        {
          "output_type": "execute_result",
          "data": {
            "text/plain": [
              "\"Don't know who makes these but they last longer than any brand I have tried. Used for medical device, I keep track of the hours of service. My go to brand for batteries now. thumbs upthumbs up\""
            ],
            "application/vnd.google.colaboratory.intrinsic+json": {
              "type": "string"
            }
          },
          "metadata": {},
          "execution_count": 23
        }
      ]
    },
    {
      "cell_type": "code",
      "source": [
        "import re\n",
        "nltk.download('stopwords')\n",
        "\n",
        "# Define a function to remove symbols\n",
        "def remove_symbols(text):\n",
        "\n",
        "    # Lowercase the text\n",
        "    text = text.lower()\n",
        "\n",
        "    # Define the pattern to match the symbols you want to remove\n",
        "    pattern = r'[-,\"\\'’\\.!:;…_+=@#$%^&*{\\[()\\]}]'\n",
        "    \n",
        "    # Remove the symbols using regular expressions\n",
        "    text = re.sub(pattern, '', text)\n",
        "    \n",
        "    return text\n",
        "\n",
        "# Create a new column 'preprocess_text' and apply the preprocessing function to 'review' column\n",
        "dataset['preprocess_text'] = dataset['review_without_emoji'].apply(remove_symbols)"
      ],
      "metadata": {
        "id": "27a_6tKh6G8d",
        "outputId": "8f826213-2ada-41fb-b9cd-21ca534f240e",
        "colab": {
          "base_uri": "https://localhost:8080/"
        }
      },
      "execution_count": 25,
      "outputs": [
        {
          "output_type": "stream",
          "name": "stderr",
          "text": [
            "[nltk_data] Downloading package stopwords to /root/nltk_data...\n",
            "[nltk_data]   Package stopwords is already up-to-date!\n"
          ]
        }
      ]
    },
    {
      "cell_type": "code",
      "source": [
        "\n",
        "# Download NLTK resources (only required once)\n",
        "nltk.download('punkt')\n",
        "nltk.download('stopwords')\n",
        "nltk.download('wordnet')\n",
        "\n",
        "# Initialize stemmer and lemmatizer\n",
        "stemmer = PorterStemmer()\n",
        "lemmatizer = WordNetLemmatizer()\n",
        "\n",
        "# Define a function to preprocess the text\n",
        "def preprocess_text(text):\n",
        "    \n",
        "    # Tokenize the text into individual words\n",
        "    tokens = word_tokenize(text)\n",
        "    \n",
        "    # Remove stop words\n",
        "    stop_words = set(stopwords.words('english'))\n",
        "    tokens = [token for token in tokens if token not in stop_words]\n",
        "    \n",
        "    # Perform stemming and lemmatization\n",
        "    stemmed_tokens = [stemmer.stem(token) for token in tokens]\n",
        "    lemmatized_tokens = [lemmatizer.lemmatize(token) for token in stemmed_tokens]\n",
        "    \n",
        "    # Join the tokens back into a single string\n",
        "    preprocessed_text = ' '.join(lemmatized_tokens)\n",
        "    \n",
        "    return tokens\n",
        "\n",
        "# Apply the preprocessing function to the 'review' column\n",
        "dataset['preprocess_text1'] = dataset['preprocess_text'].apply(preprocess_text)\n"
      ],
      "metadata": {
        "colab": {
          "base_uri": "https://localhost:8080/"
        },
        "id": "Aid5sS87vhNK",
        "outputId": "dabbd2a4-6897-416f-ba6e-8e94815c7936"
      },
      "execution_count": 26,
      "outputs": [
        {
          "output_type": "stream",
          "name": "stderr",
          "text": [
            "[nltk_data] Downloading package punkt to /root/nltk_data...\n",
            "[nltk_data]   Unzipping tokenizers/punkt.zip.\n",
            "[nltk_data] Downloading package stopwords to /root/nltk_data...\n",
            "[nltk_data]   Package stopwords is already up-to-date!\n",
            "[nltk_data] Downloading package wordnet to /root/nltk_data...\n"
          ]
        }
      ]
    },
    {
      "cell_type": "code",
      "source": [
        "dataset.head(100)"
      ],
      "metadata": {
        "colab": {
          "base_uri": "https://localhost:8080/",
          "height": 641
        },
        "id": "u7QCGSrux3Ws",
        "outputId": "e4c94d0a-0bfc-49d1-8d94-9e520caca9c0"
      },
      "execution_count": 27,
      "outputs": [
        {
          "output_type": "execute_result",
          "data": {
            "text/plain": [
              "                                         product_name  \\\n",
              "0   Salate Cordless Electric Spin Scrubber, Electr...   \n",
              "1   Salate Cordless Electric Spin Scrubber, Electr...   \n",
              "2   Salate Cordless Electric Spin Scrubber, Electr...   \n",
              "3   Salate Cordless Electric Spin Scrubber, Electr...   \n",
              "4   Salate Cordless Electric Spin Scrubber, Electr...   \n",
              "..                                                ...   \n",
              "95  Cottonelle Ultra Comfort Toilet Paper with Cus...   \n",
              "96  Dixie 10 Inch Paper Plates, Dinner Size Printe...   \n",
              "97  Dixie 10 Inch Paper Plates, Dinner Size Printe...   \n",
              "98  Dixie 10 Inch Paper Plates, Dinner Size Printe...   \n",
              "99  Dixie 10 Inch Paper Plates, Dinner Size Printe...   \n",
              "\n",
              "                                               review  \\\n",
              "0   I absolutely love this wireless electric spin ...   \n",
              "1   i used this to clean my bathroom and this work...   \n",
              "2   This electric brush makes cleaning so much eas...   \n",
              "3   This Electric spin scrubber is perfect! Use it...   \n",
              "4   I don’t like cleaning but this machine help me...   \n",
              "..                                                ...   \n",
              "95                 Price was okay, prefer this brand.   \n",
              "96  I purchased these plates. They are great, I us...   \n",
              "97                 Dixie is a fine brand. Dependable.   \n",
              "98  IT REALLY FUNCTIONS, WORKS SO MUCH BETTER THAN...   \n",
              "99                                 Heavy duty, sturdy   \n",
              "\n",
              "                                 review_without_emoji  \\\n",
              "0   I absolutely love this wireless electric spin ...   \n",
              "1   i used this to clean my bathroom and this work...   \n",
              "2   This electric brush makes cleaning so much eas...   \n",
              "3   This Electric spin scrubber is perfect! Use it...   \n",
              "4   I don’t like cleaning but this machine help me...   \n",
              "..                                                ...   \n",
              "95                 Price was okay, prefer this brand.   \n",
              "96  I purchased these plates. They are great, I us...   \n",
              "97                 Dixie is a fine brand. Dependable.   \n",
              "98  IT REALLY FUNCTIONS, WORKS SO MUCH BETTER THAN...   \n",
              "99                                 Heavy duty, sturdy   \n",
              "\n",
              "                                      preprocess_text  \\\n",
              "0   i absolutely love this wireless electric spin ...   \n",
              "1   i used this to clean my bathroom and this work...   \n",
              "2   this electric brush makes cleaning so much eas...   \n",
              "3   this electric spin scrubber is perfect use it ...   \n",
              "4   i dont like cleaning but this machine help me ...   \n",
              "..                                                ...   \n",
              "95                   price was okay prefer this brand   \n",
              "96  i purchased these plates they are great i use ...   \n",
              "97                   dixie is a fine brand dependable   \n",
              "98  it really functions works so much better than ...   \n",
              "99                                  heavy duty sturdy   \n",
              "\n",
              "                                     preprocess_text1  \n",
              "0   [absolutely, love, wireless, electric, spin, s...  \n",
              "1   [used, clean, bathroom, works, wonders, stress...  \n",
              "2   [electric, brush, makes, cleaning, much, easie...  \n",
              "3   [electric, spin, scrubber, perfect, use, clean...  \n",
              "4   [dont, like, cleaning, machine, help, lotits, ...  \n",
              "..                                                ...  \n",
              "95                       [price, okay, prefer, brand]  \n",
              "96  [purchased, plates, great, use, warm, food, mi...  \n",
              "97                   [dixie, fine, brand, dependable]  \n",
              "98  [really, functions, works, much, better, flat,...  \n",
              "99                              [heavy, duty, sturdy]  \n",
              "\n",
              "[100 rows x 5 columns]"
            ],
            "text/html": [
              "\n",
              "  <div id=\"df-92e69179-127a-4b90-a3db-06e53596eaa3\">\n",
              "    <div class=\"colab-df-container\">\n",
              "      <div>\n",
              "<style scoped>\n",
              "    .dataframe tbody tr th:only-of-type {\n",
              "        vertical-align: middle;\n",
              "    }\n",
              "\n",
              "    .dataframe tbody tr th {\n",
              "        vertical-align: top;\n",
              "    }\n",
              "\n",
              "    .dataframe thead th {\n",
              "        text-align: right;\n",
              "    }\n",
              "</style>\n",
              "<table border=\"1\" class=\"dataframe\">\n",
              "  <thead>\n",
              "    <tr style=\"text-align: right;\">\n",
              "      <th></th>\n",
              "      <th>product_name</th>\n",
              "      <th>review</th>\n",
              "      <th>review_without_emoji</th>\n",
              "      <th>preprocess_text</th>\n",
              "      <th>preprocess_text1</th>\n",
              "    </tr>\n",
              "  </thead>\n",
              "  <tbody>\n",
              "    <tr>\n",
              "      <th>0</th>\n",
              "      <td>Salate Cordless Electric Spin Scrubber, Electr...</td>\n",
              "      <td>I absolutely love this wireless electric spin ...</td>\n",
              "      <td>I absolutely love this wireless electric spin ...</td>\n",
              "      <td>i absolutely love this wireless electric spin ...</td>\n",
              "      <td>[absolutely, love, wireless, electric, spin, s...</td>\n",
              "    </tr>\n",
              "    <tr>\n",
              "      <th>1</th>\n",
              "      <td>Salate Cordless Electric Spin Scrubber, Electr...</td>\n",
              "      <td>i used this to clean my bathroom and this work...</td>\n",
              "      <td>i used this to clean my bathroom and this work...</td>\n",
              "      <td>i used this to clean my bathroom and this work...</td>\n",
              "      <td>[used, clean, bathroom, works, wonders, stress...</td>\n",
              "    </tr>\n",
              "    <tr>\n",
              "      <th>2</th>\n",
              "      <td>Salate Cordless Electric Spin Scrubber, Electr...</td>\n",
              "      <td>This electric brush makes cleaning so much eas...</td>\n",
              "      <td>This electric brush makes cleaning so much eas...</td>\n",
              "      <td>this electric brush makes cleaning so much eas...</td>\n",
              "      <td>[electric, brush, makes, cleaning, much, easie...</td>\n",
              "    </tr>\n",
              "    <tr>\n",
              "      <th>3</th>\n",
              "      <td>Salate Cordless Electric Spin Scrubber, Electr...</td>\n",
              "      <td>This Electric spin scrubber is perfect! Use it...</td>\n",
              "      <td>This Electric spin scrubber is perfect! Use it...</td>\n",
              "      <td>this electric spin scrubber is perfect use it ...</td>\n",
              "      <td>[electric, spin, scrubber, perfect, use, clean...</td>\n",
              "    </tr>\n",
              "    <tr>\n",
              "      <th>4</th>\n",
              "      <td>Salate Cordless Electric Spin Scrubber, Electr...</td>\n",
              "      <td>I don’t like cleaning but this machine help me...</td>\n",
              "      <td>I don’t like cleaning but this machine help me...</td>\n",
              "      <td>i dont like cleaning but this machine help me ...</td>\n",
              "      <td>[dont, like, cleaning, machine, help, lotits, ...</td>\n",
              "    </tr>\n",
              "    <tr>\n",
              "      <th>...</th>\n",
              "      <td>...</td>\n",
              "      <td>...</td>\n",
              "      <td>...</td>\n",
              "      <td>...</td>\n",
              "      <td>...</td>\n",
              "    </tr>\n",
              "    <tr>\n",
              "      <th>95</th>\n",
              "      <td>Cottonelle Ultra Comfort Toilet Paper with Cus...</td>\n",
              "      <td>Price was okay, prefer this brand.</td>\n",
              "      <td>Price was okay, prefer this brand.</td>\n",
              "      <td>price was okay prefer this brand</td>\n",
              "      <td>[price, okay, prefer, brand]</td>\n",
              "    </tr>\n",
              "    <tr>\n",
              "      <th>96</th>\n",
              "      <td>Dixie 10 Inch Paper Plates, Dinner Size Printe...</td>\n",
              "      <td>I purchased these plates. They are great, I us...</td>\n",
              "      <td>I purchased these plates. They are great, I us...</td>\n",
              "      <td>i purchased these plates they are great i use ...</td>\n",
              "      <td>[purchased, plates, great, use, warm, food, mi...</td>\n",
              "    </tr>\n",
              "    <tr>\n",
              "      <th>97</th>\n",
              "      <td>Dixie 10 Inch Paper Plates, Dinner Size Printe...</td>\n",
              "      <td>Dixie is a fine brand. Dependable.</td>\n",
              "      <td>Dixie is a fine brand. Dependable.</td>\n",
              "      <td>dixie is a fine brand dependable</td>\n",
              "      <td>[dixie, fine, brand, dependable]</td>\n",
              "    </tr>\n",
              "    <tr>\n",
              "      <th>98</th>\n",
              "      <td>Dixie 10 Inch Paper Plates, Dinner Size Printe...</td>\n",
              "      <td>IT REALLY FUNCTIONS, WORKS SO MUCH BETTER THAN...</td>\n",
              "      <td>IT REALLY FUNCTIONS, WORKS SO MUCH BETTER THAN...</td>\n",
              "      <td>it really functions works so much better than ...</td>\n",
              "      <td>[really, functions, works, much, better, flat,...</td>\n",
              "    </tr>\n",
              "    <tr>\n",
              "      <th>99</th>\n",
              "      <td>Dixie 10 Inch Paper Plates, Dinner Size Printe...</td>\n",
              "      <td>Heavy duty, sturdy</td>\n",
              "      <td>Heavy duty, sturdy</td>\n",
              "      <td>heavy duty sturdy</td>\n",
              "      <td>[heavy, duty, sturdy]</td>\n",
              "    </tr>\n",
              "  </tbody>\n",
              "</table>\n",
              "<p>100 rows × 5 columns</p>\n",
              "</div>\n",
              "      <button class=\"colab-df-convert\" onclick=\"convertToInteractive('df-92e69179-127a-4b90-a3db-06e53596eaa3')\"\n",
              "              title=\"Convert this dataframe to an interactive table.\"\n",
              "              style=\"display:none;\">\n",
              "        \n",
              "  <svg xmlns=\"http://www.w3.org/2000/svg\" height=\"24px\"viewBox=\"0 0 24 24\"\n",
              "       width=\"24px\">\n",
              "    <path d=\"M0 0h24v24H0V0z\" fill=\"none\"/>\n",
              "    <path d=\"M18.56 5.44l.94 2.06.94-2.06 2.06-.94-2.06-.94-.94-2.06-.94 2.06-2.06.94zm-11 1L8.5 8.5l.94-2.06 2.06-.94-2.06-.94L8.5 2.5l-.94 2.06-2.06.94zm10 10l.94 2.06.94-2.06 2.06-.94-2.06-.94-.94-2.06-.94 2.06-2.06.94z\"/><path d=\"M17.41 7.96l-1.37-1.37c-.4-.4-.92-.59-1.43-.59-.52 0-1.04.2-1.43.59L10.3 9.45l-7.72 7.72c-.78.78-.78 2.05 0 2.83L4 21.41c.39.39.9.59 1.41.59.51 0 1.02-.2 1.41-.59l7.78-7.78 2.81-2.81c.8-.78.8-2.07 0-2.86zM5.41 20L4 18.59l7.72-7.72 1.47 1.35L5.41 20z\"/>\n",
              "  </svg>\n",
              "      </button>\n",
              "      \n",
              "  <style>\n",
              "    .colab-df-container {\n",
              "      display:flex;\n",
              "      flex-wrap:wrap;\n",
              "      gap: 12px;\n",
              "    }\n",
              "\n",
              "    .colab-df-convert {\n",
              "      background-color: #E8F0FE;\n",
              "      border: none;\n",
              "      border-radius: 50%;\n",
              "      cursor: pointer;\n",
              "      display: none;\n",
              "      fill: #1967D2;\n",
              "      height: 32px;\n",
              "      padding: 0 0 0 0;\n",
              "      width: 32px;\n",
              "    }\n",
              "\n",
              "    .colab-df-convert:hover {\n",
              "      background-color: #E2EBFA;\n",
              "      box-shadow: 0px 1px 2px rgba(60, 64, 67, 0.3), 0px 1px 3px 1px rgba(60, 64, 67, 0.15);\n",
              "      fill: #174EA6;\n",
              "    }\n",
              "\n",
              "    [theme=dark] .colab-df-convert {\n",
              "      background-color: #3B4455;\n",
              "      fill: #D2E3FC;\n",
              "    }\n",
              "\n",
              "    [theme=dark] .colab-df-convert:hover {\n",
              "      background-color: #434B5C;\n",
              "      box-shadow: 0px 1px 3px 1px rgba(0, 0, 0, 0.15);\n",
              "      filter: drop-shadow(0px 1px 2px rgba(0, 0, 0, 0.3));\n",
              "      fill: #FFFFFF;\n",
              "    }\n",
              "  </style>\n",
              "\n",
              "      <script>\n",
              "        const buttonEl =\n",
              "          document.querySelector('#df-92e69179-127a-4b90-a3db-06e53596eaa3 button.colab-df-convert');\n",
              "        buttonEl.style.display =\n",
              "          google.colab.kernel.accessAllowed ? 'block' : 'none';\n",
              "\n",
              "        async function convertToInteractive(key) {\n",
              "          const element = document.querySelector('#df-92e69179-127a-4b90-a3db-06e53596eaa3');\n",
              "          const dataTable =\n",
              "            await google.colab.kernel.invokeFunction('convertToInteractive',\n",
              "                                                     [key], {});\n",
              "          if (!dataTable) return;\n",
              "\n",
              "          const docLinkHtml = 'Like what you see? Visit the ' +\n",
              "            '<a target=\"_blank\" href=https://colab.research.google.com/notebooks/data_table.ipynb>data table notebook</a>'\n",
              "            + ' to learn more about interactive tables.';\n",
              "          element.innerHTML = '';\n",
              "          dataTable['output_type'] = 'display_data';\n",
              "          await google.colab.output.renderOutput(dataTable, element);\n",
              "          const docLink = document.createElement('div');\n",
              "          docLink.innerHTML = docLinkHtml;\n",
              "          element.appendChild(docLink);\n",
              "        }\n",
              "      </script>\n",
              "    </div>\n",
              "  </div>\n",
              "  "
            ]
          },
          "metadata": {},
          "execution_count": 27
        }
      ]
    },
    {
      "cell_type": "code",
      "source": [
        "# Specify the path and filename for saving the CSV file\n",
        "save_path = '/content/drive/MyDrive/zidan/preprocessed_data.csv'\n",
        "\n",
        "# Save the preprocessed data to CSV\n",
        "dataset.to_csv(save_path, index=False)"
      ],
      "metadata": {
        "id": "7dHHZrC9zF-g"
      },
      "execution_count": 28,
      "outputs": []
    }
  ]
}