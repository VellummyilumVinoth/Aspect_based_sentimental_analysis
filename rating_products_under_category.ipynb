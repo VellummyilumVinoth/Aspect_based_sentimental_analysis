{
  "nbformat": 4,
  "nbformat_minor": 0,
  "metadata": {
    "colab": {
      "provenance": [],
      "gpuType": "T4",
      "authorship_tag": "ABX9TyOPceoV7PjnoXMdLaJdEVik",
      "include_colab_link": true
    },
    "kernelspec": {
      "name": "python3",
      "display_name": "Python 3"
    },
    "language_info": {
      "name": "python"
    },
    "accelerator": "GPU"
  },
  "cells": [
    {
      "cell_type": "markdown",
      "metadata": {
        "id": "view-in-github",
        "colab_type": "text"
      },
      "source": [
        "<a href=\"https://colab.research.google.com/github/VellummyilumVinoth/Aspect_based_sentimental_analysis/blob/main/rating_products_under_category.ipynb\" target=\"_parent\"><img src=\"https://colab.research.google.com/assets/colab-badge.svg\" alt=\"Open In Colab\"/></a>"
      ]
    },
    {
      "cell_type": "code",
      "execution_count": 2,
      "metadata": {
        "colab": {
          "base_uri": "https://localhost:8080/"
        },
        "id": "dWnyAohAX05M",
        "outputId": "0fc78911-14dc-433b-e87b-816a6d2d8882"
      },
      "outputs": [
        {
          "output_type": "stream",
          "name": "stdout",
          "text": [
            "Mounted at /content/drive\n",
            "Category: Laundry, Product: Sunlight Care Detergent Liquid, 1L, Overall Sentiment Score: 0.33598017359296567\n"
          ]
        }
      ],
      "source": [
        "import pandas as pd\n",
        "\n",
        "from google.colab import drive\n",
        "drive.mount('/content/drive')\n",
        "\n",
        "# Load the dataset\n",
        "df = pd.read_csv('/content/drive/MyDrive/zidan/daraz_sentiment_analysis.csv')\n",
        "\n",
        "# Group the reviews by product and category\n",
        "grouped = df.groupby(['Product Name', 'Category'])\n",
        "\n",
        "top_products = []\n",
        "\n",
        "# Iterate through each group\n",
        "for name, group in grouped:\n",
        "    product_name, category = name\n",
        "\n",
        "    # Calculate the overall sentiment score for each product\n",
        "    overall_sentiment_score = group['Overall Sentiment Score'].mean()\n",
        "\n",
        "    top_products.append((product_name, category, overall_sentiment_score))\n",
        "\n",
        "# Sort the products within each category based on overall sentiment scores\n",
        "top_products.sort(key=lambda x: (x[1], x[2]), reverse=True)\n",
        "\n",
        "# Select the top 10 products in each category\n",
        "top_10_products = []\n",
        "current_category = None\n",
        "count = 0\n",
        "\n",
        "for product in top_products:\n",
        "    product_name, category, overall_sentiment_score = product\n",
        "\n",
        "    if category != current_category:\n",
        "        current_category = category\n",
        "        count = 0\n",
        "\n",
        "    if count < 10:\n",
        "        top_10_products.append(product)\n",
        "        count += 1\n",
        "\n",
        "# Print the top 10 products in each category\n",
        "for product in top_10_products:\n",
        "    print(f\"Category: {product[1]}, Product: {product[0]}, Overall Sentiment Score: {product[2]}\")\n"
      ]
    }
  ]
}