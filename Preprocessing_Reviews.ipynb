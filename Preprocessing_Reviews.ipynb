{
  "nbformat": 4,
  "nbformat_minor": 0,
  "metadata": {
    "colab": {
      "provenance": [],
      "gpuType": "T4",
      "include_colab_link": true
    },
    "kernelspec": {
      "name": "python3",
      "display_name": "Python 3"
    },
    "language_info": {
      "name": "python"
    },
    "accelerator": "GPU"
  },
  "cells": [
    {
      "cell_type": "markdown",
      "metadata": {
        "id": "view-in-github",
        "colab_type": "text"
      },
      "source": [
        "<a href=\"https://colab.research.google.com/github/VellummyilumVinoth/Aspect_based_sentimental_analysis/blob/main/Preprocessing_Reviews.ipynb\" target=\"_parent\"><img src=\"https://colab.research.google.com/assets/colab-badge.svg\" alt=\"Open In Colab\"/></a>"
      ]
    },
    {
      "cell_type": "code",
      "source": [
        "!pip install demoji"
      ],
      "metadata": {
        "colab": {
          "base_uri": "https://localhost:8080/"
        },
        "id": "BMB5fZjcomZh",
        "outputId": "8bd44e33-be91-4707-ecd5-0eb237355d71"
      },
      "execution_count": 27,
      "outputs": [
        {
          "output_type": "stream",
          "name": "stdout",
          "text": [
            "Looking in indexes: https://pypi.org/simple, https://us-python.pkg.dev/colab-wheels/public/simple/\n",
            "Requirement already satisfied: demoji in /usr/local/lib/python3.10/dist-packages (1.1.0)\n"
          ]
        }
      ]
    },
    {
      "cell_type": "code",
      "source": [
        "import pandas as pd\n",
        "import demoji\n",
        "import nltk\n",
        "from nltk.corpus import stopwords\n",
        "from nltk.tokenize import word_tokenize\n",
        "from nltk.stem import PorterStemmer, WordNetLemmatizer"
      ],
      "metadata": {
        "id": "WGsHn9YCo7bI"
      },
      "execution_count": 28,
      "outputs": []
    },
    {
      "cell_type": "code",
      "source": [
        "from google.colab import drive\n",
        "drive.mount('/content/drive')"
      ],
      "metadata": {
        "colab": {
          "base_uri": "https://localhost:8080/"
        },
        "id": "tzW1BWVmoofa",
        "outputId": "5c7900ec-a1aa-4de8-e170-3dacb06bd279"
      },
      "execution_count": 29,
      "outputs": [
        {
          "output_type": "stream",
          "name": "stdout",
          "text": [
            "Drive already mounted at /content/drive; to attempt to forcibly remount, call drive.mount(\"/content/drive\", force_remount=True).\n"
          ]
        }
      ]
    },
    {
      "cell_type": "code",
      "source": [
        "df = pd.read_csv('/content/drive/MyDrive/zidan/HealthAndHouseHold.csv')"
      ],
      "metadata": {
        "id": "znUiUS46EaYr"
      },
      "execution_count": 56,
      "outputs": []
    },
    {
      "cell_type": "code",
      "source": [
        "df.loc[27]"
      ],
      "metadata": {
        "colab": {
          "base_uri": "https://localhost:8080/"
        },
        "id": "7kUy5uvLpAI8",
        "outputId": "0c28bb1c-5128-46c0-85b1-38fd9352e3a7"
      },
      "execution_count": 57,
      "outputs": [
        {
          "output_type": "execute_result",
          "data": {
            "text/plain": [
              "web-scraper-order                                            1685180525-28\n",
              "web-scraper-start-url    https://www.amazon.com/s?i=specialty-aps&bbn=1...\n",
              "pagination               https://www.amazon.com/s?i=hpc-intl-ship&bbn=1...\n",
              "pagelink                 DUDE Wipes Flushable Wipes - 3 Pack, 144 Wipes...\n",
              "pagelink-href            https://www.amazon.com/Flushable-Dispenser-Uns...\n",
              "product_name             DUDE Wipes Flushable Wipes - 3 Pack, 144 Wipes...\n",
              "review                   ✨ Experience Freshness and Convenience with DU...\n",
              "Name: 27, dtype: object"
            ]
          },
          "metadata": {},
          "execution_count": 57
        }
      ]
    },
    {
      "cell_type": "code",
      "source": [
        "\n",
        "columns_to_keep = ['product_name', 'review']\n",
        "dataset = df[columns_to_keep]\n",
        "dataset.rename(columns={\"index\": \"id\"}, inplace=True)"
      ],
      "metadata": {
        "colab": {
          "base_uri": "https://localhost:8080/"
        },
        "id": "r5WFLqDIpT5o",
        "outputId": "8f82ca10-fbc5-46a8-a558-74996e5f0014"
      },
      "execution_count": 58,
      "outputs": [
        {
          "output_type": "stream",
          "name": "stderr",
          "text": [
            "<ipython-input-58-64850eb2f6e0>:3: SettingWithCopyWarning: \n",
            "A value is trying to be set on a copy of a slice from a DataFrame\n",
            "\n",
            "See the caveats in the documentation: https://pandas.pydata.org/pandas-docs/stable/user_guide/indexing.html#returning-a-view-versus-a-copy\n",
            "  dataset.rename(columns={\"index\": \"id\"}, inplace=True)\n"
          ]
        }
      ]
    },
    {
      "cell_type": "code",
      "source": [
        "# Remove rows with any null values\n",
        "dataset = dataset.dropna().reset_index(drop=True)"
      ],
      "metadata": {
        "id": "kYvH9TdjqTvv"
      },
      "execution_count": 59,
      "outputs": []
    },
    {
      "cell_type": "code",
      "source": [
        "dataset.loc[25]"
      ],
      "metadata": {
        "colab": {
          "base_uri": "https://localhost:8080/"
        },
        "id": "Jy83YJKaEdmR",
        "outputId": "8fcae2ea-8851-44a5-b14c-fc4e3e2fcf0e"
      },
      "execution_count": 60,
      "outputs": [
        {
          "output_type": "execute_result",
          "data": {
            "text/plain": [
              "product_name    DUDE Wipes Flushable Wipes - 3 Pack, 144 Wipes...\n",
              "review          ✨ Experience Freshness and Convenience with DU...\n",
              "Name: 25, dtype: object"
            ]
          },
          "metadata": {},
          "execution_count": 60
        }
      ]
    },
    {
      "cell_type": "code",
      "source": [
        "# Download the demoji library's emoji descriptions (only required once)\n",
        "demoji.download_codes()\n",
        "\n",
        "# Define a function to replace emojis with their corresponding descriptions\n",
        "def replace_emojis(text):\n",
        "    emojis = demoji.findall(text)\n",
        "    \n",
        "    for emoji in emojis:\n",
        "        text = text.replace(emoji, \"\" + emojis[emoji].split(\":\")[0])\n",
        "\n",
        "    return text\n",
        "\n",
        "dataset['preprocess_text'] = dataset['review'].astype(str)  # Convert to string type\n",
        "\n",
        "# Apply the function to the 'review' column\n",
        "dataset['preprocess_text'] = dataset['preprocess_text'].apply(replace_emojis)"
      ],
      "metadata": {
        "colab": {
          "base_uri": "https://localhost:8080/"
        },
        "id": "90xCU0TtrJll",
        "outputId": "1ac6dad4-8c71-42a6-a67b-7180b8b7fcc3"
      },
      "execution_count": 61,
      "outputs": [
        {
          "output_type": "stream",
          "name": "stderr",
          "text": [
            "<ipython-input-61-5328187a612e>:2: FutureWarning: The demoji.download_codes attribute is deprecated and will be removed from demoji in a future version. It is an unused attribute as emoji codes are now distributed directly with the demoji package.\n",
            "  demoji.download_codes()\n"
          ]
        }
      ]
    },
    {
      "cell_type": "code",
      "source": [
        "dataset.loc[25]"
      ],
      "metadata": {
        "colab": {
          "base_uri": "https://localhost:8080/"
        },
        "id": "h4gchj887IEQ",
        "outputId": "62b371dd-a4c8-4c7f-a4b1-aec8b8268b7f"
      },
      "execution_count": 62,
      "outputs": [
        {
          "output_type": "execute_result",
          "data": {
            "text/plain": [
              "product_name       DUDE Wipes Flushable Wipes - 3 Pack, 144 Wipes...\n",
              "review             ✨ Experience Freshness and Convenience with DU...\n",
              "preprocess_text    sparkles Experience Freshness and Convenience ...\n",
              "Name: 25, dtype: object"
            ]
          },
          "metadata": {},
          "execution_count": 62
        }
      ]
    },
    {
      "cell_type": "code",
      "source": [
        "import re\n",
        "# Define a function to remove symbols\n",
        "def remove_symbols(text):\n",
        "    # Define the pattern to match the symbols you want to remove\n",
        "    pattern = r'[-,\"\\'’\\.!:;…_+=@#$%^&*{\\[()\\]}]'\n",
        "    \n",
        "    # Remove the symbols using regular expressions\n",
        "    text = re.sub(pattern, '', text)\n",
        "    \n",
        "    return text\n",
        "\n",
        "# Create a new column 'preprocess_text' and apply the preprocessing function to 'review' column\n",
        "dataset['preprocess_text'] = dataset['preprocess_text'].apply(remove_symbols)"
      ],
      "metadata": {
        "id": "27a_6tKh6G8d"
      },
      "execution_count": 63,
      "outputs": []
    },
    {
      "cell_type": "code",
      "source": [
        "\n",
        "# Download NLTK resources (only required once)\n",
        "nltk.download('punkt')\n",
        "nltk.download('stopwords')\n",
        "nltk.download('wordnet')\n",
        "\n",
        "# Initialize stemmer and lemmatizer\n",
        "stemmer = PorterStemmer()\n",
        "lemmatizer = WordNetLemmatizer()\n",
        "\n",
        "# Define a function to preprocess the text\n",
        "def preprocess_text(text):\n",
        "    # Lowercase the text\n",
        "    text = text.lower()\n",
        "    \n",
        "    # Tokenize the text into individual words\n",
        "    tokens = word_tokenize(text)\n",
        "    \n",
        "    # Remove stop words\n",
        "    stop_words = set(stopwords.words('english'))\n",
        "    tokens = [token for token in tokens if token not in stop_words]\n",
        "    \n",
        "    # # Perform stemming and lemmatization\n",
        "    # stemmed_tokens = [stemmer.stem(token) for token in tokens]\n",
        "    # lemmatized_tokens = [lemmatizer.lemmatize(token) for token in stemmed_tokens]\n",
        "    \n",
        "    # # Join the tokens back into a single string\n",
        "    # preprocessed_text = ' '.join(lemmatized_tokens)\n",
        "    \n",
        "    return tokens\n",
        "\n",
        "# Apply the preprocessing function to the 'review' column\n",
        "dataset['preprocess_text'] = dataset['preprocess_text'].apply(preprocess_text)\n"
      ],
      "metadata": {
        "colab": {
          "base_uri": "https://localhost:8080/"
        },
        "id": "Aid5sS87vhNK",
        "outputId": "030531ee-b7e7-4bdd-dd37-903295433e01"
      },
      "execution_count": 64,
      "outputs": [
        {
          "output_type": "stream",
          "name": "stderr",
          "text": [
            "[nltk_data] Downloading package punkt to /root/nltk_data...\n",
            "[nltk_data]   Package punkt is already up-to-date!\n",
            "[nltk_data] Downloading package stopwords to /root/nltk_data...\n",
            "[nltk_data]   Package stopwords is already up-to-date!\n",
            "[nltk_data] Downloading package wordnet to /root/nltk_data...\n",
            "[nltk_data]   Package wordnet is already up-to-date!\n"
          ]
        }
      ]
    },
    {
      "cell_type": "code",
      "source": [
        "dataset.head(100)"
      ],
      "metadata": {
        "colab": {
          "base_uri": "https://localhost:8080/",
          "height": 12066
        },
        "id": "u7QCGSrux3Ws",
        "outputId": "6bc444e2-737b-4bf6-e169-b244593ee361"
      },
      "execution_count": 66,
      "outputs": [
        {
          "output_type": "execute_result",
          "data": {
            "text/plain": [
              "                                         product_name  \\\n",
              "0   Salate Cordless Electric Spin Scrubber, Electr...   \n",
              "1   Salate Cordless Electric Spin Scrubber, Electr...   \n",
              "2   Salate Cordless Electric Spin Scrubber, Electr...   \n",
              "3   Salate Cordless Electric Spin Scrubber, Electr...   \n",
              "4   Salate Cordless Electric Spin Scrubber, Electr...   \n",
              "..                                                ...   \n",
              "95  Cottonelle Ultra Comfort Toilet Paper with Cus...   \n",
              "96  Dixie 10 Inch Paper Plates, Dinner Size Printe...   \n",
              "97  Dixie 10 Inch Paper Plates, Dinner Size Printe...   \n",
              "98  Dixie 10 Inch Paper Plates, Dinner Size Printe...   \n",
              "99  Dixie 10 Inch Paper Plates, Dinner Size Printe...   \n",
              "\n",
              "                                               review  \\\n",
              "0   I absolutely love this wireless electric spin ...   \n",
              "1   i used this to clean my bathroom and this work...   \n",
              "2   This electric brush makes cleaning so much eas...   \n",
              "3   This Electric spin scrubber is perfect! Use it...   \n",
              "4   I don’t like cleaning but this machine help me...   \n",
              "..                                                ...   \n",
              "95                 Price was okay, prefer this brand.   \n",
              "96  I purchased these plates. They are great, I us...   \n",
              "97                 Dixie is a fine brand. Dependable.   \n",
              "98  IT REALLY FUNCTIONS, WORKS SO MUCH BETTER THAN...   \n",
              "99                                 Heavy duty, sturdy   \n",
              "\n",
              "                                      preprocess_text  \n",
              "0   [absolutely, love, wireless, electric, spin, s...  \n",
              "1   [used, clean, bathroom, works, wonders, stress...  \n",
              "2   [electric, brush, makes, cleaning, much, easie...  \n",
              "3   [electric, spin, scrubber, perfect, use, clean...  \n",
              "4   [dont, like, cleaning, machine, help, lotits, ...  \n",
              "..                                                ...  \n",
              "95                       [price, okay, prefer, brand]  \n",
              "96  [purchased, plates, great, use, warm, food, mi...  \n",
              "97                   [dixie, fine, brand, dependable]  \n",
              "98  [really, functions, works, much, better, flat,...  \n",
              "99                              [heavy, duty, sturdy]  \n",
              "\n",
              "[100 rows x 3 columns]"
            ],
            "text/html": [
              "\n",
              "  <div id=\"df-46ba024f-e1c1-4dff-819c-6bf4389e19d8\">\n",
              "    <div class=\"colab-df-container\">\n",
              "      <div>\n",
              "<style scoped>\n",
              "    .dataframe tbody tr th:only-of-type {\n",
              "        vertical-align: middle;\n",
              "    }\n",
              "\n",
              "    .dataframe tbody tr th {\n",
              "        vertical-align: top;\n",
              "    }\n",
              "\n",
              "    .dataframe thead th {\n",
              "        text-align: right;\n",
              "    }\n",
              "</style>\n",
              "<table border=\"1\" class=\"dataframe\">\n",
              "  <thead>\n",
              "    <tr style=\"text-align: right;\">\n",
              "      <th></th>\n",
              "      <th>product_name</th>\n",
              "      <th>review</th>\n",
              "      <th>preprocess_text</th>\n",
              "    </tr>\n",
              "  </thead>\n",
              "  <tbody>\n",
              "    <tr>\n",
              "      <th>0</th>\n",
              "      <td>Salate Cordless Electric Spin Scrubber, Electr...</td>\n",
              "      <td>I absolutely love this wireless electric spin ...</td>\n",
              "      <td>[absolutely, love, wireless, electric, spin, s...</td>\n",
              "    </tr>\n",
              "    <tr>\n",
              "      <th>1</th>\n",
              "      <td>Salate Cordless Electric Spin Scrubber, Electr...</td>\n",
              "      <td>i used this to clean my bathroom and this work...</td>\n",
              "      <td>[used, clean, bathroom, works, wonders, stress...</td>\n",
              "    </tr>\n",
              "    <tr>\n",
              "      <th>2</th>\n",
              "      <td>Salate Cordless Electric Spin Scrubber, Electr...</td>\n",
              "      <td>This electric brush makes cleaning so much eas...</td>\n",
              "      <td>[electric, brush, makes, cleaning, much, easie...</td>\n",
              "    </tr>\n",
              "    <tr>\n",
              "      <th>3</th>\n",
              "      <td>Salate Cordless Electric Spin Scrubber, Electr...</td>\n",
              "      <td>This Electric spin scrubber is perfect! Use it...</td>\n",
              "      <td>[electric, spin, scrubber, perfect, use, clean...</td>\n",
              "    </tr>\n",
              "    <tr>\n",
              "      <th>4</th>\n",
              "      <td>Salate Cordless Electric Spin Scrubber, Electr...</td>\n",
              "      <td>I don’t like cleaning but this machine help me...</td>\n",
              "      <td>[dont, like, cleaning, machine, help, lotits, ...</td>\n",
              "    </tr>\n",
              "    <tr>\n",
              "      <th>...</th>\n",
              "      <td>...</td>\n",
              "      <td>...</td>\n",
              "      <td>...</td>\n",
              "    </tr>\n",
              "    <tr>\n",
              "      <th>95</th>\n",
              "      <td>Cottonelle Ultra Comfort Toilet Paper with Cus...</td>\n",
              "      <td>Price was okay, prefer this brand.</td>\n",
              "      <td>[price, okay, prefer, brand]</td>\n",
              "    </tr>\n",
              "    <tr>\n",
              "      <th>96</th>\n",
              "      <td>Dixie 10 Inch Paper Plates, Dinner Size Printe...</td>\n",
              "      <td>I purchased these plates. They are great, I us...</td>\n",
              "      <td>[purchased, plates, great, use, warm, food, mi...</td>\n",
              "    </tr>\n",
              "    <tr>\n",
              "      <th>97</th>\n",
              "      <td>Dixie 10 Inch Paper Plates, Dinner Size Printe...</td>\n",
              "      <td>Dixie is a fine brand. Dependable.</td>\n",
              "      <td>[dixie, fine, brand, dependable]</td>\n",
              "    </tr>\n",
              "    <tr>\n",
              "      <th>98</th>\n",
              "      <td>Dixie 10 Inch Paper Plates, Dinner Size Printe...</td>\n",
              "      <td>IT REALLY FUNCTIONS, WORKS SO MUCH BETTER THAN...</td>\n",
              "      <td>[really, functions, works, much, better, flat,...</td>\n",
              "    </tr>\n",
              "    <tr>\n",
              "      <th>99</th>\n",
              "      <td>Dixie 10 Inch Paper Plates, Dinner Size Printe...</td>\n",
              "      <td>Heavy duty, sturdy</td>\n",
              "      <td>[heavy, duty, sturdy]</td>\n",
              "    </tr>\n",
              "  </tbody>\n",
              "</table>\n",
              "<p>100 rows × 3 columns</p>\n",
              "</div>\n",
              "      <button class=\"colab-df-convert\" onclick=\"convertToInteractive('df-46ba024f-e1c1-4dff-819c-6bf4389e19d8')\"\n",
              "              title=\"Convert this dataframe to an interactive table.\"\n",
              "              style=\"display:none;\">\n",
              "        \n",
              "  <svg xmlns=\"http://www.w3.org/2000/svg\" height=\"24px\"viewBox=\"0 0 24 24\"\n",
              "       width=\"24px\">\n",
              "    <path d=\"M0 0h24v24H0V0z\" fill=\"none\"/>\n",
              "    <path d=\"M18.56 5.44l.94 2.06.94-2.06 2.06-.94-2.06-.94-.94-2.06-.94 2.06-2.06.94zm-11 1L8.5 8.5l.94-2.06 2.06-.94-2.06-.94L8.5 2.5l-.94 2.06-2.06.94zm10 10l.94 2.06.94-2.06 2.06-.94-2.06-.94-.94-2.06-.94 2.06-2.06.94z\"/><path d=\"M17.41 7.96l-1.37-1.37c-.4-.4-.92-.59-1.43-.59-.52 0-1.04.2-1.43.59L10.3 9.45l-7.72 7.72c-.78.78-.78 2.05 0 2.83L4 21.41c.39.39.9.59 1.41.59.51 0 1.02-.2 1.41-.59l7.78-7.78 2.81-2.81c.8-.78.8-2.07 0-2.86zM5.41 20L4 18.59l7.72-7.72 1.47 1.35L5.41 20z\"/>\n",
              "  </svg>\n",
              "      </button>\n",
              "      \n",
              "  <style>\n",
              "    .colab-df-container {\n",
              "      display:flex;\n",
              "      flex-wrap:wrap;\n",
              "      gap: 12px;\n",
              "    }\n",
              "\n",
              "    .colab-df-convert {\n",
              "      background-color: #E8F0FE;\n",
              "      border: none;\n",
              "      border-radius: 50%;\n",
              "      cursor: pointer;\n",
              "      display: none;\n",
              "      fill: #1967D2;\n",
              "      height: 32px;\n",
              "      padding: 0 0 0 0;\n",
              "      width: 32px;\n",
              "    }\n",
              "\n",
              "    .colab-df-convert:hover {\n",
              "      background-color: #E2EBFA;\n",
              "      box-shadow: 0px 1px 2px rgba(60, 64, 67, 0.3), 0px 1px 3px 1px rgba(60, 64, 67, 0.15);\n",
              "      fill: #174EA6;\n",
              "    }\n",
              "\n",
              "    [theme=dark] .colab-df-convert {\n",
              "      background-color: #3B4455;\n",
              "      fill: #D2E3FC;\n",
              "    }\n",
              "\n",
              "    [theme=dark] .colab-df-convert:hover {\n",
              "      background-color: #434B5C;\n",
              "      box-shadow: 0px 1px 3px 1px rgba(0, 0, 0, 0.15);\n",
              "      filter: drop-shadow(0px 1px 2px rgba(0, 0, 0, 0.3));\n",
              "      fill: #FFFFFF;\n",
              "    }\n",
              "  </style>\n",
              "\n",
              "      <script>\n",
              "        const buttonEl =\n",
              "          document.querySelector('#df-46ba024f-e1c1-4dff-819c-6bf4389e19d8 button.colab-df-convert');\n",
              "        buttonEl.style.display =\n",
              "          google.colab.kernel.accessAllowed ? 'block' : 'none';\n",
              "\n",
              "        async function convertToInteractive(key) {\n",
              "          const element = document.querySelector('#df-46ba024f-e1c1-4dff-819c-6bf4389e19d8');\n",
              "          const dataTable =\n",
              "            await google.colab.kernel.invokeFunction('convertToInteractive',\n",
              "                                                     [key], {});\n",
              "          if (!dataTable) return;\n",
              "\n",
              "          const docLinkHtml = 'Like what you see? Visit the ' +\n",
              "            '<a target=\"_blank\" href=https://colab.research.google.com/notebooks/data_table.ipynb>data table notebook</a>'\n",
              "            + ' to learn more about interactive tables.';\n",
              "          element.innerHTML = '';\n",
              "          dataTable['output_type'] = 'display_data';\n",
              "          await google.colab.output.renderOutput(dataTable, element);\n",
              "          const docLink = document.createElement('div');\n",
              "          docLink.innerHTML = docLinkHtml;\n",
              "          element.appendChild(docLink);\n",
              "        }\n",
              "      </script>\n",
              "    </div>\n",
              "  </div>\n",
              "  "
            ]
          },
          "metadata": {},
          "execution_count": 66
        }
      ]
    },
    {
      "cell_type": "code",
      "source": [
        "# Specify the path and filename for saving the CSV file\n",
        "save_path = '/content/drive/MyDrive/zidan/preprocessed_data.csv'\n",
        "\n",
        "# Save the preprocessed data to CSV\n",
        "dataset.to_csv(save_path, index=False)"
      ],
      "metadata": {
        "id": "7dHHZrC9zF-g"
      },
      "execution_count": 68,
      "outputs": []
    }
  ]
}