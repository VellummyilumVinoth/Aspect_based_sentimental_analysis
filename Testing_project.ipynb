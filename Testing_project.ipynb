{
  "nbformat": 4,
  "nbformat_minor": 0,
  "metadata": {
    "colab": {
      "provenance": [],
      "gpuType": "T4",
      "include_colab_link": true
    },
    "kernelspec": {
      "name": "python3",
      "display_name": "Python 3"
    },
    "language_info": {
      "name": "python"
    },
    "accelerator": "GPU"
  },
  "cells": [
    {
      "cell_type": "markdown",
      "metadata": {
        "id": "view-in-github",
        "colab_type": "text"
      },
      "source": [
        "<a href=\"https://colab.research.google.com/github/VellummyilumVinoth/Aspect_based_sentimental_analysis/blob/main/Testing_project.ipynb\" target=\"_parent\"><img src=\"https://colab.research.google.com/assets/colab-badge.svg\" alt=\"Open In Colab\"/></a>"
      ]
    },
    {
      "cell_type": "code",
      "source": [
        "import torch\n",
        "if torch.cuda.is_available():\n",
        "    device = torch.device(\"cuda\")\n",
        "    print(f'There are {torch.cuda.device_count()} GPU(s) available.')\n",
        "    print('Device name:', torch.cuda.get_device_name(0))\n",
        "else:\n",
        "    print('No GPU available, using the CPU instead.')\n",
        "    device = torch.device(\"cpu\")"
      ],
      "metadata": {
        "colab": {
          "base_uri": "https://localhost:8080/"
        },
        "id": "a1qmwcElfCM0",
        "outputId": "3a4515f9-341a-4229-e0de-e29ec94f1ac2"
      },
      "execution_count": 114,
      "outputs": [
        {
          "output_type": "stream",
          "name": "stdout",
          "text": [
            "No GPU available, using the CPU instead.\n"
          ]
        }
      ]
    },
    {
      "cell_type": "code",
      "source": [
        "# Connect google drive\n",
        "from google.colab import drive\n",
        "drive.mount('/content/drive')"
      ],
      "metadata": {
        "colab": {
          "base_uri": "https://localhost:8080/"
        },
        "id": "4ykFrCDKdLke",
        "outputId": "d2fd9467-826e-4df8-9508-fbc9334b50c4"
      },
      "execution_count": 2,
      "outputs": [
        {
          "output_type": "stream",
          "name": "stdout",
          "text": [
            "Mounted at /content/drive\n"
          ]
        }
      ]
    },
    {
      "cell_type": "code",
      "source": [
        "! pip install demoji\n",
        "! pip install transformers\n",
        "! pip install sentencepiece"
      ],
      "metadata": {
        "colab": {
          "base_uri": "https://localhost:8080/"
        },
        "id": "BMB5fZjcomZh",
        "outputId": "6a93587f-f661-4c6a-db08-5d4ae50b1b7e"
      },
      "execution_count": 123,
      "outputs": [
        {
          "output_type": "stream",
          "name": "stdout",
          "text": [
            "Looking in indexes: https://pypi.org/simple, https://us-python.pkg.dev/colab-wheels/public/simple/\n",
            "Requirement already satisfied: demoji in /usr/local/lib/python3.10/dist-packages (1.1.0)\n",
            "Looking in indexes: https://pypi.org/simple, https://us-python.pkg.dev/colab-wheels/public/simple/\n",
            "Requirement already satisfied: transformers in /usr/local/lib/python3.10/dist-packages (4.30.2)\n",
            "Requirement already satisfied: filelock in /usr/local/lib/python3.10/dist-packages (from transformers) (3.12.0)\n",
            "Requirement already satisfied: huggingface-hub<1.0,>=0.14.1 in /usr/local/lib/python3.10/dist-packages (from transformers) (0.15.1)\n",
            "Requirement already satisfied: numpy>=1.17 in /usr/local/lib/python3.10/dist-packages (from transformers) (1.22.4)\n",
            "Requirement already satisfied: packaging>=20.0 in /usr/local/lib/python3.10/dist-packages (from transformers) (23.1)\n",
            "Requirement already satisfied: pyyaml>=5.1 in /usr/local/lib/python3.10/dist-packages (from transformers) (6.0)\n",
            "Requirement already satisfied: regex!=2019.12.17 in /usr/local/lib/python3.10/dist-packages (from transformers) (2022.10.31)\n",
            "Requirement already satisfied: requests in /usr/local/lib/python3.10/dist-packages (from transformers) (2.27.1)\n",
            "Requirement already satisfied: tokenizers!=0.11.3,<0.14,>=0.11.1 in /usr/local/lib/python3.10/dist-packages (from transformers) (0.13.3)\n",
            "Requirement already satisfied: safetensors>=0.3.1 in /usr/local/lib/python3.10/dist-packages (from transformers) (0.3.1)\n",
            "Requirement already satisfied: tqdm>=4.27 in /usr/local/lib/python3.10/dist-packages (from transformers) (4.65.0)\n",
            "Requirement already satisfied: fsspec in /usr/local/lib/python3.10/dist-packages (from huggingface-hub<1.0,>=0.14.1->transformers) (2023.4.0)\n",
            "Requirement already satisfied: typing-extensions>=3.7.4.3 in /usr/local/lib/python3.10/dist-packages (from huggingface-hub<1.0,>=0.14.1->transformers) (4.5.0)\n",
            "Requirement already satisfied: urllib3<1.27,>=1.21.1 in /usr/local/lib/python3.10/dist-packages (from requests->transformers) (1.26.15)\n",
            "Requirement already satisfied: certifi>=2017.4.17 in /usr/local/lib/python3.10/dist-packages (from requests->transformers) (2022.12.7)\n",
            "Requirement already satisfied: charset-normalizer~=2.0.0 in /usr/local/lib/python3.10/dist-packages (from requests->transformers) (2.0.12)\n",
            "Requirement already satisfied: idna<4,>=2.5 in /usr/local/lib/python3.10/dist-packages (from requests->transformers) (3.4)\n"
          ]
        }
      ]
    },
    {
      "cell_type": "code",
      "source": [
        "import pandas as pd\n",
        "import demoji\n",
        "import nltk\n",
        "from nltk.corpus import stopwords\n",
        "from nltk.tokenize import word_tokenize\n",
        "from nltk.stem import PorterStemmer, WordNetLemmatizer"
      ],
      "metadata": {
        "id": "WGsHn9YCo7bI"
      },
      "execution_count": 4,
      "outputs": []
    },
    {
      "cell_type": "code",
      "source": [
        "# Take input as a single sentence\n",
        "input_sentence = input(\"Enter a sentence: \") # Good packing....late delivery....most useful😊😊😊"
      ],
      "metadata": {
        "colab": {
          "base_uri": "https://localhost:8080/"
        },
        "id": "2BRHlRssXLR3",
        "outputId": "9839a740-6d37-4803-ef12-d7b968c8feef"
      },
      "execution_count": 5,
      "outputs": [
        {
          "name": "stdout",
          "output_type": "stream",
          "text": [
            "Enter a sentence: Good packing....late delivery....most useful😊😊😊\n"
          ]
        }
      ]
    },
    {
      "cell_type": "code",
      "source": [
        "print(\"Input Sentence: \", input_sentence)"
      ],
      "metadata": {
        "colab": {
          "base_uri": "https://localhost:8080/"
        },
        "id": "z2hT_rxLXy8j",
        "outputId": "3db43cfd-8334-4258-db08-6bdcec56ba91"
      },
      "execution_count": 6,
      "outputs": [
        {
          "output_type": "stream",
          "name": "stdout",
          "text": [
            "Input Sentence:  Good packing....late delivery....most useful😊😊😊\n"
          ]
        }
      ]
    },
    {
      "cell_type": "code",
      "source": [
        "# Download the demoji library's emoji descriptions (only required once)\n",
        "demoji.download_codes()\n",
        "\n",
        "# Define a function to replace emojis with their corresponding descriptions\n",
        "def replace_emojis(text):\n",
        "    emojis = demoji.findall(text)\n",
        "\n",
        "    for emoji in emojis:\n",
        "        text = text.replace(emoji, \" \" + emojis[emoji].split(\":\")[0])\n",
        "\n",
        "    return text\n",
        "\n",
        "# Apply the function to the input sentence\n",
        "sentence_without_emoji = replace_emojis(input_sentence)"
      ],
      "metadata": {
        "id": "1KGk3Bqgc99W",
        "colab": {
          "base_uri": "https://localhost:8080/"
        },
        "outputId": "fb160964-cc5e-4f6f-933e-b8ca00e9427d"
      },
      "execution_count": 7,
      "outputs": [
        {
          "output_type": "stream",
          "name": "stderr",
          "text": [
            "<ipython-input-7-234e86337676>:2: FutureWarning: The demoji.download_codes attribute is deprecated and will be removed from demoji in a future version. It is an unused attribute as emoji codes are now distributed directly with the demoji package.\n",
            "  demoji.download_codes()\n"
          ]
        }
      ]
    },
    {
      "cell_type": "code",
      "source": [
        "print(\"Sentence without emojis:\", sentence_without_emoji)"
      ],
      "metadata": {
        "colab": {
          "base_uri": "https://localhost:8080/"
        },
        "id": "aR-xF5cfXP6Q",
        "outputId": "ec1a9594-1055-47d0-b5b7-81f743712ac5"
      },
      "execution_count": 8,
      "outputs": [
        {
          "output_type": "stream",
          "name": "stdout",
          "text": [
            "Sentence without emojis: Good packing....late delivery....most useful smiling face with smiling eyes smiling face with smiling eyes smiling face with smiling eyes\n"
          ]
        }
      ]
    },
    {
      "cell_type": "code",
      "source": [
        "def remove_repetitive_words(sentence):\n",
        "    # Tokenize the sentence into individual words\n",
        "    words = sentence.split()\n",
        "\n",
        "    # Remove repetitive words while maintaining the order\n",
        "    unique_words = []\n",
        "    for word in words:\n",
        "        if word not in unique_words:\n",
        "            unique_words.append(word)\n",
        "\n",
        "    # Join the unique words back into a single sentence\n",
        "    cleaned_sentence = ' '.join(unique_words)\n",
        "\n",
        "    return cleaned_sentence\n",
        "\n",
        "cleaned_sentence = remove_repetitive_words(sentence_without_emoji)"
      ],
      "metadata": {
        "id": "TThVKQCxaYSj"
      },
      "execution_count": 9,
      "outputs": []
    },
    {
      "cell_type": "code",
      "source": [
        "print(\"Cleaned Sentence:\", cleaned_sentence)"
      ],
      "metadata": {
        "colab": {
          "base_uri": "https://localhost:8080/"
        },
        "id": "3cXn5pzSaadQ",
        "outputId": "e80fad24-e50c-40cf-9daf-642c33c72660"
      },
      "execution_count": 10,
      "outputs": [
        {
          "output_type": "stream",
          "name": "stdout",
          "text": [
            "Cleaned Sentence: Good packing....late delivery....most useful smiling face with eyes\n"
          ]
        }
      ]
    },
    {
      "cell_type": "code",
      "source": [
        "import re\n",
        "\n",
        "# Download NLTK resources (only required once)\n",
        "nltk.download('punkt')\n",
        "nltk.download('stopwords')\n",
        "nltk.download('wordnet')\n",
        "\n",
        "# Define a function to remove symbols\n",
        "def remove_symbols(text):\n",
        "    # Lowercase the text\n",
        "    text = text.lower()\n",
        "\n",
        "    # Define the pattern to match the symbols you want to remove\n",
        "    pattern = r'[-,\"\\'’\\.!:;…_+=@#$%^&*{\\[()\\]}]'\n",
        "\n",
        "    # Remove the symbols using regular expressions\n",
        "    text = re.sub(pattern, ' ', text)\n",
        "\n",
        "    return text\n",
        "\n",
        "# Apply the symbol removal function to the sentence without emoji\n",
        "sentence_without_symbols = remove_symbols(cleaned_sentence)\n"
      ],
      "metadata": {
        "colab": {
          "base_uri": "https://localhost:8080/"
        },
        "id": "e_a-DTRHXHew",
        "outputId": "06101b41-0b75-4f96-feec-8d2efce248bb"
      },
      "execution_count": 11,
      "outputs": [
        {
          "output_type": "stream",
          "name": "stderr",
          "text": [
            "[nltk_data] Downloading package punkt to /root/nltk_data...\n",
            "[nltk_data]   Unzipping tokenizers/punkt.zip.\n",
            "[nltk_data] Downloading package stopwords to /root/nltk_data...\n",
            "[nltk_data]   Unzipping corpora/stopwords.zip.\n",
            "[nltk_data] Downloading package wordnet to /root/nltk_data...\n"
          ]
        }
      ]
    },
    {
      "cell_type": "code",
      "source": [
        "print(\"Sentence without symbols:\", sentence_without_symbols)"
      ],
      "metadata": {
        "colab": {
          "base_uri": "https://localhost:8080/"
        },
        "id": "LyLv_K7lXhWd",
        "outputId": "b304e798-a0e9-4dac-de5d-254c9d10576b"
      },
      "execution_count": 12,
      "outputs": [
        {
          "output_type": "stream",
          "name": "stdout",
          "text": [
            "Sentence without symbols: good packing    late delivery    most useful smiling face with eyes\n"
          ]
        }
      ]
    },
    {
      "cell_type": "code",
      "source": [
        "# Initialize lemmatizer\n",
        "lemmatizer = WordNetLemmatizer()\n",
        "\n",
        "# Define a function to preprocess the text\n",
        "def preprocess_text(text):\n",
        "    # Tokenize the text into individual words\n",
        "    tokens = word_tokenize(text)\n",
        "\n",
        "    # Remove stop words\n",
        "    stop_words = set(stopwords.words('english'))\n",
        "    tokens = [token for token in tokens if token not in stop_words]\n",
        "\n",
        "    # Lemmatize the tokens\n",
        "    lemmatized_tokens = [lemmatizer.lemmatize(token) for token in tokens]\n",
        "\n",
        "    # Remove repetitive words\n",
        "    unique_tokens = []\n",
        "    for token in lemmatized_tokens:\n",
        "        if token not in unique_tokens:\n",
        "            unique_tokens.append(token)\n",
        "\n",
        "    # Join the tokens back into a single string\n",
        "    preprocessed_text = ' '.join(unique_tokens)\n",
        "\n",
        "    return preprocessed_text\n",
        "\n",
        "# Apply the preprocessing function to the sentence without symbols\n",
        "preprocessed_sentence = preprocess_text(sentence_without_symbols)"
      ],
      "metadata": {
        "id": "Cvf42nJ4Xa_f"
      },
      "execution_count": 13,
      "outputs": []
    },
    {
      "cell_type": "code",
      "source": [
        "print(\"Preprocessed Sentence:\", preprocessed_sentence)"
      ],
      "metadata": {
        "colab": {
          "base_uri": "https://localhost:8080/"
        },
        "id": "FJ7PoYg5XjfS",
        "outputId": "90476ee6-2617-4d21-e098-029f581bed48"
      },
      "execution_count": 14,
      "outputs": [
        {
          "output_type": "stream",
          "name": "stdout",
          "text": [
            "Preprocessed Sentence: good packing late delivery useful smiling face eye\n"
          ]
        }
      ]
    },
    {
      "cell_type": "code",
      "source": [
        "import nltk\n",
        "import torch\n",
        "import pandas as pd\n",
        "import spacy\n",
        "from nltk.tokenize import sent_tokenize\n",
        "from transformers import T5Tokenizer, T5ForConditionalGeneration, AutoTokenizer, AutoModelForSequenceClassification, BertForSequenceClassification, BertTokenizer\n",
        "\n",
        "nltk.download(\"punkt\")\n",
        "\n",
        "tokenizer = T5Tokenizer.from_pretrained(\"flax-community/t5-base-wikisplit\")\n",
        "model = T5ForConditionalGeneration.from_pretrained(\"flax-community/t5-base-wikisplit\")\n",
        "\n",
        "def add_full_stop(text):\n",
        "    last_character = text[-1]\n",
        "    if last_character != \".\":\n",
        "        text += \".\"\n",
        "    return text\n",
        "\n",
        "input_sentence = add_full_stop(preprocessed_sentence)\n",
        "\n",
        "encoder_max_length = 256\n",
        "decoder_max_length = 256\n",
        "\n",
        "complex_tokenized = tokenizer(input_sentence,\n",
        "                              padding=\"max_length\",\n",
        "                              truncation=True,\n",
        "                              max_length=encoder_max_length,\n",
        "                              return_tensors='pt')\n",
        "\n",
        "simple_tokenized = model.generate(complex_tokenized['input_ids'], attention_mask=complex_tokenized['attention_mask'], max_length=decoder_max_length, num_beams=5)\n",
        "simple_sentences = tokenizer.batch_decode(simple_tokenized, skip_special_tokens=True, clean_up_tokenization_spaces=True)\n",
        "\n",
        "nlp = spacy.load(\"en_core_web_sm\")\n",
        "\n",
        "conjunctive_words = ['and', 'but', 'or', 'so', 'yet', 'for', 'nor']\n",
        "\n",
        "if len(simple_sentences) > 0:\n",
        "    input_sentence = simple_sentences[0]\n",
        "    sentences = list(nlp(input_sentence).sents)\n",
        "    output_sentences = []\n",
        "    for sentence in sentences:\n",
        "        sub_sentences = [sentence.text]\n",
        "        for conjunctive_word in conjunctive_words:\n",
        "            temp_sentences = []\n",
        "            for sub_sentence in sub_sentences:\n",
        "                temp_sentences.extend(sub_sentence.split(f\" {conjunctive_word} \"))\n",
        "            sub_sentences = temp_sentences\n",
        "        for sub_sentence in sub_sentences:\n",
        "            output_sentence = add_full_stop(sub_sentence)\n",
        "            output_sentences.append(output_sentence)\n",
        "\n",
        "    input_statements = [statement.strip() for statement in output_sentences if statement.strip()]\n",
        "    print(input_statements)\n",
        "else:\n",
        "    input_sentence = \"\"\n"
      ],
      "metadata": {
        "id": "5rKwlNyDryiV"
      },
      "execution_count": null,
      "outputs": []
    },
    {
      "cell_type": "code",
      "source": [
        "class SentimentAnalysisModel:\n",
        "    def __init__(self, tokenizer, model):\n",
        "        self.tokenizer = tokenizer\n",
        "        self.model = model\n",
        "\n",
        "    def predict_sentiment(self, aspect_sentence):\n",
        "        inputs = self.tokenizer.encode_plus(aspect_sentence, add_special_tokens=True, return_tensors=\"pt\")\n",
        "        input_ids = inputs[\"input_ids\"]\n",
        "        attention_mask = inputs[\"attention_mask\"]\n",
        "\n",
        "        with torch.no_grad():\n",
        "            outputs = self.model(input_ids, attention_mask=attention_mask)\n",
        "            logits = outputs.logits\n",
        "\n",
        "        probabilities = torch.softmax(logits, dim=1)\n",
        "        sentiment_score = probabilities[0][1].item()  # Positive sentiment score\n",
        "        return sentiment_score\n",
        "\n",
        "    def assign_sentiment_label(self, sentiment_score):\n",
        "        if sentiment_score >= 0.99983:\n",
        "            sentiment_label = 'very good'\n",
        "        elif sentiment_score >= 0.999:\n",
        "            sentiment_label = 'good'\n",
        "        elif sentiment_score > 0.001:\n",
        "            sentiment_label = 'neutral'\n",
        "        elif sentiment_score > 0.00024:\n",
        "            sentiment_label = 'bad'\n",
        "        else:\n",
        "            sentiment_label = 'poor'\n",
        "        return sentiment_label\n",
        "\n",
        "\n",
        "# Load tokenizer and model for aspect sentiment analysis\n",
        "aspect_tokenizer = AutoTokenizer.from_pretrained(\"distilbert-base-uncased-finetuned-sst-2-english\")\n",
        "aspect_model = AutoModelForSequenceClassification.from_pretrained(\"distilbert-base-uncased-finetuned-sst-2-english\")\n",
        "\n",
        "# Load tokenizer and model for aspect classification\n",
        "classification_model = BertForSequenceClassification.from_pretrained('/content/drive/MyDrive/zidan/finetuned_bert', num_labels=7)\n",
        "classification_tokenizer = BertTokenizer.from_pretrained('/content/drive/MyDrive/zidan/finetuned_bert', do_lower_case=True)\n",
        "\n",
        "# Create sentiment analysis model instance for aspect sentiment analysis\n",
        "sentiment_analysis_model = SentimentAnalysisModel(aspect_tokenizer, aspect_model)\n",
        "\n",
        "# Define aspect labels\n",
        "aspect_labels = [\"price\", \"quality\", \"delivery cost\", \"packaging\", \"design\", \"customer service\", \"usability\"]\n",
        "\n",
        "# Split the input sentence into individual statements\n",
        "input_statements = [statement.strip() for statement in output_sentences if statement.strip()]\n",
        "\n",
        "# Step 1: Classify the aspect\n",
        "encoded_inputs = classification_tokenizer.batch_encode_plus(\n",
        "    input_statements,\n",
        "    padding=True,\n",
        "    truncation=True,\n",
        "    return_tensors=\"pt\",\n",
        "    max_length=512\n",
        ")\n",
        "\n",
        "with torch.no_grad():\n",
        "    classification_model.eval()\n",
        "    outputs = classification_model(**encoded_inputs)\n",
        "    predicted_labels = outputs.logits\n",
        "\n",
        "predicted_labels = (torch.sigmoid(predicted_labels) > 0.5).to(torch.int).tolist()\n",
        "\n",
        "# Create DataFrame with input statements, aspect labels, and predicted labels\n",
        "df_data = {\"Statement\": input_statements}\n",
        "for i, aspect_label in enumerate(aspect_labels):\n",
        "    df_data[aspect_label] = [label[i] for label in predicted_labels]\n",
        "\n",
        "df = pd.DataFrame(df_data)\n",
        "\n",
        "df"
      ],
      "metadata": {
        "id": "7SvqwUrtr8H0"
      },
      "execution_count": null,
      "outputs": []
    },
    {
      "cell_type": "code",
      "source": [
        "# Step 2: Perform sentiment analysis for each aspect\n",
        "aspect_sentiment_labels = {}\n",
        "aspect_sentiment_scores = {}\n",
        "\n",
        "for aspect_label in aspect_labels:\n",
        "    aspect_sentiment_labels[aspect_label] = []\n",
        "    aspect_sentiment_scores[aspect_label] = []\n",
        "\n",
        "for statement_index, statement in enumerate(input_statements):\n",
        "    for aspect_index, aspect_label in enumerate(aspect_labels):\n",
        "        if predicted_labels[statement_index][aspect_index] == 1:\n",
        "            sentiment_score = sentiment_analysis_model.predict_sentiment(statement)\n",
        "            sentiment_label = sentiment_analysis_model.assign_sentiment_label(sentiment_score)\n",
        "            aspect_sentiment_labels[aspect_label].append(sentiment_label)\n",
        "            aspect_sentiment_scores[aspect_label].append(sentiment_score)\n",
        "        else:\n",
        "            aspect_sentiment_labels[aspect_label].append(\"-\")\n",
        "            aspect_sentiment_scores[aspect_label].append(\"-\")\n",
        "\n",
        "# Calculate the average sentiment score for each aspect\n",
        "overall_sentiment_scores = []\n",
        "for aspect_label in aspect_labels:\n",
        "    numeric_scores = [score for score in aspect_sentiment_scores[aspect_label] if isinstance(score, float)]\n",
        "    if numeric_scores:\n",
        "        aspect_sentiment_scores[aspect_label] = sum(numeric_scores) / len(numeric_scores)\n",
        "    else:\n",
        "        aspect_sentiment_scores[aspect_label] = \"-\"\n",
        "\n",
        "# Calculate the overall sentiment label and score for the input sentence\n",
        "numeric_scores = [score for score in aspect_sentiment_scores.values() if isinstance(score, float)]\n",
        "if numeric_scores:\n",
        "    overall_sentiment_score = sum(numeric_scores) / len(numeric_scores)\n",
        "    overall_sentiment_label = sentiment_analysis_model.assign_sentiment_label(overall_sentiment_score)\n",
        "else:\n",
        "    overall_sentiment_score = \"-\"\n",
        "    overall_sentiment_label = \"-\"\n",
        "\n",
        "# Create DataFrame from the result data\n",
        "result_data = {\n",
        "    \"Review\": input_sentence,\n",
        "    \"Overall Sentiment Score\": overall_sentiment_score,\n",
        "    \"Overall Sentiment Label\": overall_sentiment_label,\n",
        "}\n",
        "# Calculate the average sentiment label for each aspect\n",
        "average_sentiment_labels = {}\n",
        "for aspect_label in aspect_labels:\n",
        "    sentiment_labels = [label for label in aspect_sentiment_labels[aspect_label] if label != \"-\"]\n",
        "    if sentiment_labels:\n",
        "        average_sentiment_labels[aspect_label] = max(set(sentiment_labels), key=sentiment_labels.count)\n",
        "    else:\n",
        "        average_sentiment_labels[aspect_label] = \"-\"\n",
        "\n",
        "# Create a dictionary to store the result data\n",
        "result_data = {\n",
        "    \"Review\": [text],\n",
        "    \"price\": [average_sentiment_labels[\"price\"]],\n",
        "    \"quality\": [average_sentiment_labels[\"quality\"]],\n",
        "    \"delivery cost\": [average_sentiment_labels[\"delivery cost\"]],\n",
        "    \"packaging\": [average_sentiment_labels[\"packaging\"]],\n",
        "    \"design\": [average_sentiment_labels[\"design\"]],\n",
        "    \"customer service\": [average_sentiment_labels[\"customer service\"]],\n",
        "    \"usability\": [average_sentiment_labels[\"usability\"]],\n",
        "    \"Overall Sentiment Score\": [overall_sentiment_score],\n",
        "    \"Overall Sentiment Label\": [overall_sentiment_label],\n",
        "}\n",
        "\n",
        "# Create DataFrame from the result data with the desired column order\n",
        "result_df = pd.DataFrame(result_data, columns=[\"Review\", \"price\", \"quality\", \"delivery cost\",\"packaging\",\n",
        "                                               \"design\", \"customer service\", \"usability\",\n",
        "                                               \"Overall Sentiment Score\", \"Overall Sentiment Label\"])\n",
        "\n",
        "# Print the result\n",
        "result_df"
      ],
      "metadata": {
        "id": "fWQH2YwcsSGY"
      },
      "execution_count": null,
      "outputs": []
    }
  ]
}