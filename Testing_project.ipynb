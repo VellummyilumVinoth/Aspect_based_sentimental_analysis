{
  "nbformat": 4,
  "nbformat_minor": 0,
  "metadata": {
    "colab": {
      "provenance": [],
      "gpuType": "T4",
      "include_colab_link": true
    },
    "kernelspec": {
      "name": "python3",
      "display_name": "Python 3"
    },
    "language_info": {
      "name": "python"
    },
    "accelerator": "GPU"
  },
  "cells": [
    {
      "cell_type": "markdown",
      "metadata": {
        "id": "view-in-github",
        "colab_type": "text"
      },
      "source": [
        "<a href=\"https://colab.research.google.com/github/VellummyilumVinoth/Aspect_based_sentimental_analysis/blob/main/Testing_project.ipynb\" target=\"_parent\"><img src=\"https://colab.research.google.com/assets/colab-badge.svg\" alt=\"Open In Colab\"/></a>"
      ]
    },
    {
      "cell_type": "code",
      "source": [
        "import torch\n",
        "if torch.cuda.is_available():\n",
        "    device = torch.device(\"cuda\")\n",
        "    print(f'There are {torch.cuda.device_count()} GPU(s) available.')\n",
        "    print('Device name:', torch.cuda.get_device_name(0))\n",
        "else:\n",
        "    print('No GPU available, using the CPU instead.')\n",
        "    device = torch.device(\"cpu\")"
      ],
      "metadata": {
        "colab": {
          "base_uri": "https://localhost:8080/"
        },
        "id": "a1qmwcElfCM0",
        "outputId": "2ef82e97-7a17-46fc-d377-4bd520417d5d"
      },
      "execution_count": 1,
      "outputs": [
        {
          "output_type": "stream",
          "name": "stdout",
          "text": [
            "There are 1 GPU(s) available.\n",
            "Device name: Tesla T4\n"
          ]
        }
      ]
    },
    {
      "cell_type": "code",
      "source": [
        "# Connect google drive\n",
        "from google.colab import drive\n",
        "drive.mount('/content/drive')"
      ],
      "metadata": {
        "colab": {
          "base_uri": "https://localhost:8080/"
        },
        "id": "4ykFrCDKdLke",
        "outputId": "7994f32f-b5e7-4909-82f0-9d83468115f4"
      },
      "execution_count": 2,
      "outputs": [
        {
          "output_type": "stream",
          "name": "stdout",
          "text": [
            "Mounted at /content/drive\n"
          ]
        }
      ]
    },
    {
      "cell_type": "code",
      "source": [
        "! pip install demoji\n",
        "! pip install transformers\n",
        "! pip install sentencepiece"
      ],
      "metadata": {
        "colab": {
          "base_uri": "https://localhost:8080/"
        },
        "id": "BMB5fZjcomZh",
        "outputId": "fe6b658c-b0d6-4525-e9f4-2f618dd50fae"
      },
      "execution_count": 3,
      "outputs": [
        {
          "output_type": "stream",
          "name": "stdout",
          "text": [
            "Looking in indexes: https://pypi.org/simple, https://us-python.pkg.dev/colab-wheels/public/simple/\n",
            "Collecting demoji\n",
            "  Downloading demoji-1.1.0-py3-none-any.whl (42 kB)\n",
            "\u001b[2K     \u001b[90m━━━━━━━━━━━━━━━━━━━━━━━━━━━━━━━━━━━━━━━━\u001b[0m \u001b[32m42.9/42.9 kB\u001b[0m \u001b[31m5.8 MB/s\u001b[0m eta \u001b[36m0:00:00\u001b[0m\n",
            "\u001b[?25hInstalling collected packages: demoji\n",
            "Successfully installed demoji-1.1.0\n",
            "Looking in indexes: https://pypi.org/simple, https://us-python.pkg.dev/colab-wheels/public/simple/\n",
            "Collecting transformers\n",
            "  Downloading transformers-4.30.2-py3-none-any.whl (7.2 MB)\n",
            "\u001b[2K     \u001b[90m━━━━━━━━━━━━━━━━━━━━━━━━━━━━━━━━━━━━━━━━\u001b[0m \u001b[32m7.2/7.2 MB\u001b[0m \u001b[31m59.1 MB/s\u001b[0m eta \u001b[36m0:00:00\u001b[0m\n",
            "\u001b[?25hRequirement already satisfied: filelock in /usr/local/lib/python3.10/dist-packages (from transformers) (3.12.0)\n",
            "Collecting huggingface-hub<1.0,>=0.14.1 (from transformers)\n",
            "  Downloading huggingface_hub-0.15.1-py3-none-any.whl (236 kB)\n",
            "\u001b[2K     \u001b[90m━━━━━━━━━━━━━━━━━━━━━━━━━━━━━━━━━━━━━━\u001b[0m \u001b[32m236.8/236.8 kB\u001b[0m \u001b[31m30.2 MB/s\u001b[0m eta \u001b[36m0:00:00\u001b[0m\n",
            "\u001b[?25hRequirement already satisfied: numpy>=1.17 in /usr/local/lib/python3.10/dist-packages (from transformers) (1.22.4)\n",
            "Requirement already satisfied: packaging>=20.0 in /usr/local/lib/python3.10/dist-packages (from transformers) (23.1)\n",
            "Requirement already satisfied: pyyaml>=5.1 in /usr/local/lib/python3.10/dist-packages (from transformers) (6.0)\n",
            "Requirement already satisfied: regex!=2019.12.17 in /usr/local/lib/python3.10/dist-packages (from transformers) (2022.10.31)\n",
            "Requirement already satisfied: requests in /usr/local/lib/python3.10/dist-packages (from transformers) (2.27.1)\n",
            "Collecting tokenizers!=0.11.3,<0.14,>=0.11.1 (from transformers)\n",
            "  Downloading tokenizers-0.13.3-cp310-cp310-manylinux_2_17_x86_64.manylinux2014_x86_64.whl (7.8 MB)\n",
            "\u001b[2K     \u001b[90m━━━━━━━━━━━━━━━━━━━━━━━━━━━━━━━━━━━━━━━━\u001b[0m \u001b[32m7.8/7.8 MB\u001b[0m \u001b[31m109.9 MB/s\u001b[0m eta \u001b[36m0:00:00\u001b[0m\n",
            "\u001b[?25hCollecting safetensors>=0.3.1 (from transformers)\n",
            "  Downloading safetensors-0.3.1-cp310-cp310-manylinux_2_17_x86_64.manylinux2014_x86_64.whl (1.3 MB)\n",
            "\u001b[2K     \u001b[90m━━━━━━━━━━━━━━━━━━━━━━━━━━━━━━━━━━━━━━━━\u001b[0m \u001b[32m1.3/1.3 MB\u001b[0m \u001b[31m63.7 MB/s\u001b[0m eta \u001b[36m0:00:00\u001b[0m\n",
            "\u001b[?25hRequirement already satisfied: tqdm>=4.27 in /usr/local/lib/python3.10/dist-packages (from transformers) (4.65.0)\n",
            "Requirement already satisfied: fsspec in /usr/local/lib/python3.10/dist-packages (from huggingface-hub<1.0,>=0.14.1->transformers) (2023.4.0)\n",
            "Requirement already satisfied: typing-extensions>=3.7.4.3 in /usr/local/lib/python3.10/dist-packages (from huggingface-hub<1.0,>=0.14.1->transformers) (4.5.0)\n",
            "Requirement already satisfied: urllib3<1.27,>=1.21.1 in /usr/local/lib/python3.10/dist-packages (from requests->transformers) (1.26.15)\n",
            "Requirement already satisfied: certifi>=2017.4.17 in /usr/local/lib/python3.10/dist-packages (from requests->transformers) (2022.12.7)\n",
            "Requirement already satisfied: charset-normalizer~=2.0.0 in /usr/local/lib/python3.10/dist-packages (from requests->transformers) (2.0.12)\n",
            "Requirement already satisfied: idna<4,>=2.5 in /usr/local/lib/python3.10/dist-packages (from requests->transformers) (3.4)\n",
            "Installing collected packages: tokenizers, safetensors, huggingface-hub, transformers\n",
            "Successfully installed huggingface-hub-0.15.1 safetensors-0.3.1 tokenizers-0.13.3 transformers-4.30.2\n",
            "Looking in indexes: https://pypi.org/simple, https://us-python.pkg.dev/colab-wheels/public/simple/\n",
            "Collecting sentencepiece\n",
            "  Downloading sentencepiece-0.1.99-cp310-cp310-manylinux_2_17_x86_64.manylinux2014_x86_64.whl (1.3 MB)\n",
            "\u001b[2K     \u001b[90m━━━━━━━━━━━━━━━━━━━━━━━━━━━━━━━━━━━━━━━━\u001b[0m \u001b[32m1.3/1.3 MB\u001b[0m \u001b[31m44.5 MB/s\u001b[0m eta \u001b[36m0:00:00\u001b[0m\n",
            "\u001b[?25hInstalling collected packages: sentencepiece\n",
            "Successfully installed sentencepiece-0.1.99\n"
          ]
        }
      ]
    },
    {
      "cell_type": "code",
      "source": [
        "import pandas as pd\n",
        "import demoji\n",
        "import nltk\n",
        "from nltk.corpus import stopwords\n",
        "from nltk.tokenize import word_tokenize\n",
        "from nltk.stem import WordNetLemmatizer"
      ],
      "metadata": {
        "id": "WGsHn9YCo7bI"
      },
      "execution_count": 4,
      "outputs": []
    },
    {
      "cell_type": "code",
      "source": [
        "# Take input as a single sentence\n",
        "input_text = input(\"Enter a sentence: \") # The price is good but quality is bad and design is neutral"
      ],
      "metadata": {
        "colab": {
          "base_uri": "https://localhost:8080/"
        },
        "id": "2BRHlRssXLR3",
        "outputId": "42e0500a-267b-4cc1-c62e-559cb4c92a84"
      },
      "execution_count": 62,
      "outputs": [
        {
          "name": "stdout",
          "output_type": "stream",
          "text": [
            "Enter a sentence: The price is good but quality is bad and design is neutral\n"
          ]
        }
      ]
    },
    {
      "cell_type": "code",
      "source": [
        "print(\"Input Sentence: \", input_text)"
      ],
      "metadata": {
        "colab": {
          "base_uri": "https://localhost:8080/"
        },
        "id": "z2hT_rxLXy8j",
        "outputId": "7f2ca48c-8a5c-4b96-c77d-2388efe69ab9"
      },
      "execution_count": 63,
      "outputs": [
        {
          "output_type": "stream",
          "name": "stdout",
          "text": [
            "Input Sentence:  The price is good but quality is bad and design is neutral\n"
          ]
        }
      ]
    },
    {
      "cell_type": "code",
      "source": [
        "# Download the demoji library's emoji descriptions (only required once)\n",
        "demoji.download_codes()\n",
        "\n",
        "# Define a function to replace emojis with their corresponding descriptions\n",
        "def replace_emojis(text):\n",
        "    emojis = demoji.findall(text)\n",
        "\n",
        "    for emoji in emojis:\n",
        "        text = text.replace(emoji, \" \" + emojis[emoji].split(\":\")[0])\n",
        "\n",
        "    return text\n",
        "\n",
        "# Apply the function to the input sentence\n",
        "sentence_without_emoji = replace_emojis(input_text)"
      ],
      "metadata": {
        "id": "1KGk3Bqgc99W",
        "colab": {
          "base_uri": "https://localhost:8080/"
        },
        "outputId": "1acfd928-dcd6-4d7c-ee1c-cc9d2fc4bc0f"
      },
      "execution_count": 64,
      "outputs": [
        {
          "output_type": "stream",
          "name": "stderr",
          "text": [
            "<ipython-input-64-a1616bdffc47>:2: FutureWarning: The demoji.download_codes attribute is deprecated and will be removed from demoji in a future version. It is an unused attribute as emoji codes are now distributed directly with the demoji package.\n",
            "  demoji.download_codes()\n"
          ]
        }
      ]
    },
    {
      "cell_type": "code",
      "source": [
        "print(\"Sentence without emojis:\", sentence_without_emoji)"
      ],
      "metadata": {
        "colab": {
          "base_uri": "https://localhost:8080/"
        },
        "id": "aR-xF5cfXP6Q",
        "outputId": "0cb78d1a-2f90-4451-866a-4c7ff5844f3f"
      },
      "execution_count": 65,
      "outputs": [
        {
          "output_type": "stream",
          "name": "stdout",
          "text": [
            "Sentence without emojis: The price is good but quality is bad and design is neutral\n"
          ]
        }
      ]
    },
    {
      "cell_type": "code",
      "source": [
        "import re\n",
        "\n",
        "# Download NLTK resources (only required once)\n",
        "nltk.download('punkt')\n",
        "nltk.download('stopwords')\n",
        "nltk.download('wordnet')\n",
        "\n",
        "# Define a function to remove symbols\n",
        "def remove_symbols(text):\n",
        "    # Lowercase the text\n",
        "    text = text.lower()\n",
        "\n",
        "    # Define the pattern to match the symbols you want to remove\n",
        "    pattern = r'[-,\"\\'’\\.!:;…_+=@#$%^&*{\\[()\\]}]'\n",
        "\n",
        "    # Remove the symbols using regular expressions\n",
        "    text = re.sub(pattern, ' ', text)\n",
        "\n",
        "    return text\n",
        "\n",
        "# Apply the symbol removal function to the sentence without emoji\n",
        "sentence_without_symbols = remove_symbols(sentence_without_emoji)\n"
      ],
      "metadata": {
        "colab": {
          "base_uri": "https://localhost:8080/"
        },
        "id": "e_a-DTRHXHew",
        "outputId": "184acef6-cc19-4105-d6f9-e490679f9df7"
      },
      "execution_count": 66,
      "outputs": [
        {
          "output_type": "stream",
          "name": "stderr",
          "text": [
            "[nltk_data] Downloading package punkt to /root/nltk_data...\n",
            "[nltk_data]   Package punkt is already up-to-date!\n",
            "[nltk_data] Downloading package stopwords to /root/nltk_data...\n",
            "[nltk_data]   Package stopwords is already up-to-date!\n",
            "[nltk_data] Downloading package wordnet to /root/nltk_data...\n",
            "[nltk_data]   Package wordnet is already up-to-date!\n"
          ]
        }
      ]
    },
    {
      "cell_type": "code",
      "source": [
        "print(\"Sentence without symbols:\", sentence_without_symbols)"
      ],
      "metadata": {
        "colab": {
          "base_uri": "https://localhost:8080/"
        },
        "id": "LyLv_K7lXhWd",
        "outputId": "ebfbe1df-3245-4ee1-f296-49dd6548da81"
      },
      "execution_count": 67,
      "outputs": [
        {
          "output_type": "stream",
          "name": "stdout",
          "text": [
            "Sentence without symbols: the price is good but quality is bad and design is neutral\n"
          ]
        }
      ]
    },
    {
      "cell_type": "code",
      "source": [
        "from nltk.corpus import stopwords\n",
        "from nltk.stem import WordNetLemmatizer\n",
        "from nltk.tokenize import word_tokenize\n",
        "\n",
        "# Initialize lemmatizer\n",
        "lemmatizer = WordNetLemmatizer()\n",
        "\n",
        "# Define a function to preprocess the text\n",
        "def preprocess_text(text):\n",
        "    # Tokenize the text into individual words\n",
        "    tokens = word_tokenize(text)\n",
        "\n",
        "    # Remove stop words\n",
        "    stop_words = set(stopwords.words('english'))\n",
        "    tokens = [token for token in tokens if token not in stop_words]\n",
        "\n",
        "    # Lemmatize the tokens\n",
        "    lemmatized_tokens = [lemmatizer.lemmatize(token) for token in tokens]\n",
        "\n",
        "    # Join the tokens back into a single string\n",
        "    preprocessed_text = ' '.join(lemmatized_tokens)\n",
        "\n",
        "    return preprocessed_text\n",
        "\n",
        "# Apply the preprocessing function to the sentence without symbols\n",
        "preprocessed_sentence = preprocess_text(sentence_without_symbols)\n"
      ],
      "metadata": {
        "id": "Cvf42nJ4Xa_f"
      },
      "execution_count": 68,
      "outputs": []
    },
    {
      "cell_type": "code",
      "source": [
        "print(\"Preprocessed Sentence:\", preprocessed_sentence)"
      ],
      "metadata": {
        "colab": {
          "base_uri": "https://localhost:8080/"
        },
        "id": "FJ7PoYg5XjfS",
        "outputId": "f4c75740-3be0-4f95-bf39-44cbc9d1999a"
      },
      "execution_count": 69,
      "outputs": [
        {
          "output_type": "stream",
          "name": "stdout",
          "text": [
            "Preprocessed Sentence: price good quality bad design neutral\n"
          ]
        }
      ]
    },
    {
      "cell_type": "code",
      "source": [
        "import nltk\n",
        "import torch\n",
        "import pandas as pd\n",
        "import spacy\n",
        "from nltk.tokenize import sent_tokenize\n",
        "from transformers import T5Tokenizer, T5ForConditionalGeneration, AutoTokenizer, AutoModelForSequenceClassification, BertForSequenceClassification, BertTokenizer\n",
        "\n",
        "nltk.download(\"punkt\")\n",
        "\n",
        "tokenizer = T5Tokenizer.from_pretrained(\"flax-community/t5-base-wikisplit\")\n",
        "model = T5ForConditionalGeneration.from_pretrained(\"flax-community/t5-base-wikisplit\")\n",
        "\n",
        "def add_full_stop(text):\n",
        "    last_character = text[-1]\n",
        "    if last_character != \".\":\n",
        "        text += \"\"\n",
        "    return text\n",
        "\n",
        "input_sentence = add_full_stop(sentence_without_symbols)\n",
        "\n",
        "encoder_max_length = 256\n",
        "decoder_max_length = 256\n",
        "\n",
        "complex_tokenized = tokenizer(input_sentence,\n",
        "                              padding=\"max_length\",\n",
        "                              truncation=True,\n",
        "                              max_length=encoder_max_length,\n",
        "                              return_tensors='pt')\n",
        "\n",
        "simple_tokenized = model.generate(complex_tokenized['input_ids'], attention_mask=complex_tokenized['attention_mask'], max_length=decoder_max_length, num_beams=5)\n",
        "simple_sentences = tokenizer.batch_decode(simple_tokenized, skip_special_tokens=True, clean_up_tokenization_spaces=True)\n",
        "\n",
        "nlp = spacy.load(\"en_core_web_sm\")\n",
        "\n",
        "conjunctive_words = ['and', 'but', 'or', 'so', 'yet', 'for', 'nor']\n",
        "\n",
        "if len(simple_sentences) > 0:\n",
        "    input_sentence = simple_sentences[0]\n",
        "    sentences = list(nlp(input_sentence).sents)\n",
        "    output_sentences = []\n",
        "    for sentence in sentences:\n",
        "        sub_sentences = [sentence.text]\n",
        "        for conjunctive_word in conjunctive_words:\n",
        "            temp_sentences = []\n",
        "            for sub_sentence in sub_sentences:\n",
        "                temp_sentences.extend(sub_sentence.split(conjunctive_word))\n",
        "            sub_sentences = temp_sentences\n",
        "        for sub_sentence in sub_sentences:\n",
        "            output_sentence = add_full_stop(sub_sentence)\n",
        "            output_sentences.append(output_sentence)\n",
        "\n",
        "    input_statements = [statement.strip() for statement in output_sentences if statement.strip()]\n",
        "    print(input_statements)\n",
        "else:\n",
        "    input_sentence = \"\"\n"
      ],
      "metadata": {
        "id": "5rKwlNyDryiV",
        "outputId": "6bf579da-bf06-4c89-e0b9-da9b2e0adfa7",
        "colab": {
          "base_uri": "https://localhost:8080/"
        }
      },
      "execution_count": 70,
      "outputs": [
        {
          "output_type": "stream",
          "name": "stderr",
          "text": [
            "[nltk_data] Downloading package punkt to /root/nltk_data...\n",
            "[nltk_data]   Package punkt is already up-to-date!\n",
            "Special tokens have been added in the vocabulary, make sure the associated word embeddings are fine-tuned or trained.\n"
          ]
        },
        {
          "output_type": "stream",
          "name": "stdout",
          "text": [
            "['The price is good', 'quality is bad', 'design is neutral.']\n"
          ]
        }
      ]
    },
    {
      "cell_type": "code",
      "source": [
        "class SentimentAnalysisModel:\n",
        "    def __init__(self, tokenizer, model):\n",
        "        self.tokenizer = tokenizer\n",
        "        self.model = model\n",
        "\n",
        "    def predict_sentiment(self, aspect_sentence):\n",
        "        inputs = self.tokenizer.encode_plus(aspect_sentence, add_special_tokens=True, return_tensors=\"pt\")\n",
        "        input_ids = inputs[\"input_ids\"]\n",
        "        attention_mask = inputs[\"attention_mask\"]\n",
        "\n",
        "        with torch.no_grad():\n",
        "            outputs = self.model(input_ids, attention_mask=attention_mask)\n",
        "            logits = outputs.logits\n",
        "\n",
        "        probabilities = torch.softmax(logits, dim=1)\n",
        "        sentiment_score = probabilities[0][1].item()  # Positive sentiment score\n",
        "        return sentiment_score\n",
        "\n",
        "    def assign_sentiment_label(self, sentiment_score):\n",
        "        if sentiment_score >= 0.99983:\n",
        "            sentiment_label = 'very good'\n",
        "        elif sentiment_score >= 0.999:\n",
        "            sentiment_label = 'good'\n",
        "        elif sentiment_score > 0.001:\n",
        "            sentiment_label = 'neutral'\n",
        "        elif sentiment_score > 0.0002:\n",
        "            sentiment_label = 'bad'\n",
        "        else:\n",
        "            sentiment_label = 'poor'\n",
        "        return sentiment_label\n",
        "\n",
        "# Load tokenizer and model for aspect sentiment analysis\n",
        "aspect_tokenizer = AutoTokenizer.from_pretrained(\"distilbert-base-uncased-finetuned-sst-2-english\")\n",
        "aspect_model = AutoModelForSequenceClassification.from_pretrained(\"distilbert-base-uncased-finetuned-sst-2-english\")\n",
        "\n",
        "# Load tokenizer and model for aspect classification\n",
        "classification_model = BertForSequenceClassification.from_pretrained('/content/drive/MyDrive/zidan/finetuned_bert', num_labels=7)\n",
        "classification_tokenizer = BertTokenizer.from_pretrained('/content/drive/MyDrive/zidan/finetuned_bert', do_lower_case=True)\n",
        "\n",
        "# Create sentiment analysis model instance for aspect sentiment analysis\n",
        "sentiment_analysis_model = SentimentAnalysisModel(aspect_tokenizer, aspect_model)\n",
        "\n",
        "# Define aspect labels\n",
        "aspect_labels = [\"price\", \"quality\", \"delivery cost\", \"packaging\", \"design\", \"customer service\", \"usability\"]\n",
        "\n",
        "# Step 1: Classify the aspect\n",
        "encoded_inputs = classification_tokenizer.batch_encode_plus(\n",
        "    input_statements,\n",
        "    padding=True,\n",
        "    truncation=True,\n",
        "    return_tensors=\"pt\",\n",
        "    max_length=512\n",
        ")\n",
        "\n",
        "with torch.no_grad():\n",
        "    classification_model.eval()\n",
        "    outputs = classification_model(**encoded_inputs)\n",
        "    predicted_labels = outputs.logits\n",
        "\n",
        "predicted_labels = (torch.sigmoid(predicted_labels) > 0.5).to(torch.int).tolist()\n",
        "\n",
        "# Create DataFrame with input statements, aspect labels, and predicted labels\n",
        "df_data = {\"Statement\": input_statements}\n",
        "for i, aspect_label in enumerate(aspect_labels):\n",
        "    df_data[aspect_label] = [label[i] for label in predicted_labels]\n",
        "\n",
        "df = pd.DataFrame(df_data)\n",
        "\n",
        "df"
      ],
      "metadata": {
        "id": "7SvqwUrtr8H0",
        "outputId": "6f5d2eaa-20d1-47ae-fdff-b803ecd781f0",
        "colab": {
          "base_uri": "https://localhost:8080/",
          "height": 143
        }
      },
      "execution_count": 71,
      "outputs": [
        {
          "output_type": "execute_result",
          "data": {
            "text/plain": [
              "            Statement  price  quality  delivery cost  packaging  design  \\\n",
              "0   The price is good      1        0              0          0       0   \n",
              "1      quality is bad      0        1              0          0       0   \n",
              "2  design is neutral.      0        0              0          0       1   \n",
              "\n",
              "   customer service  usability  \n",
              "0                 0          0  \n",
              "1                 0          0  \n",
              "2                 0          0  "
            ],
            "text/html": [
              "\n",
              "  <div id=\"df-43d24a8d-2662-4644-a7ef-d435423164fc\">\n",
              "    <div class=\"colab-df-container\">\n",
              "      <div>\n",
              "<style scoped>\n",
              "    .dataframe tbody tr th:only-of-type {\n",
              "        vertical-align: middle;\n",
              "    }\n",
              "\n",
              "    .dataframe tbody tr th {\n",
              "        vertical-align: top;\n",
              "    }\n",
              "\n",
              "    .dataframe thead th {\n",
              "        text-align: right;\n",
              "    }\n",
              "</style>\n",
              "<table border=\"1\" class=\"dataframe\">\n",
              "  <thead>\n",
              "    <tr style=\"text-align: right;\">\n",
              "      <th></th>\n",
              "      <th>Statement</th>\n",
              "      <th>price</th>\n",
              "      <th>quality</th>\n",
              "      <th>delivery cost</th>\n",
              "      <th>packaging</th>\n",
              "      <th>design</th>\n",
              "      <th>customer service</th>\n",
              "      <th>usability</th>\n",
              "    </tr>\n",
              "  </thead>\n",
              "  <tbody>\n",
              "    <tr>\n",
              "      <th>0</th>\n",
              "      <td>The price is good</td>\n",
              "      <td>1</td>\n",
              "      <td>0</td>\n",
              "      <td>0</td>\n",
              "      <td>0</td>\n",
              "      <td>0</td>\n",
              "      <td>0</td>\n",
              "      <td>0</td>\n",
              "    </tr>\n",
              "    <tr>\n",
              "      <th>1</th>\n",
              "      <td>quality is bad</td>\n",
              "      <td>0</td>\n",
              "      <td>1</td>\n",
              "      <td>0</td>\n",
              "      <td>0</td>\n",
              "      <td>0</td>\n",
              "      <td>0</td>\n",
              "      <td>0</td>\n",
              "    </tr>\n",
              "    <tr>\n",
              "      <th>2</th>\n",
              "      <td>design is neutral.</td>\n",
              "      <td>0</td>\n",
              "      <td>0</td>\n",
              "      <td>0</td>\n",
              "      <td>0</td>\n",
              "      <td>1</td>\n",
              "      <td>0</td>\n",
              "      <td>0</td>\n",
              "    </tr>\n",
              "  </tbody>\n",
              "</table>\n",
              "</div>\n",
              "      <button class=\"colab-df-convert\" onclick=\"convertToInteractive('df-43d24a8d-2662-4644-a7ef-d435423164fc')\"\n",
              "              title=\"Convert this dataframe to an interactive table.\"\n",
              "              style=\"display:none;\">\n",
              "        \n",
              "  <svg xmlns=\"http://www.w3.org/2000/svg\" height=\"24px\"viewBox=\"0 0 24 24\"\n",
              "       width=\"24px\">\n",
              "    <path d=\"M0 0h24v24H0V0z\" fill=\"none\"/>\n",
              "    <path d=\"M18.56 5.44l.94 2.06.94-2.06 2.06-.94-2.06-.94-.94-2.06-.94 2.06-2.06.94zm-11 1L8.5 8.5l.94-2.06 2.06-.94-2.06-.94L8.5 2.5l-.94 2.06-2.06.94zm10 10l.94 2.06.94-2.06 2.06-.94-2.06-.94-.94-2.06-.94 2.06-2.06.94z\"/><path d=\"M17.41 7.96l-1.37-1.37c-.4-.4-.92-.59-1.43-.59-.52 0-1.04.2-1.43.59L10.3 9.45l-7.72 7.72c-.78.78-.78 2.05 0 2.83L4 21.41c.39.39.9.59 1.41.59.51 0 1.02-.2 1.41-.59l7.78-7.78 2.81-2.81c.8-.78.8-2.07 0-2.86zM5.41 20L4 18.59l7.72-7.72 1.47 1.35L5.41 20z\"/>\n",
              "  </svg>\n",
              "      </button>\n",
              "      \n",
              "  <style>\n",
              "    .colab-df-container {\n",
              "      display:flex;\n",
              "      flex-wrap:wrap;\n",
              "      gap: 12px;\n",
              "    }\n",
              "\n",
              "    .colab-df-convert {\n",
              "      background-color: #E8F0FE;\n",
              "      border: none;\n",
              "      border-radius: 50%;\n",
              "      cursor: pointer;\n",
              "      display: none;\n",
              "      fill: #1967D2;\n",
              "      height: 32px;\n",
              "      padding: 0 0 0 0;\n",
              "      width: 32px;\n",
              "    }\n",
              "\n",
              "    .colab-df-convert:hover {\n",
              "      background-color: #E2EBFA;\n",
              "      box-shadow: 0px 1px 2px rgba(60, 64, 67, 0.3), 0px 1px 3px 1px rgba(60, 64, 67, 0.15);\n",
              "      fill: #174EA6;\n",
              "    }\n",
              "\n",
              "    [theme=dark] .colab-df-convert {\n",
              "      background-color: #3B4455;\n",
              "      fill: #D2E3FC;\n",
              "    }\n",
              "\n",
              "    [theme=dark] .colab-df-convert:hover {\n",
              "      background-color: #434B5C;\n",
              "      box-shadow: 0px 1px 3px 1px rgba(0, 0, 0, 0.15);\n",
              "      filter: drop-shadow(0px 1px 2px rgba(0, 0, 0, 0.3));\n",
              "      fill: #FFFFFF;\n",
              "    }\n",
              "  </style>\n",
              "\n",
              "      <script>\n",
              "        const buttonEl =\n",
              "          document.querySelector('#df-43d24a8d-2662-4644-a7ef-d435423164fc button.colab-df-convert');\n",
              "        buttonEl.style.display =\n",
              "          google.colab.kernel.accessAllowed ? 'block' : 'none';\n",
              "\n",
              "        async function convertToInteractive(key) {\n",
              "          const element = document.querySelector('#df-43d24a8d-2662-4644-a7ef-d435423164fc');\n",
              "          const dataTable =\n",
              "            await google.colab.kernel.invokeFunction('convertToInteractive',\n",
              "                                                     [key], {});\n",
              "          if (!dataTable) return;\n",
              "\n",
              "          const docLinkHtml = 'Like what you see? Visit the ' +\n",
              "            '<a target=\"_blank\" href=https://colab.research.google.com/notebooks/data_table.ipynb>data table notebook</a>'\n",
              "            + ' to learn more about interactive tables.';\n",
              "          element.innerHTML = '';\n",
              "          dataTable['output_type'] = 'display_data';\n",
              "          await google.colab.output.renderOutput(dataTable, element);\n",
              "          const docLink = document.createElement('div');\n",
              "          docLink.innerHTML = docLinkHtml;\n",
              "          element.appendChild(docLink);\n",
              "        }\n",
              "      </script>\n",
              "    </div>\n",
              "  </div>\n",
              "  "
            ]
          },
          "metadata": {},
          "execution_count": 71
        }
      ]
    },
    {
      "cell_type": "code",
      "source": [
        "# Step 2: Perform sentiment analysis for each aspect\n",
        "aspect_sentiment_labels = {}\n",
        "aspect_sentiment_scores = {}\n",
        "\n",
        "for aspect_label in aspect_labels:\n",
        "    aspect_sentiment_labels[aspect_label] = []\n",
        "    aspect_sentiment_scores[aspect_label] = []\n",
        "\n",
        "for statement_index, statement in enumerate(input_statements):\n",
        "    for aspect_index, aspect_label in enumerate(aspect_labels):\n",
        "        if predicted_labels[statement_index][aspect_index] == 1:\n",
        "            sentiment_score = sentiment_analysis_model.predict_sentiment(statement)\n",
        "            sentiment_label = sentiment_analysis_model.assign_sentiment_label(sentiment_score)\n",
        "            aspect_sentiment_labels[aspect_label].append(sentiment_label)\n",
        "            aspect_sentiment_scores[aspect_label].append(sentiment_score)\n",
        "        else:\n",
        "            aspect_sentiment_labels[aspect_label].append(\"-\")\n",
        "            aspect_sentiment_scores[aspect_label].append(\"-\")\n",
        "\n",
        "# Calculate the average sentiment score for each aspect\n",
        "overall_sentiment_scores = []\n",
        "for aspect_label in aspect_labels:\n",
        "    numeric_scores = [score for score in aspect_sentiment_scores[aspect_label] if isinstance(score, float)]\n",
        "    if numeric_scores:\n",
        "        aspect_sentiment_scores[aspect_label] = sum(numeric_scores) / len(numeric_scores)\n",
        "    else:\n",
        "        aspect_sentiment_scores[aspect_label] = \"-\"\n",
        "\n",
        "# Calculate the overall sentiment label and score for the input sentence\n",
        "numeric_scores = [score for score in aspect_sentiment_scores.values() if isinstance(score, float)]\n",
        "if numeric_scores:\n",
        "    overall_sentiment_score = sum(numeric_scores) / len(numeric_scores)\n",
        "    overall_sentiment_label = sentiment_analysis_model.assign_sentiment_label(overall_sentiment_score)\n",
        "else:\n",
        "    overall_sentiment_score = \"-\"\n",
        "    overall_sentiment_label = \"-\"\n",
        "\n",
        "# Create DataFrame from the result data\n",
        "result_data = {\n",
        "    \"Review\": input_sentence,\n",
        "    \"Overall Sentiment Score\": overall_sentiment_score,\n",
        "    \"Overall Sentiment Label\": overall_sentiment_label,\n",
        "}\n",
        "# Calculate the average sentiment label for each aspect\n",
        "average_sentiment_labels = {}\n",
        "for aspect_label in aspect_labels:\n",
        "    sentiment_labels = [label for label in aspect_sentiment_labels[aspect_label] if label != \"-\"]\n",
        "    if sentiment_labels:\n",
        "        average_sentiment_labels[aspect_label] = max(set(sentiment_labels), key=sentiment_labels.count)\n",
        "    else:\n",
        "        average_sentiment_labels[aspect_label] = \"-\"\n",
        "\n",
        "# Create a dictionary to store the result data\n",
        "result_data = {\n",
        "    \"Review\": [input_text],\n",
        "    \"price\": [average_sentiment_labels[\"price\"]],\n",
        "    \"quality\": [average_sentiment_labels[\"quality\"]],\n",
        "    \"delivery cost\": [average_sentiment_labels[\"delivery cost\"]],\n",
        "    \"packaging\": [average_sentiment_labels[\"packaging\"]],\n",
        "    \"design\": [average_sentiment_labels[\"design\"]],\n",
        "    \"customer service\": [average_sentiment_labels[\"customer service\"]],\n",
        "    \"usability\": [average_sentiment_labels[\"usability\"]],\n",
        "    \"Overall Sentiment Score\": [overall_sentiment_score],\n",
        "    \"Overall Sentiment Label\": [overall_sentiment_label],\n",
        "}\n",
        "\n",
        "# Create DataFrame from the result data with the desired column order\n",
        "result_df = pd.DataFrame(result_data, columns=[\"Review\", \"price\", \"quality\", \"delivery cost\",\"packaging\",\n",
        "                                               \"design\", \"customer service\", \"usability\",\n",
        "                                               \"Overall Sentiment Score\", \"Overall Sentiment Label\"])\n",
        "\n",
        "# Print the result\n",
        "result_df"
      ],
      "metadata": {
        "id": "fWQH2YwcsSGY",
        "outputId": "d0b00c7c-2bc4-44d7-d876-3dd648c33bd1",
        "colab": {
          "base_uri": "https://localhost:8080/",
          "height": 81
        }
      },
      "execution_count": 72,
      "outputs": [
        {
          "output_type": "execute_result",
          "data": {
            "text/plain": [
              "                                              Review price quality  \\\n",
              "0  The price is good but quality is bad and desig...  good     bad   \n",
              "\n",
              "  delivery cost packaging   design customer service usability  \\\n",
              "0             -         -  neutral                -         -   \n",
              "\n",
              "   Overall Sentiment Score Overall Sentiment Label  \n",
              "0                 0.335306                 neutral  "
            ],
            "text/html": [
              "\n",
              "  <div id=\"df-1a5cbb14-3ef8-466e-a503-97f28706a42f\">\n",
              "    <div class=\"colab-df-container\">\n",
              "      <div>\n",
              "<style scoped>\n",
              "    .dataframe tbody tr th:only-of-type {\n",
              "        vertical-align: middle;\n",
              "    }\n",
              "\n",
              "    .dataframe tbody tr th {\n",
              "        vertical-align: top;\n",
              "    }\n",
              "\n",
              "    .dataframe thead th {\n",
              "        text-align: right;\n",
              "    }\n",
              "</style>\n",
              "<table border=\"1\" class=\"dataframe\">\n",
              "  <thead>\n",
              "    <tr style=\"text-align: right;\">\n",
              "      <th></th>\n",
              "      <th>Review</th>\n",
              "      <th>price</th>\n",
              "      <th>quality</th>\n",
              "      <th>delivery cost</th>\n",
              "      <th>packaging</th>\n",
              "      <th>design</th>\n",
              "      <th>customer service</th>\n",
              "      <th>usability</th>\n",
              "      <th>Overall Sentiment Score</th>\n",
              "      <th>Overall Sentiment Label</th>\n",
              "    </tr>\n",
              "  </thead>\n",
              "  <tbody>\n",
              "    <tr>\n",
              "      <th>0</th>\n",
              "      <td>The price is good but quality is bad and desig...</td>\n",
              "      <td>good</td>\n",
              "      <td>bad</td>\n",
              "      <td>-</td>\n",
              "      <td>-</td>\n",
              "      <td>neutral</td>\n",
              "      <td>-</td>\n",
              "      <td>-</td>\n",
              "      <td>0.335306</td>\n",
              "      <td>neutral</td>\n",
              "    </tr>\n",
              "  </tbody>\n",
              "</table>\n",
              "</div>\n",
              "      <button class=\"colab-df-convert\" onclick=\"convertToInteractive('df-1a5cbb14-3ef8-466e-a503-97f28706a42f')\"\n",
              "              title=\"Convert this dataframe to an interactive table.\"\n",
              "              style=\"display:none;\">\n",
              "        \n",
              "  <svg xmlns=\"http://www.w3.org/2000/svg\" height=\"24px\"viewBox=\"0 0 24 24\"\n",
              "       width=\"24px\">\n",
              "    <path d=\"M0 0h24v24H0V0z\" fill=\"none\"/>\n",
              "    <path d=\"M18.56 5.44l.94 2.06.94-2.06 2.06-.94-2.06-.94-.94-2.06-.94 2.06-2.06.94zm-11 1L8.5 8.5l.94-2.06 2.06-.94-2.06-.94L8.5 2.5l-.94 2.06-2.06.94zm10 10l.94 2.06.94-2.06 2.06-.94-2.06-.94-.94-2.06-.94 2.06-2.06.94z\"/><path d=\"M17.41 7.96l-1.37-1.37c-.4-.4-.92-.59-1.43-.59-.52 0-1.04.2-1.43.59L10.3 9.45l-7.72 7.72c-.78.78-.78 2.05 0 2.83L4 21.41c.39.39.9.59 1.41.59.51 0 1.02-.2 1.41-.59l7.78-7.78 2.81-2.81c.8-.78.8-2.07 0-2.86zM5.41 20L4 18.59l7.72-7.72 1.47 1.35L5.41 20z\"/>\n",
              "  </svg>\n",
              "      </button>\n",
              "      \n",
              "  <style>\n",
              "    .colab-df-container {\n",
              "      display:flex;\n",
              "      flex-wrap:wrap;\n",
              "      gap: 12px;\n",
              "    }\n",
              "\n",
              "    .colab-df-convert {\n",
              "      background-color: #E8F0FE;\n",
              "      border: none;\n",
              "      border-radius: 50%;\n",
              "      cursor: pointer;\n",
              "      display: none;\n",
              "      fill: #1967D2;\n",
              "      height: 32px;\n",
              "      padding: 0 0 0 0;\n",
              "      width: 32px;\n",
              "    }\n",
              "\n",
              "    .colab-df-convert:hover {\n",
              "      background-color: #E2EBFA;\n",
              "      box-shadow: 0px 1px 2px rgba(60, 64, 67, 0.3), 0px 1px 3px 1px rgba(60, 64, 67, 0.15);\n",
              "      fill: #174EA6;\n",
              "    }\n",
              "\n",
              "    [theme=dark] .colab-df-convert {\n",
              "      background-color: #3B4455;\n",
              "      fill: #D2E3FC;\n",
              "    }\n",
              "\n",
              "    [theme=dark] .colab-df-convert:hover {\n",
              "      background-color: #434B5C;\n",
              "      box-shadow: 0px 1px 3px 1px rgba(0, 0, 0, 0.15);\n",
              "      filter: drop-shadow(0px 1px 2px rgba(0, 0, 0, 0.3));\n",
              "      fill: #FFFFFF;\n",
              "    }\n",
              "  </style>\n",
              "\n",
              "      <script>\n",
              "        const buttonEl =\n",
              "          document.querySelector('#df-1a5cbb14-3ef8-466e-a503-97f28706a42f button.colab-df-convert');\n",
              "        buttonEl.style.display =\n",
              "          google.colab.kernel.accessAllowed ? 'block' : 'none';\n",
              "\n",
              "        async function convertToInteractive(key) {\n",
              "          const element = document.querySelector('#df-1a5cbb14-3ef8-466e-a503-97f28706a42f');\n",
              "          const dataTable =\n",
              "            await google.colab.kernel.invokeFunction('convertToInteractive',\n",
              "                                                     [key], {});\n",
              "          if (!dataTable) return;\n",
              "\n",
              "          const docLinkHtml = 'Like what you see? Visit the ' +\n",
              "            '<a target=\"_blank\" href=https://colab.research.google.com/notebooks/data_table.ipynb>data table notebook</a>'\n",
              "            + ' to learn more about interactive tables.';\n",
              "          element.innerHTML = '';\n",
              "          dataTable['output_type'] = 'display_data';\n",
              "          await google.colab.output.renderOutput(dataTable, element);\n",
              "          const docLink = document.createElement('div');\n",
              "          docLink.innerHTML = docLinkHtml;\n",
              "          element.appendChild(docLink);\n",
              "        }\n",
              "      </script>\n",
              "    </div>\n",
              "  </div>\n",
              "  "
            ]
          },
          "metadata": {},
          "execution_count": 72
        }
      ]
    }
  ]
}